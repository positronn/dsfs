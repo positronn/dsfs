{
 "cells": [
  {
   "cell_type": "markdown",
   "id": "149a413a-2cc4-4f3d-853d-1639a6a65b73",
   "metadata": {},
   "source": [
    "# 01 Introduction"
   ]
  },
  {
   "cell_type": "code",
   "execution_count": 3,
   "id": "823b398d-5923-4131-9650-7777cb48550c",
   "metadata": {},
   "outputs": [],
   "source": [
    "# users ids and names\n",
    "users = [\n",
    "    {'id': 0, 'name': 'Hero'},\n",
    "    {'id': 1, 'name': 'Dunn'},\n",
    "    {'id': 2, 'name': 'Sue'},\n",
    "    {'id': 3, 'name': 'Chi'},\n",
    "    {'id': 4, 'name': 'Thor'},\n",
    "    {'id': 5, 'name': 'Clive'},\n",
    "    {'id': 6, 'name': 'Hicks'},\n",
    "    {'id': 7, 'name': 'Devin'},\n",
    "    {'id': 8, 'name': 'Kate'},\n",
    "    {'id': 9, 'name': 'Klein'}\n",
    "]"
   ]
  },
  {
   "cell_type": "code",
   "execution_count": 4,
   "id": "032796ca-97e8-441c-a223-c90a2a6d4168",
   "metadata": {},
   "outputs": [],
   "source": [
    "# friendship data of users\n",
    "frienship_pairs = [\n",
    "    (0, 1), (0, 2), (1, 2), (1, 3), (2, 3), (3, 4),\n",
    "    (4, 5), (5, 6), (5, 7), (6, 8), (7, 8), (8, 9),\n",
    "]"
   ]
  },
  {
   "cell_type": "markdown",
   "id": "9b338e5d-fd4f-4c1c-aaff-55b7debfa90c",
   "metadata": {},
   "source": [
    "Having frienships representas as a lsit of pairs is not the easiest\n",
    "way to work with them. To find all the friendshis for user1, you have to iterate\n",
    "over every pair looking for pairs containing 1. If you had a lot of pairs,\n",
    "this would take long time.\n",
    "\n",
    "Instead, let's create a `dict` where the keys are user `ids` and the valies\n",
    "are lists of frien `ids`.\n",
    "\n",
    "We'll still have to look at every pair to create the `dict`, but we only have to\n",
    "do that once, and we'll get cheap lookups after that:"
   ]
  },
  {
   "cell_type": "code",
   "execution_count": 5,
   "id": "839bb4f8-58ea-481b-9c21-be12040605bf",
   "metadata": {},
   "outputs": [],
   "source": [
    "# initiliaze the dict with an empty lust for each user id:\n",
    "friendships = {user['id']: [] for user in users}\n",
    "\n",
    "# and loop over the frienship pairs to populate it:\n",
    "for i, j in frienship_pairs:\n",
    "    friendships[i].append(j)\n",
    "    friendships[j].append(i)"
   ]
  },
  {
   "cell_type": "markdown",
   "id": "be4c6270-d521-477a-a5b2-1a498da20fd6",
   "metadata": {},
   "source": [
    "Now we can ask ourselves some questions like:\n",
    "\n",
    "\"Whats the average number of connections?\"\n",
    "\n",
    "First we find the toal numbe rof connections, by summing up the lengths\n",
    "of the `friends` lists"
   ]
  },
  {
   "cell_type": "code",
   "execution_count": 6,
   "id": "17aa4559-aa50-4183-8be5-8e8ddea9909f",
   "metadata": {},
   "outputs": [],
   "source": [
    "def number_of_friends(user):\n",
    "    \"\"\"How many friends does `user` have?\"\"\"\n",
    "    user_id = user['id']\n",
    "    friend_ids = friendships[user_id]\n",
    "    return len(friend_ids)\n",
    "\n",
    "total_connections = sum(number_of_friends(user) for user in users)"
   ]
  },
  {
   "cell_type": "code",
   "execution_count": 7,
   "id": "b4d5abf4-7504-4119-871e-2675168944c9",
   "metadata": {},
   "outputs": [
    {
     "data": {
      "text/plain": [
       "2.4"
      ]
     },
     "execution_count": 7,
     "metadata": {},
     "output_type": "execute_result"
    }
   ],
   "source": [
    "# then we divide by the number of users\n",
    "num_users = len(users)\n",
    "avg_connections = total_connections / num_users\n",
    "avg_connections"
   ]
  },
  {
   "cell_type": "markdown",
   "id": "f27fa1a3-f3ba-416b-a633-82584919b60e",
   "metadata": {},
   "source": [
    "It’s also easy to find the most connected people—they’re the people who have the largest numbers of friends.\n",
    "Since there aren’t very many users, we can simply sort them from “most friends” to “least friends”:"
   ]
  },
  {
   "cell_type": "code",
   "execution_count": 8,
   "id": "7f5bd393-cb09-4389-ae6a-83274c5f200d",
   "metadata": {},
   "outputs": [
    {
     "data": {
      "text/plain": [
       "[(1, 3),\n",
       " (2, 3),\n",
       " (3, 3),\n",
       " (5, 3),\n",
       " (8, 3),\n",
       " (0, 2),\n",
       " (4, 2),\n",
       " (6, 2),\n",
       " (7, 2),\n",
       " (9, 1)]"
      ]
     },
     "execution_count": 8,
     "metadata": {},
     "output_type": "execute_result"
    }
   ],
   "source": [
    "# create a list (user_id, nomber_of_friends)\n",
    "num_friends_by_id = [(user['id'], number_of_friends(user)) for user in users]\n",
    "num_friends_by_id.sort(\n",
    "    key = lambda id_and_friends: id_and_friends[1],\n",
    "    reverse = True\n",
    ")\n",
    "\n",
    "num_friends_by_id"
   ]
  },
  {
   "cell_type": "markdown",
   "id": "c5164e22-ade8-4473-84e3-0f43408dec0a",
   "metadata": {},
   "source": [
    "One way to think of what we’ve done is as a way of identifying people who are somehow central to the network.\n",
    "In fact, what we’ve just computed is the network metric `degree centrality`"
   ]
  },
  {
   "cell_type": "markdown",
   "id": "e1aca74a-9342-4c9a-9eef-45c2c1c2696d",
   "metadata": {},
   "source": [
    "### Design a “Data Scientists You May Know” suggester."
   ]
  },
  {
   "cell_type": "markdown",
   "id": "ad1f3157-b9ba-4f0a-8424-1f8cfcffac01",
   "metadata": {},
   "source": [
    "Your __first instinct__ is to suggest that users might know the friends of their friends. So you write some code to iterate over their friends and collect the friends’ friends:"
   ]
  },
  {
   "cell_type": "code",
   "execution_count": 9,
   "id": "f7d0e27f-869f-4c23-810a-08350dd8d346",
   "metadata": {},
   "outputs": [],
   "source": [
    "def foaf_ids_bad(user):\n",
    "    \"\"\"foaf is short for friend of a friend\"\"\"\n",
    "    return [foaf_id for friend_id in friendships[user['id']]\n",
    "                        for foaf_id in friendships[friend_id]]"
   ]
  },
  {
   "cell_type": "code",
   "execution_count": 10,
   "id": "b815881f-931d-42ff-984b-3c868ba93e6a",
   "metadata": {},
   "outputs": [
    {
     "data": {
      "text/plain": [
       "[0, 2, 3, 0, 1, 3]"
      ]
     },
     "execution_count": 10,
     "metadata": {},
     "output_type": "execute_result"
    }
   ],
   "source": [
    "# call for id = 0, name: 'Hero'\n",
    "foaf_ids_bad(users[0])"
   ]
  },
  {
   "cell_type": "markdown",
   "id": "a9a4fda6-e544-4127-a298-5413a5d18243",
   "metadata": {},
   "source": [
    "It includes user 0 twice, since Hero is indeed friends with both of his friends. It includes users 1 and 2, although they are both friends with Hero already. And it includes user 3 twice, as Chi is reachable through two different friends:\n"
   ]
  },
  {
   "cell_type": "code",
   "execution_count": 11,
   "id": "a539e8c4-daa1-45c8-aa59-6fa537453923",
   "metadata": {},
   "outputs": [
    {
     "name": "stdout",
     "output_type": "stream",
     "text": [
      "[1, 2]\n",
      "[0, 2, 3]\n",
      "[0, 1, 3]\n"
     ]
    }
   ],
   "source": [
    "print(friendships[0])\n",
    "print(friendships[1])\n",
    "print(friendships[2])"
   ]
  },
  {
   "cell_type": "markdown",
   "id": "3974d9b6-fe3f-4af4-883c-e26f9fe8fdbd",
   "metadata": {},
   "source": [
    "Knowing that people are friends of friends in multiple ways seems like interesting information, so maybe instead we should produce a count of mutual friends. And we should probably exclude people already known to the user:"
   ]
  },
  {
   "cell_type": "code",
   "execution_count": 12,
   "id": "a9da54e0-ee85-45ca-95f7-99f287f42ffa",
   "metadata": {},
   "outputs": [
    {
     "name": "stdout",
     "output_type": "stream",
     "text": [
      "Counter({0: 2, 5: 1})\n"
     ]
    }
   ],
   "source": [
    "from collections import Counter\n",
    "\n",
    "def friends_of_friends(user):\n",
    "    user_id = user['id']\n",
    "    return Counter(\n",
    "        foaf_id for friend_id in friendships[user_id]\n",
    "                    for foaf_id in friendships[friend_id]\n",
    "                        if foaf_id != user_id\n",
    "                           and foaf_id not in friendships[user_id]\n",
    "    )\n",
    "\n",
    "print(friends_of_friends(users[3]))"
   ]
  },
  {
   "cell_type": "raw",
   "id": "cde3876e-306b-4b9c-b1ad-13b9d0151b25",
   "metadata": {},
   "source": [
    "This correctly tells Chi (id3) that she has two mutual friends with Hero\n",
    "(id 0) but only one mutual friend with Clive (id 5)"
   ]
  },
  {
   "cell_type": "markdown",
   "id": "afd5fd87-6bba-4a63-81f6-20ade8b02f0f",
   "metadata": {},
   "source": [
    "As a data scientist, you know that you also might enjoy meeting users with similar interests. (This is a good example of the “substantive expertise” aspect of data science.) After asking around, you manage to get your hands on this data, as a list of pairs :"
   ]
  },
  {
   "cell_type": "code",
   "execution_count": 13,
   "id": "5e4d8468-d27f-427e-8595-19211f76036a",
   "metadata": {},
   "outputs": [],
   "source": [
    "interests = [\n",
    "    (0, 'Hadoop'), (0, 'Big Data'), (0, 'HBase'), (0, 'Java'),\n",
    "    (0, 'Spark'), (0, 'Storm'), (0, 'Cassandra'),\n",
    "    (1, 'NoSQL'), (1, 'MongoDB'), (1, 'Cassandra'), (1, 'HBase'),\n",
    "    (1, 'Postgres'), (2, 'Python'), (2, 'scikit-learn'), (2, 'scipy'),\n",
    "    (2, 'numpy'), (2, 'statsmodels'), (2, 'pandas'), (3, 'R'), (3, 'Python'),\n",
    "    (3, 'statistics'), (3, 'regression'), (3, 'probability'),\n",
    "    (4, 'machine learning'), (4, 'regression'), (4, 'decision trees'),\n",
    "    (4, 'libsvm'), (5, 'python'), (5, 'R'), (5, 'Java'), (5, 'C++'),\n",
    "    (5, 'Haskell'), (5, 'programming languages'), (6, 'statistics'),\n",
    "    (6, 'probability'), (6, 'mathematics'), (6, 'theory'),\n",
    "    (7, 'machine learning'), (7, 'scikit-learn'), (7, 'mahout'),\n",
    "    (7, 'neural networks'), (8, 'neural networks'), (8, 'deep learning'),\n",
    "    (8, 'big data'), (8, 'artificial intelligence'), (9, 'Hadoop'),\n",
    "    (9, 'Java'), (9, 'MapReduce'), (9, 'big data')\n",
    "]"
   ]
  },
  {
   "cell_type": "code",
   "execution_count": 14,
   "id": "778998ce-0cbc-4883-af91-03395088df04",
   "metadata": {},
   "outputs": [],
   "source": [
    "# its easy to build a function that finds ysers with a cerain interest\n",
    "def data_scientists_who_like(target_interest):\n",
    "    \"\"\"Find the ids of all usrs who like the target interes\"\"\"\n",
    "    return [user_id for user_id, user_interest in interests\n",
    "                        if user_unterest == target_interest]"
   ]
  },
  {
   "cell_type": "markdown",
   "id": "d917d73a-318b-4542-aa12-ee7b6dc9f44e",
   "metadata": {},
   "source": [
    "This works, but it has to examine the whole list of interests for every search. If we have a lot of users and interests (or if we just want to do a lot of searches), we’re probably better off building an index from interests to users:"
   ]
  },
  {
   "cell_type": "code",
   "execution_count": 15,
   "id": "a328c08f-4414-479e-b407-56917be657b7",
   "metadata": {},
   "outputs": [
    {
     "data": {
      "text/plain": [
       "defaultdict(list,\n",
       "            {'Hadoop': [0, 9],\n",
       "             'Big Data': [0],\n",
       "             'HBase': [0, 1],\n",
       "             'Java': [0, 5, 9],\n",
       "             'Spark': [0],\n",
       "             'Storm': [0],\n",
       "             'Cassandra': [0, 1],\n",
       "             'NoSQL': [1],\n",
       "             'MongoDB': [1],\n",
       "             'Postgres': [1],\n",
       "             'Python': [2, 3],\n",
       "             'scikit-learn': [2, 7],\n",
       "             'scipy': [2],\n",
       "             'numpy': [2],\n",
       "             'statsmodels': [2],\n",
       "             'pandas': [2],\n",
       "             'R': [3, 5],\n",
       "             'statistics': [3, 6],\n",
       "             'regression': [3, 4],\n",
       "             'probability': [3, 6],\n",
       "             'machine learning': [4, 7],\n",
       "             'decision trees': [4],\n",
       "             'libsvm': [4],\n",
       "             'python': [5],\n",
       "             'C++': [5],\n",
       "             'Haskell': [5],\n",
       "             'programming languages': [5],\n",
       "             'mathematics': [6],\n",
       "             'theory': [6],\n",
       "             'mahout': [7],\n",
       "             'neural networks': [7, 8],\n",
       "             'deep learning': [8],\n",
       "             'big data': [8, 9],\n",
       "             'artificial intelligence': [8],\n",
       "             'MapReduce': [9]})"
      ]
     },
     "execution_count": 15,
     "metadata": {},
     "output_type": "execute_result"
    }
   ],
   "source": [
    "from collections import defaultdict\n",
    "\n",
    "# keys are interests, values are lists of user_ids with that interest\n",
    "user_ids_by_interest = defaultdict(list)\n",
    "\n",
    "for user_id, interest in interests:\n",
    "    user_ids_by_interest[interest].append(user_id)\n",
    "\n",
    "user_ids_by_interest"
   ]
  },
  {
   "cell_type": "code",
   "execution_count": 16,
   "id": "f012cc86-1662-41d8-99f8-a74ee4acc7b2",
   "metadata": {},
   "outputs": [
    {
     "data": {
      "text/plain": [
       "defaultdict(list,\n",
       "            {0: ['Hadoop',\n",
       "              'Big Data',\n",
       "              'HBase',\n",
       "              'Java',\n",
       "              'Spark',\n",
       "              'Storm',\n",
       "              'Cassandra'],\n",
       "             1: ['NoSQL', 'MongoDB', 'Cassandra', 'HBase', 'Postgres'],\n",
       "             2: ['Python',\n",
       "              'scikit-learn',\n",
       "              'scipy',\n",
       "              'numpy',\n",
       "              'statsmodels',\n",
       "              'pandas'],\n",
       "             3: ['R', 'Python', 'statistics', 'regression', 'probability'],\n",
       "             4: ['machine learning', 'regression', 'decision trees', 'libsvm'],\n",
       "             5: ['python',\n",
       "              'R',\n",
       "              'Java',\n",
       "              'C++',\n",
       "              'Haskell',\n",
       "              'programming languages'],\n",
       "             6: ['statistics', 'probability', 'mathematics', 'theory'],\n",
       "             7: ['machine learning',\n",
       "              'scikit-learn',\n",
       "              'mahout',\n",
       "              'neural networks'],\n",
       "             8: ['neural networks',\n",
       "              'deep learning',\n",
       "              'big data',\n",
       "              'artificial intelligence'],\n",
       "             9: ['Hadoop', 'Java', 'MapReduce', 'big data']})"
      ]
     },
     "execution_count": 16,
     "metadata": {},
     "output_type": "execute_result"
    }
   ],
   "source": [
    "# another from users to interests\n",
    "\n",
    "# keys are user_ids, values are lists of interests for that user_id\n",
    "interests_by_user_id = defaultdict(list)\n",
    "for user_id, interest in interests:\n",
    "    interests_by_user_id[user_id].append(interest)\n",
    "    \n",
    "interests_by_user_id"
   ]
  },
  {
   "cell_type": "markdown",
   "id": "48497e1d-d1d6-4545-92a6-b932468e548f",
   "metadata": {},
   "source": [
    "Now its easy to fin who has the most interests in common with a given user:\n",
    "- iterate over the user's interests\n",
    "- For each interest, iterate over the other users with that interest\n",
    "- leep count of how many times we see each other user\n"
   ]
  },
  {
   "cell_type": "code",
   "execution_count": 17,
   "id": "7ed81067-255a-4154-8a69-327af44555ee",
   "metadata": {},
   "outputs": [],
   "source": [
    "def most_common_interests_with(user):\n",
    "    return Counter(\n",
    "        interested_user_id for interest in interests_by_user_id[user['id']]\n",
    "                               for interested_user_id in user_ids_by_interest[interest]\n",
    "                                   if interested_user_id != user['id']\n",
    "    )"
   ]
  },
  {
   "cell_type": "markdown",
   "id": "f9254c8d-84e5-4279-b24d-ef1e13c29f52",
   "metadata": {},
   "source": [
    "We could then use this to build a richer “Data Scientists You May Know” feature based on a combination of mutual friends and mutual interests."
   ]
  },
  {
   "cell_type": "markdown",
   "id": "0595e945-5c66-44af-a1a4-75ee612aae59",
   "metadata": {},
   "source": [
    "### Salaries and Experience"
   ]
  },
  {
   "cell_type": "markdown",
   "id": "c78421ec-2778-43e5-96bc-bd83fecdba0d",
   "metadata": {},
   "source": [
    "Right as you’re about to head to lunch, the VP of Public Relations asks if you can provide some fun facts about how much data scientists earn. Salary data is of course sensitive, but he manages to provide you an anonymous dataset containing each user’s (in dollars) and as a data scientist (in years):"
   ]
  },
  {
   "cell_type": "code",
   "execution_count": 18,
   "id": "cdcfd46e-497a-4571-9952-b1ebb83e05e1",
   "metadata": {},
   "outputs": [],
   "source": [
    "salaries_and_tenures = [\n",
    "    (83_000, 8.7), (88_000, 8.1),\n",
    "    (48_000, 0.7), (76_000, 6),\n",
    "    (69_000, 6.5), (76_000, 7.5),\n",
    "    (60_000, 2.5), (83_000, 10),\n",
    "    (48_000, 1.9), (63_000, 4.2)\n",
    "]"
   ]
  },
  {
   "cell_type": "markdown",
   "id": "c5559c21-5c6b-4587-905d-2eb267e8adca",
   "metadata": {},
   "source": [
    "Let's look at the average salary for each tenure"
   ]
  },
  {
   "cell_type": "code",
   "execution_count": 20,
   "id": "5e93e858-772f-4a04-ae70-98433b8980f8",
   "metadata": {},
   "outputs": [
    {
     "data": {
      "text/plain": [
       "{8.7: 83000.0,\n",
       " 8.1: 88000.0,\n",
       " 0.7: 48000.0,\n",
       " 6: 76000.0,\n",
       " 6.5: 69000.0,\n",
       " 7.5: 76000.0,\n",
       " 2.5: 60000.0,\n",
       " 10: 83000.0,\n",
       " 1.9: 48000.0,\n",
       " 4.2: 63000.0}"
      ]
     },
     "execution_count": 20,
     "metadata": {},
     "output_type": "execute_result"
    }
   ],
   "source": [
    "# keys are years, values are lists of the salaries for each tenure\n",
    "salary_by_tenure = defaultdict(list)\n",
    "\n",
    "for salary, tenure in salaries_and_tenures:\n",
    "    salary_by_tenure[tenure].append(salary)\n",
    "    \n",
    "# keys are years, each value is average saalry for that tenure\n",
    "average_salary_by_tenure = {\n",
    "    tenure: sum(salaries) / len(salaries) for tenure, salaries in salary_by_tenure.items()\n",
    "}\n",
    "\n",
    "average_salary_by_tenure"
   ]
  },
  {
   "cell_type": "markdown",
   "id": "4140cdb9-83cf-4624-a8e6-b09118e09fab",
   "metadata": {},
   "source": [
    "This turns out to be not particularly useful, as none of the users\n",
    "have the same tenure, wich means we're just reporting the individual\n",
    "users salaries"
   ]
  },
  {
   "cell_type": "markdown",
   "id": "c4e4df10-1325-4d12-82d7-8968812b3dc2",
   "metadata": {},
   "source": [
    "It might be more helpful to bucket the tenures:\n",
    "    "
   ]
  },
  {
   "cell_type": "code",
   "execution_count": 21,
   "id": "ced2bb62-650a-4663-b318-4c05ef75d935",
   "metadata": {},
   "outputs": [],
   "source": [
    "def tenure_bucket(tenure):\n",
    "    if tenure < 2:\n",
    "        return 'less than two'\n",
    "    elif tenure < 5:\n",
    "        return 'between two and five'\n",
    "    else:\n",
    "        return 'more than five'"
   ]
  },
  {
   "cell_type": "markdown",
   "id": "2af8d989-7dbd-4b6a-98aa-a5cab5591cae",
   "metadata": {},
   "source": [
    "Then we can group together the salaries corresponding to each bucket:"
   ]
  },
  {
   "cell_type": "code",
   "execution_count": 22,
   "id": "1204dda8-8dee-4b5d-a26b-064340478f2f",
   "metadata": {},
   "outputs": [
    {
     "data": {
      "text/plain": [
       "defaultdict(list,\n",
       "            {'more than five': [83000, 88000, 76000, 69000, 76000, 83000],\n",
       "             'less than two': [48000, 48000],\n",
       "             'between two and five': [60000, 63000]})"
      ]
     },
     "execution_count": 22,
     "metadata": {},
     "output_type": "execute_result"
    }
   ],
   "source": [
    "# keys ae tenure bukets, values are lists of salaries for that bucket\n",
    "salary_by_tenure_bucket = defaultdict(list)\n",
    "for salary, tenure in salaries_and_tenures:\n",
    "    bucket = tenure_bucket(tenure)\n",
    "    salary_by_tenure_bucket[bucket].append(salary)\n",
    "salary_by_tenure_bucket"
   ]
  },
  {
   "cell_type": "markdown",
   "id": "09a6163d-335d-4e18-af94-1e4c57967934",
   "metadata": {},
   "source": [
    "And finally compute the average salary for each group"
   ]
  },
  {
   "cell_type": "code",
   "execution_count": 23,
   "id": "98d547c5-a777-4e1e-95e2-1138bfc597e4",
   "metadata": {},
   "outputs": [
    {
     "data": {
      "text/plain": [
       "{'more than five': 79166.66666666667,\n",
       " 'less than two': 48000.0,\n",
       " 'between two and five': 61500.0}"
      ]
     },
     "execution_count": 23,
     "metadata": {},
     "output_type": "execute_result"
    }
   ],
   "source": [
    "# keys are tenure buckets, values are average saalry for that bucket\n",
    "average_salary_by_bucket = {\n",
    "    tenure_bucket: sum(salaries) / len(salaries)\n",
    "        for tenure_bucket, salaries in salary_by_tenure_bucket.items()\n",
    "}\n",
    "average_salary_by_bucket"
   ]
  },
  {
   "cell_type": "markdown",
   "id": "f44070ca-6d83-44ef-9e2a-5d6a862825e7",
   "metadata": {},
   "source": [
    "And you have your soundbite: “Data scientists with more than five years’ experience earn 65% more than data scientists with little or no experience!”"
   ]
  },
  {
   "cell_type": "markdown",
   "id": "9977ac28-a8c4-4bd8-9e99-3730dad17dd5",
   "metadata": {},
   "source": [
    "### Topics of interest\n",
    "As you’re wrapping up your first day, the VP of Content Strategy asks you for data about what topics users are most interested in, so that she can plan out her blog calendar accordingly. "
   ]
  },
  {
   "cell_type": "markdown",
   "id": "989600bd-4f82-40ef-ba04-c5d93c56738b",
   "metadata": {},
   "source": [
    "One simple (if not particularly exciting) way to find the most popular interests is to count the words:\n",
    "- lowervase each interest\n",
    "- split it into words\n",
    "- count the results"
   ]
  },
  {
   "cell_type": "code",
   "execution_count": 27,
   "id": "fc35914e-5db3-4632-b213-c91073b31fbd",
   "metadata": {},
   "outputs": [
    {
     "data": {
      "text/plain": [
       "Counter({'hadoop': 2,\n",
       "         'big': 3,\n",
       "         'data': 3,\n",
       "         'hbase': 2,\n",
       "         'java': 3,\n",
       "         'spark': 1,\n",
       "         'storm': 1,\n",
       "         'cassandra': 2,\n",
       "         'nosql': 1,\n",
       "         'mongodb': 1,\n",
       "         'postgres': 1,\n",
       "         'python': 3,\n",
       "         'scikit-learn': 2,\n",
       "         'scipy': 1,\n",
       "         'numpy': 1,\n",
       "         'statsmodels': 1,\n",
       "         'pandas': 1,\n",
       "         'r': 2,\n",
       "         'statistics': 2,\n",
       "         'regression': 2,\n",
       "         'probability': 2,\n",
       "         'machine': 2,\n",
       "         'learning': 3,\n",
       "         'decision': 1,\n",
       "         'trees': 1,\n",
       "         'libsvm': 1,\n",
       "         'c++': 1,\n",
       "         'haskell': 1,\n",
       "         'programming': 1,\n",
       "         'languages': 1,\n",
       "         'mathematics': 1,\n",
       "         'theory': 1,\n",
       "         'mahout': 1,\n",
       "         'neural': 2,\n",
       "         'networks': 2,\n",
       "         'deep': 1,\n",
       "         'artificial': 1,\n",
       "         'intelligence': 1,\n",
       "         'mapreduce': 1})"
      ]
     },
     "execution_count": 27,
     "metadata": {},
     "output_type": "execute_result"
    }
   ],
   "source": [
    "words_and_counts = Counter(\n",
    "    word for user, interest in interests\n",
    "             for word in interest.lower().split()\n",
    ")\n",
    "\n",
    "words_and_counts"
   ]
  },
  {
   "cell_type": "code",
   "execution_count": 28,
   "id": "51805276-7918-4047-9a22-d3f33b9990a7",
   "metadata": {},
   "outputs": [
    {
     "name": "stdout",
     "output_type": "stream",
     "text": [
      "big 3\n",
      "data 3\n",
      "java 3\n",
      "python 3\n",
      "learning 3\n",
      "hadoop 2\n",
      "hbase 2\n",
      "cassandra 2\n",
      "scikit-learn 2\n",
      "r 2\n",
      "statistics 2\n",
      "regression 2\n",
      "probability 2\n",
      "machine 2\n",
      "neural 2\n",
      "networks 2\n"
     ]
    }
   ],
   "source": [
    "# this makes it easy to list out the words out\n",
    "# that occur more than once\n",
    "for word, count in words_and_counts.most_common():\n",
    "    if count > 1:\n",
    "        print(word, count)"
   ]
  },
  {
   "cell_type": "code",
   "execution_count": null,
   "id": "2ada6e0c-3e22-45d6-b03e-b436335d9634",
   "metadata": {},
   "outputs": [],
   "source": []
  }
 ],
 "metadata": {
  "kernelspec": {
   "display_name": "Python 3 (ipykernel)",
   "language": "python",
   "name": "python3"
  },
  "language_info": {
   "codemirror_mode": {
    "name": "ipython",
    "version": 3
   },
   "file_extension": ".py",
   "mimetype": "text/x-python",
   "name": "python",
   "nbconvert_exporter": "python",
   "pygments_lexer": "ipython3",
   "version": "3.7.9"
  }
 },
 "nbformat": 4,
 "nbformat_minor": 5
}
