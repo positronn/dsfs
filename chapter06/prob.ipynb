{
 "cells": [
  {
   "cell_type": "markdown",
   "id": "011e55e7-38ad-456e-9f99-56da9c0fb588",
   "metadata": {},
   "source": [
    "# 06 Probability"
   ]
  },
  {
   "cell_type": "markdown",
   "id": "8b38b262-d3da-430d-a29a-c742401b82f4",
   "metadata": {},
   "source": [
    "For our purposes you should think of probability as a way of quantifying the uncertainty associated with events chosen from some universe of events."
   ]
  },
  {
   "cell_type": "markdown",
   "id": "796a374b-cc19-426e-96b4-d65164a02817",
   "metadata": {},
   "source": [
    "Notationally, we write P(E) to mean “the probability of the event E.”\n",
    "We’ll use probability theory to build models. We’ll use probability theory to\n",
    "evaluate models. We’ll use probability theory all over the place.\n",
    "One could, were one so inclined, get really deep into the philosophy of what probability theory means. (This is best done over beers.) We won’t be doing that.\n"
   ]
  },
  {
   "cell_type": "markdown",
   "id": "c6b63483-a8b8-4ced-895b-33c25ba6ff1a",
   "metadata": {},
   "source": [
    "## Dependence and Independence"
   ]
  },
  {
   "cell_type": "markdown",
   "id": "00b7c2de-a7f4-4e09-a83d-4e17f4fff91e",
   "metadata": {},
   "source": [
    "Roughly speaking, we say that two events E and F are dependent if knowing something about whether E happens gives us information about whether F happens (and vice versa). Otherwise, they are independent.\n",
    "For instance, if we flip a fair coin twice, knowing whether the first flip is heads gives us no information about whether the second flip is heads. These events are independent. On the other hand, knowing whether the first flip is heads certainly gives us information about whether both flips are tails."
   ]
  },
  {
   "cell_type": "markdown",
   "id": "87998ba3-33f3-4193-8590-eb8abd2f6240",
   "metadata": {},
   "source": [
    " (If the first flip is heads, then definitely it’s not the case that both flips are tails.) These two events are dependent.\n",
    "Mathematically, we say that two events E and F are independent if the probability that they both happen is the product of the probabilities that each one happens:"
   ]
  },
  {
   "cell_type": "markdown",
   "id": "9587c4a6-9066-4830-b343-f2e277b89a73",
   "metadata": {},
   "source": [
    "$$\n",
    "P(E, F) = P(E)P(F)\n",
    "$$"
   ]
  },
  {
   "cell_type": "markdown",
   "id": "fbb55771-d416-4ff6-a53d-ad51db4d8fae",
   "metadata": {},
   "source": [
    "In the example, the probability of “first flip heads” is 1/2, and the probability of “both flips tails” is 1/4, but the probability of “first flip heads and both flips tails” is 0."
   ]
  },
  {
   "cell_type": "markdown",
   "id": "ab1d50c1-c429-423a-8758-05fb4b813348",
   "metadata": {},
   "source": [
    "## Conditional Probability\n"
   ]
  },
  {
   "cell_type": "markdown",
   "id": "f85f39fe-4750-43ff-91b7-e0ebfa1e2ee7",
   "metadata": {},
   "source": [
    "When two events E and F are independent, then by definition we have:"
   ]
  },
  {
   "cell_type": "markdown",
   "id": "23b02321-ebed-428f-b555-b9ffe8067eb3",
   "metadata": {},
   "source": [
    "$$\n",
    "P(E, F) = P(E)P(F)\n",
    "$$"
   ]
  },
  {
   "cell_type": "markdown",
   "id": "8d9c4b02-2975-499a-b3d5-0900084ec144",
   "metadata": {},
   "source": [
    "If they are not necessarily independent (and if the probability of F is not\n",
    "zero), then we define the probability of E “conditional on F” as:"
   ]
  },
  {
   "cell_type": "markdown",
   "id": "b5ad71b3-ed19-4ed1-9235-4254390e8bd7",
   "metadata": {},
   "source": [
    "$$\n",
    "P(E|F) = \\frac{P(E, F)}{P(F)}\n",
    "$$"
   ]
  },
  {
   "cell_type": "markdown",
   "id": "5c0da1e0-fb87-4c6b-bae7-59f8884e0d08",
   "metadata": {},
   "source": [
    "You should think of this as the probability that E happens, given that we\n",
    "know that F happens. We often rewrite this as:"
   ]
  },
  {
   "cell_type": "markdown",
   "id": "060cd14d-0b4c-4fc3-a01f-62163d3f02ca",
   "metadata": {},
   "source": [
    "$$\n",
    "P(E, F) = P(E | F) P(F)\n",
    "$$"
   ]
  },
  {
   "cell_type": "markdown",
   "id": "048949c1-25d9-48a4-b3ee-3bbfa98cba72",
   "metadata": {},
   "source": [
    "When E and F are independent, you can check that this gives:"
   ]
  },
  {
   "cell_type": "markdown",
   "id": "b75a90fe-df76-412c-b23a-3f55f2e9e760",
   "metadata": {},
   "source": [
    "$$\n",
    "P(E|F) = P(E)\n",
    "$$"
   ]
  },
  {
   "cell_type": "markdown",
   "id": "9bedfb9c-d6f2-4b52-b7e1-28a5b0c352d4",
   "metadata": {},
   "source": [
    "which is the mathematical way of expressing that knowing F occurred gives us no additional information about whether E occurred."
   ]
  },
  {
   "cell_type": "markdown",
   "id": "0aa80c40-127c-4692-a103-9d1e9f6c7b05",
   "metadata": {},
   "source": [
    "An example on a family givinf birth to two children, given the prob that being B or G is the same"
   ]
  },
  {
   "cell_type": "code",
   "execution_count": 4,
   "id": "a67df8d2-079a-4e42-8031-9e82f03087bb",
   "metadata": {},
   "outputs": [
    {
     "name": "stdout",
     "output_type": "stream",
     "text": [
      "P(both | older): 0.5007089325501317\n",
      "P(both | either): 0.3311897106109325\n"
     ]
    }
   ],
   "source": [
    "import enum\n",
    "import random\n",
    "\n",
    "# an Enum is a typed set of enumared values we can use them\n",
    "# to make our code more descriptive and readable\n",
    "class Kid(enum.Enum):\n",
    "    BOY = 0\n",
    "    GIRL = 1\n",
    "    \n",
    "\n",
    "def random_kid() -> Kid:\n",
    "    return random.choice([Kid.BOY, Kid.GIRL])\n",
    "\n",
    "\n",
    "both_girls = 0\n",
    "older_girl = 0\n",
    "either_girl = 0\n",
    "\n",
    "random.seed(0)\n",
    "\n",
    "for __ in range(0, 10000):\n",
    "    younger = random_kid()\n",
    "    older = random_kid()\n",
    "    if older == Kid.GIRL:\n",
    "        older_girl += 1\n",
    "    if older == Kid.GIRL and younger == Kid.GIRL:\n",
    "        both_girls += 1\n",
    "    if older == Kid.GIRL or younger == Kid.GIRL:\n",
    "        either_girl += 1\n",
    "\n",
    "\n",
    "print('P(both | older):', both_girls / older_girl)\n",
    "print('P(both | either):', both_girls / either_girl)"
   ]
  },
  {
   "cell_type": "markdown",
   "id": "48120c97-cfce-48e6-b56d-7fa345a5d5db",
   "metadata": {},
   "source": [
    "## Bayes Theorem"
   ]
  },
  {
   "cell_type": "markdown",
   "id": "ceddcd5f-6d15-49c0-8e74-ccf20dfa5822",
   "metadata": {},
   "source": [
    "Bayes theorem is a way of \"reversing\" conditional probabilities.\n",
    "Let's say we need to know the probability of some event E conditional\n",
    "on some other event occurring.\n",
    "But we only have information about the probability of F conditional on E\n",
    "occurring. Using the definition of conditional probability twice tells us that:\n",
    "\n",
    "$$\n",
    "P(E|F) = P(E, F) / P(F) = P(F|E)P(E) / P(F)\n",
    "$$\n",
    "\n",
    "The event F can be split into the two mutually exclusive events \"F and E\" and\n",
    "\"F and not E\". If we write ¬E for \"not E\" (i.e. \"E doesn't happen\"), then\n",
    "\n",
    "$$\n",
    "P(F) = P(F, E) + P(F, \\neg E)\n",
    "$$"
   ]
  },
  {
   "cell_type": "markdown",
   "id": "d9034b4f-3bf6-4b88-a20f-643432aafe8c",
   "metadata": {},
   "source": [
    "So that:\n",
    "$$\n",
    "P(E, F) = P(F|E)P(E) / [P(F|E)P(E) + P(F|\\neg E)P(\\neg E)]\n",
    "$$"
   ]
  },
  {
   "cell_type": "markdown",
   "id": "35ebc68f-a492-449e-bc45-f803cf9bc43c",
   "metadata": {},
   "source": [
    "which is how Bayes’s theorem is often stated."
   ]
  },
  {
   "cell_type": "markdown",
   "id": "f0b70e81-32dd-41d3-b8b6-a177d2e63e13",
   "metadata": {},
   "source": [
    "This theorem often gets used to demonstrate why data scientists are smarter than doctors. Imagine a certain disease that affects 1 in every 10,000 people. And imagine that there is a test for this disease that gives the correct result (“diseased” if you have the disease, “nondiseased” if you don’t) 99% of the time."
   ]
  },
  {
   "cell_type": "markdown",
   "id": "e07eb622-60bc-4378-a116-741be637d618",
   "metadata": {},
   "source": [
    "What does a positive test mean? Let’s use T for the event “your test is positive” and D for the event “you have the disease.” Then Bayes’s theorem says that the probability that you have the disease, conditional on testing positive, is:"
   ]
  },
  {
   "cell_type": "markdown",
   "id": "6656917e-c51d-4a36-a7aa-6f6630cd3c10",
   "metadata": {},
   "source": [
    "$$\n",
    "P(D|T) = \\frac{P(T|D)P(D)}{P(T|D)P(D) + P(T|\\neg D)P(\\neg D)}\n",
    "$$"
   ]
  },
  {
   "cell_type": "markdown",
   "id": "483f7b58-fccd-4747-a462-86b96edd3cc8",
   "metadata": {},
   "source": [
    "Here we know that $P(T|D)$, the probability that someone with the disease\n",
    "tests positive, is 0.99. $P(D)$, the probability that any given person has the\n",
    "disease is $1/10,000 = 0.0001$. $P(T|\\neg D)$, the probability that someone \n",
    "without the disease tests positive, is 0.001. And $P(\\neg D)$, the probability\n",
    "that any given person doesn't have the disease, is 0.9999, If you substitute\n",
    "these numbers into Bayes' theorem, you find:\n",
    "\n",
    "$$\n",
    "P(D|T) = 0.98\\%\n",
    "$$"
   ]
  },
  {
   "cell_type": "markdown",
   "id": "68d30026-0311-4c9b-9fb4-79a5a65787a2",
   "metadata": {},
   "source": [
    "That is, less than 1% of the people who test positive actually have the disease."
   ]
  },
  {
   "cell_type": "markdown",
   "id": "b9f83e95-9792-4627-b39c-32ad056958dc",
   "metadata": {},
   "source": [
    "A more intuitive way to see this is to imagine a population of 1 million people. You’d expect 100 of them to have the disease, and 99 of those 100 to test positive. On the other hand, you’d expect 999,900 of them not to have the disease, and 9,999 of those to test positive. That means you’d expect only 99 out of (99 + 9999) positive testers to actually have the disease."
   ]
  },
  {
   "cell_type": "markdown",
   "id": "f65d3f7d-3a73-418a-8e02-79baacee868e",
   "metadata": {},
   "source": [
    "## Continuous Distributions"
   ]
  },
  {
   "cell_type": "markdown",
   "id": "987782ce-4eb2-42a2-b9a0-d70c13db3b37",
   "metadata": {},
   "source": [
    "The density function for the uniform distribution is just:\n"
   ]
  },
  {
   "cell_type": "code",
   "execution_count": 6,
   "id": "1e0066a0-033e-4fcb-9186-be9d303da04e",
   "metadata": {},
   "outputs": [],
   "source": [
    "def uniform_pdf(x: float) -> float:\n",
    "    return 1 if 0 <= x < 1 else 0"
   ]
  },
  {
   "cell_type": "markdown",
   "id": "44cea82c-5e5e-4179-920e-2dedffed4f4f",
   "metadata": {},
   "source": [
    "\n",
    "We will often be more interested in the cumulative distribution function (CDF), which gives the probability that a random variable is less than or equal to a certain value. "
   ]
  },
  {
   "cell_type": "code",
   "execution_count": 7,
   "id": "cc42654c-6440-438d-b9c1-ad9381679409",
   "metadata": {},
   "outputs": [],
   "source": [
    "def uniform_cdf(x: float) -> float:\n",
    "    \"\"\"Returns the probability that a uniform random variable is <= x\"\"\"\n",
    "    if x < 0:\n",
    "        return 0\n",
    "    elif x < 1:\n",
    "        return x\n",
    "    else:\n",
    "        return 1"
   ]
  },
  {
   "cell_type": "markdown",
   "id": "c270dd9f-a734-4e5c-823e-a78af30df3c9",
   "metadata": {},
   "source": [
    "## Normal Distribution"
   ]
  },
  {
   "cell_type": "markdown",
   "id": "29801fce-66cf-4d9d-87c5-52d63ac56eff",
   "metadata": {},
   "source": [
    "The normal distribution is the classic bell curve–shaped distribution and is completely determined by two parameters: its mean μ (mu) and its standard deviation σ (sigma). The mean indicates where the bell is centered, and the standard deviation how “wide” it is."
   ]
  },
  {
   "cell_type": "markdown",
   "id": "34349774-25bf-4ea1-9479-e96f44bc7cc1",
   "metadata": {},
   "source": [
    "It has de PDF:\n",
    "\n",
    "$$\n",
    "f(x | \\mu, \\sigma) = \\frac{1}{\\sqrt{2\\pi\\sigma}}^{-\\frac{(x-\\mu)^2}{2\\sigma ^2}}\n",
    "$$"
   ]
  },
  {
   "cell_type": "markdown",
   "id": "39fc15ab-f8f5-40ba-b0ef-8cb899ddcbcb",
   "metadata": {},
   "source": [
    "which we can implement as:"
   ]
  },
  {
   "cell_type": "code",
   "execution_count": 8,
   "id": "4cabfad5-4bdb-4baf-92ae-698ae1b19583",
   "metadata": {},
   "outputs": [],
   "source": [
    "import math\n",
    "SQRT_TWO_PI = math.sqrt(2 * math.pi)\n",
    "\n",
    "def normal_pdf(x: float, mu: float=0, sigma: float=1) -> float:\n",
    "    return (\n",
    "        math.exp(-(x - mu) ** 2 / 2 / sigma ** 2) / (SQRT_TWO_PI * sigma)\n",
    "    )"
   ]
  },
  {
   "cell_type": "code",
   "execution_count": 12,
   "id": "23b35d1f-276f-4e7d-82c4-fe4578ff94fe",
   "metadata": {},
   "outputs": [
    {
     "data": {
      "image/png": "[encoded data removed]",
      "text/plain": [
       "<Figure size 432x288 with 1 Axes>"
      ]
     },
     "metadata": {
      "needs_background": "light"
     },
     "output_type": "display_data"
    }
   ],
   "source": [
    "import matplotlib.pyplot as plt\n",
    "\n",
    "xs = [x / 10.0 for x in range(-50, 50)]\n",
    "\n",
    "plt.plot(xs, [normal_pdf(x, sigma=1) for x in xs], '-', label='mu=0, sigma=1')\n",
    "plt.plot(xs, [normal_pdf(x, sigma=2) for x in xs], '--', label='mu=0, sigma=2')\n",
    "plt.plot(xs, [normal_pdf(x, sigma=0.5) for x in xs], ':', label='mu=0, sigma=0.5')\n",
    "plt.plot(xs, [normal_pdf(x, mu=-1) for x in xs], '-.', label='mu=-1, sigma=1')\n",
    "plt.legend()\n",
    "plt.title('Various Normal PDFs')\n",
    "plt.show()"
   ]
  },
  {
   "cell_type": "markdown",
   "id": "7e9160fa-1445-42e8-ac99-25c5f6e6ecf2",
   "metadata": {},
   "source": [
    "When μ = 0 and σ = 1, it’s called the standard normal distribution. If Z is a standard normal random variable, then it turns out that:\n"
   ]
  },
  {
   "cell_type": "markdown",
   "id": "ffcf51de-8a0f-480b-81e6-feb4a55b168b",
   "metadata": {},
   "source": [
    "$$ X = \\sigma Z + \\mu $$"
   ]
  },
  {
   "cell_type": "markdown",
   "id": "881f0f95-4cef-415a-ad1b-274a840779bd",
   "metadata": {},
   "source": [
    "is also normal but with mean and standard deviation . Conversely, if X is a normal random variable with mean and standard deviation ,"
   ]
  },
  {
   "cell_type": "markdown",
   "id": "035d737b-ce06-47bc-8b45-0dfa4e48fcf2",
   "metadata": {},
   "source": [
    "$$ Z = \\frac{(X - \\mu)}{\\sigma} $$"
   ]
  },
  {
   "cell_type": "markdown",
   "id": "d2f10a4c-110a-4d57-bbf5-26124558af8d",
   "metadata": {},
   "source": [
    "is a standard normal variable."
   ]
  },
  {
   "cell_type": "markdown",
   "id": "d8da18b3-2708-41ee-94f5-b516411a7010",
   "metadata": {},
   "source": [
    "The CDF for the normal distribution cannot be written in an “elementary”\n",
    "manner, but we can write it using Python’s error function:\n"
   ]
  },
  {
   "cell_type": "code",
   "execution_count": 13,
   "id": "edb45f9f-402e-4efa-8b62-fcc71c1e2b83",
   "metadata": {},
   "outputs": [],
   "source": [
    "def normal_cdf(x:float, mu:float=0, sigma:float=1) -> float:\n",
    "    return (1 + math.erf((x - mu) / math.sqrt(2) / sigma)) / 2"
   ]
  },
  {
   "cell_type": "code",
   "execution_count": 15,
   "id": "67643577-249b-4636-b9e1-b473c95822ef",
   "metadata": {},
   "outputs": [
    {
     "data": {
      "image/png": "[encoded data removed]",
      "text/plain": [
       "<Figure size 432x288 with 1 Axes>"
      ]
     },
     "metadata": {
      "needs_background": "light"
     },
     "output_type": "display_data"
    }
   ],
   "source": [
    "xs = [x / 10.0 for x in range(-50, 50)]\n",
    "\n",
    "plt.plot(xs, [normal_cdf(x, sigma=1) for x in xs], '-', label='mu=0, sigma=1')\n",
    "plt.plot(xs, [normal_cdf(x, sigma=2) for x in xs], '--', label='mu=0, sigma=2')\n",
    "plt.plot(xs, [normal_cdf(x, sigma=0.5) for x in xs], ':', label='mu=0, sigma=0.5')\n",
    "plt.plot(xs, [normal_cdf(x, mu=-1) for x in xs], '-.', label='mu=-1, sigma=1')\n",
    "plt.legend()\n",
    "plt.title('Various Normal PDFs')\n",
    "plt.show()"
   ]
  },
  {
   "cell_type": "markdown",
   "id": "4c947b66-ecb7-4dc9-86e5-ab2e81b925b4",
   "metadata": {},
   "source": [
    "Sometimes we'll need to invert `normal_cdf` to find the value corresponding\n",
    "to a specified proability. There's no simple way to compute its inverse,\n",
    "but `normal_cdf` is continuous and strictly increasing, so we can use a \n",
    "binary search:"
   ]
  },
  {
   "cell_type": "code",
   "execution_count": 16,
   "id": "873d6fd2-2299-42ba-a04e-135f2474481a",
   "metadata": {},
   "outputs": [],
   "source": [
    "def inverse_normal_cdf(p:float,\n",
    "                       mu:float=0,\n",
    "                       sigma:float=1,\n",
    "                       tolerance:float=0.00001) -> float:\n",
    "    \"\"\"Find approximae inverse using binary search\"\"\"\n",
    "    # if not standard, compute standard and re-scale\n",
    "    if mu != 0 or sigma != 1:\n",
    "        return mu + sigma * inverse_normal_cdf(p, tolerance=tolerance)\n",
    "    low_z = -10.0\n",
    "    hi_z = 10.0\n",
    "    while hi_z - low_z > tolerance:\n",
    "        mid_z = (low_z + hi_z) / 2\n",
    "        mid_p = normal_cdf(mid_z)\n",
    "        if mid_p < p:\n",
    "            low_z = mid_z\n",
    "        else:\n",
    "            hi_z = mid_z\n",
    "    return mid_z"
   ]
  },
  {
   "cell_type": "markdown",
   "id": "1e3e8881-2222-4bac-b490-48e0557642f6",
   "metadata": {},
   "source": [
    "The function repeatedly bisects intervals until it narrows in on a Z that’s close enough to the desired probability."
   ]
  },
  {
   "cell_type": "markdown",
   "id": "1a73a5ac-bb48-4fe1-9cd3-86bfcbc113ab",
   "metadata": {},
   "source": [
    "## Central Limit Theorem"
   ]
  },
  {
   "cell_type": "markdown",
   "id": "e83ae59d-ec85-4a73-b333-95cd3fe54239",
   "metadata": {},
   "source": [
    "One reason the normal distribution is so useful is the central limit theorem, which says (in essence) that a random variable defined as the average of a large number of independent and identically distributed random variables is itself approximately normally distributed.\n"
   ]
  },
  {
   "cell_type": "markdown",
   "id": "f84a290b-e6e9-4de7-8fa3-658d4e7945b9",
   "metadata": {},
   "source": [
    "In particular, if $x_1, ..., x_n$ are random variables with mean $\\mu$ and standard deviation $\\sigma$, and if $n$ is large, then:\n",
    "\n",
    "$$\n",
    "\\frac{1}{n}(x_1 + ... + x_n)\n",
    "$$"
   ]
  },
  {
   "cell_type": "markdown",
   "id": "0633e45d-9589-4e4b-a006-093abbca82f3",
   "metadata": {},
   "source": [
    "is approximately normally distributed with mean $\\mu$ and standard deviation $\\sigma / \\sqrt{n}$. Equivalently (but often more usefully),\n",
    "\n",
    "$$\n",
    "\\frac{(x_1 + ... + x_n) - \\mu n}{\\sigma \\sqrt{n}}\n",
    "$$"
   ]
  },
  {
   "cell_type": "markdown",
   "id": "231a1049-d9a7-4bfa-a6e7-e658296e4f04",
   "metadata": {},
   "source": [
    "is approximately normally distributed with mean 0 and standard deviation 1.\n",
    "An easy way to illustrate this is by looking at binomial random variables, which have two parameters n and p. A Binomial(n,p) random variable is\n",
    "simply the sum of n independent Bernoulli(p) random variables, each of which equals 1 with probability p and 0 with probability 1 – p:"
   ]
  },
  {
   "cell_type": "code",
   "execution_count": 17,
   "id": "6c30d4fb-40ad-44f4-9355-ba8a17fc4e61",
   "metadata": {},
   "outputs": [],
   "source": [
    "def bernoulli_trial(p:float) -> int:\n",
    "    \"\"\"Returns 1 with probability p and 0 with probability 1 - p\"\"\"\n",
    "    return 1 if random.random() < p else 0\n",
    "\n",
    "\n",
    "def binomial(n:int, p:float) -> int:\n",
    "    \"\"\"Returns the sum of n bernoulli(p) trials\"\"\"\n",
    "    return sum(bernoulli_trial(p) for __ in range(0, n))"
   ]
  },
  {
   "cell_type": "markdown",
   "id": "c0ad87eb-7d59-45de-95b8-bf26720d8204",
   "metadata": {},
   "source": [
    "The mean of Bernoulli(p) variable is p, and its standard deviation is $ \\sqrt{p(1-p)} $. The central limit theorem says that as n gets large, a Binomial(n,p) variable is approximately a normal random variable with mean $ \\mu = np $ and \n",
    "standard deviation $ \\sigma = \\sqrt{np(1 - p)} $. If we plot both,\n",
    "you can easilit see the resemblance:"
   ]
  },
  {
   "cell_type": "code",
   "execution_count": 18,
   "id": "23eb833a-4514-4756-a8bb-82da40379c4f",
   "metadata": {},
   "outputs": [],
   "source": [
    "from collections import Counter\n",
    "\n",
    "def binomial_histogram(p:float, n:int, num_points:int) -> None:\n",
    "    \"\"\"Picks points from a Binomial(n,p) and plots their histogram\"\"\"\n",
    "    data = [binomial(n,p) for __ in range(0, num_points)]\n",
    "    # use a bar chart to show the actual binomial samples\n",
    "    histogram = Counter(data)\n",
    "    plt.bar(\n",
    "        [x - 0.4 for x in histogram.keys()],\n",
    "        [v / num_points for v in histogram.values()],\n",
    "        0.8,\n",
    "        color = '0.75'\n",
    "    )\n",
    "    mu = p * n\n",
    "    sigma = math.sqrt(n * p * (1 - p))\n",
    "    # use a line chart to show the normal approximation\n",
    "    xs = range(min(data), max(data) + 1)\n",
    "    ys = [normal_cdf(i + 0.5, mu, sigma) - normal_cdf(i - 0.5, mu, sigma)\n",
    "          for i in xs]\n",
    "    plt.plot(xs, ys)\n",
    "    plt.title('Binomial Distribution vs. Normal Approximation')\n",
    "    plt.show()"
   ]
  },
  {
   "cell_type": "code",
   "execution_count": 20,
   "id": "e15df702-6057-437e-ae6f-5109cfb2321b",
   "metadata": {},
   "outputs": [
    {
     "data": {
      "image/png": "[encoded data removed]",
      "text/plain": [
       "<Figure size 432x288 with 1 Axes>"
      ]
     },
     "metadata": {
      "needs_background": "light"
     },
     "output_type": "display_data"
    }
   ],
   "source": [
    "binomial_histogram(0.75, 100, 10000)"
   ]
  },
  {
   "cell_type": "code",
   "execution_count": null,
   "id": "dad6bca3-cf50-4853-a323-ffe4a90f3985",
   "metadata": {},
   "outputs": [],
   "source": []
  }
 ],
 "metadata": {
  "kernelspec": {
   "display_name": "Python 3 (ipykernel)",
   "language": "python",
   "name": "python3"
  },
  "language_info": {
   "codemirror_mode": {
    "name": "ipython",
    "version": 3
   },
   "file_extension": ".py",
   "mimetype": "text/x-python",
   "name": "python",
   "nbconvert_exporter": "python",
   "pygments_lexer": "ipython3",
   "version": "3.7.9"
  }
 },
 "nbformat": 4,
 "nbformat_minor": 5
}
