{
 "cells": [
  {
   "cell_type": "markdown",
   "id": "011e55e7-38ad-456e-9f99-56da9c0fb588",
   "metadata": {},
   "source": [
    "# 06 Probability"
   ]
  },
  {
   "cell_type": "markdown",
   "id": "8b38b262-d3da-430d-a29a-c742401b82f4",
   "metadata": {},
   "source": [
    "For our purposes you should think of probability as a way of quantifying the uncertainty associated with events chosen from some universe of events."
   ]
  },
  {
   "cell_type": "markdown",
   "id": "796a374b-cc19-426e-96b4-d65164a02817",
   "metadata": {},
   "source": [
    "Notationally, we write P(E) to mean “the probability of the event E.”\n",
    "We’ll use probability theory to build models. We’ll use probability theory to\n",
    "evaluate models. We’ll use probability theory all over the place.\n",
    "One could, were one so inclined, get really deep into the philosophy of what probability theory means. (This is best done over beers.) We won’t be doing that.\n"
   ]
  },
  {
   "cell_type": "markdown",
   "id": "c6b63483-a8b8-4ced-895b-33c25ba6ff1a",
   "metadata": {},
   "source": [
    "## Dependence and Independence"
   ]
  },
  {
   "cell_type": "markdown",
   "id": "00b7c2de-a7f4-4e09-a83d-4e17f4fff91e",
   "metadata": {},
   "source": [
    "Roughly speaking, we say that two events E and F are dependent if knowing something about whether E happens gives us information about whether F happens (and vice versa). Otherwise, they are independent.\n",
    "For instance, if we flip a fair coin twice, knowing whether the first flip is heads gives us no information about whether the second flip is heads. These events are independent. On the other hand, knowing whether the first flip is heads certainly gives us information about whether both flips are tails."
   ]
  },
  {
   "cell_type": "markdown",
   "id": "87998ba3-33f3-4193-8590-eb8abd2f6240",
   "metadata": {},
   "source": [
    " (If the first flip is heads, then definitely it’s not the case that both flips are tails.) These two events are dependent.\n",
    "Mathematically, we say that two events E and F are independent if the probability that they both happen is the product of the probabilities that each one happens:"
   ]
  },
  {
   "cell_type": "markdown",
   "id": "9587c4a6-9066-4830-b343-f2e277b89a73",
   "metadata": {},
   "source": [
    "$$\n",
    "P(E, F) = P(E)P(F)\n",
    "$$"
   ]
  },
  {
   "cell_type": "markdown",
   "id": "fbb55771-d416-4ff6-a53d-ad51db4d8fae",
   "metadata": {},
   "source": [
    "In the example, the probability of “first flip heads” is 1/2, and the probability of “both flips tails” is 1/4, but the probability of “first flip heads and both flips tails” is 0."
   ]
  },
  {
   "cell_type": "markdown",
   "id": "ab1d50c1-c429-423a-8758-05fb4b813348",
   "metadata": {},
   "source": [
    "## Conditional Probability\n"
   ]
  },
  {
   "cell_type": "markdown",
   "id": "f85f39fe-4750-43ff-91b7-e0ebfa1e2ee7",
   "metadata": {},
   "source": [
    "When two events E and F are independent, then by definition we have:"
   ]
  },
  {
   "cell_type": "markdown",
   "id": "23b02321-ebed-428f-b555-b9ffe8067eb3",
   "metadata": {},
   "source": [
    "$$\n",
    "P(E, F) = P(E)P(F)\n",
    "$$"
   ]
  },
  {
   "cell_type": "markdown",
   "id": "8d9c4b02-2975-499a-b3d5-0900084ec144",
   "metadata": {},
   "source": [
    "If they are not necessarily independent (and if the probability of F is not\n",
    "zero), then we define the probability of E “conditional on F” as:"
   ]
  },
  {
   "cell_type": "markdown",
   "id": "b5ad71b3-ed19-4ed1-9235-4254390e8bd7",
   "metadata": {},
   "source": [
    "$$\n",
    "P(E|F) = \\frac{P(E, F)}{P(F)}\n",
    "$$"
   ]
  },
  {
   "cell_type": "markdown",
   "id": "5c0da1e0-fb87-4c6b-bae7-59f8884e0d08",
   "metadata": {},
   "source": [
    "You should think of this as the probability that E happens, given that we\n",
    "know that F happens. We often rewrite this as:"
   ]
  },
  {
   "cell_type": "markdown",
   "id": "060cd14d-0b4c-4fc3-a01f-62163d3f02ca",
   "metadata": {},
   "source": [
    "$$\n",
    "P(E, F) = P(E | F) P(F)\n",
    "$$"
   ]
  },
  {
   "cell_type": "markdown",
   "id": "048949c1-25d9-48a4-b3ee-3bbfa98cba72",
   "metadata": {},
   "source": [
    "When E and F are independent, you can check that this gives:"
   ]
  },
  {
   "cell_type": "markdown",
   "id": "b75a90fe-df76-412c-b23a-3f55f2e9e760",
   "metadata": {},
   "source": [
    "$$\n",
    "P(E|F) = P(E)\n",
    "$$"
   ]
  },
  {
   "cell_type": "markdown",
   "id": "9bedfb9c-d6f2-4b52-b7e1-28a5b0c352d4",
   "metadata": {},
   "source": [
    "which is the mathematical way of expressing that knowing F occurred gives us no additional information about whether E occurred."
   ]
  },
  {
   "cell_type": "markdown",
   "id": "0aa80c40-127c-4692-a103-9d1e9f6c7b05",
   "metadata": {},
   "source": [
    "An example on a family givinf birth to two children, given the prob that being B or G is the same"
   ]
  },
  {
   "cell_type": "code",
   "execution_count": 4,
   "id": "a67df8d2-079a-4e42-8031-9e82f03087bb",
   "metadata": {},
   "outputs": [
    {
     "name": "stdout",
     "output_type": "stream",
     "text": [
      "P(both | older): 0.5007089325501317\n",
      "P(both | either): 0.3311897106109325\n"
     ]
    }
   ],
   "source": [
    "import enum\n",
    "import random\n",
    "\n",
    "# an Enum is a typed set of enumared values we can use them\n",
    "# to make our code more descriptive and readable\n",
    "class Kid(enum.Enum):\n",
    "    BOY = 0\n",
    "    GIRL = 1\n",
    "    \n",
    "\n",
    "def random_kid() -> Kid:\n",
    "    return random.choice([Kid.BOY, Kid.GIRL])\n",
    "\n",
    "\n",
    "both_girls = 0\n",
    "older_girl = 0\n",
    "either_girl = 0\n",
    "\n",
    "random.seed(0)\n",
    "\n",
    "for __ in range(0, 10000):\n",
    "    younger = random_kid()\n",
    "    older = random_kid()\n",
    "    if older == Kid.GIRL:\n",
    "        older_girl += 1\n",
    "    if older == Kid.GIRL and younger == Kid.GIRL:\n",
    "        both_girls += 1\n",
    "    if older == Kid.GIRL or younger == Kid.GIRL:\n",
    "        either_girl += 1\n",
    "\n",
    "\n",
    "print('P(both | older):', both_girls / older_girl)\n",
    "print('P(both | either):', both_girls / either_girl)"
   ]
  },
  {
   "cell_type": "markdown",
   "id": "48120c97-cfce-48e6-b56d-7fa345a5d5db",
   "metadata": {},
   "source": [
    "## Bayes Theorem"
   ]
  },
  {
   "cell_type": "markdown",
   "id": "ceddcd5f-6d15-49c0-8e74-ccf20dfa5822",
   "metadata": {},
   "source": [
    "Bayes theorem is a way of \"reversing\" conditional probabilities.\n",
    "Let's say we need to know the probability of some event E conditional\n",
    "on some other event occurring.\n",
    "But we only have information about the probability of F conditional on E\n",
    "occurring. Using the definition of conditional probability twice tells us that:\n",
    "\n",
    "$$\n",
    "P(E|F) = P(E, F) / P(F) = P(F|E)P(E) / P(F)\n",
    "$$\n",
    "\n",
    "The event F can be split into the two mutually exclusive events \"F and E\" and\n",
    "\"F and not E\". If we write ¬E for \"not E\" (i.e. \"E doesn't happen\"), then\n",
    "\n",
    "$$\n",
    "P(F) = P(F, E) + P(F, \\neg E)\n",
    "$$"
   ]
  },
  {
   "cell_type": "markdown",
   "id": "d9034b4f-3bf6-4b88-a20f-643432aafe8c",
   "metadata": {},
   "source": [
    "So that:\n",
    "$$\n",
    "P(E, F) = P(F|E)P(E) / [P(F|E)P(E) + P(F|\\neg E)P(\\neg E)]\n",
    "$$"
   ]
  },
  {
   "cell_type": "markdown",
   "id": "35ebc68f-a492-449e-bc45-f803cf9bc43c",
   "metadata": {},
   "source": [
    "which is how Bayes’s theorem is often stated."
   ]
  },
  {
   "cell_type": "markdown",
   "id": "f0b70e81-32dd-41d3-b8b6-a177d2e63e13",
   "metadata": {},
   "source": [
    "This theorem often gets used to demonstrate why data scientists are smarter than doctors. Imagine a certain disease that affects 1 in every 10,000 people. And imagine that there is a test for this disease that gives the correct result (“diseased” if you have the disease, “nondiseased” if you don’t) 99% of the time."
   ]
  },
  {
   "cell_type": "markdown",
   "id": "e07eb622-60bc-4378-a116-741be637d618",
   "metadata": {},
   "source": [
    "What does a positive test mean? Let’s use T for the event “your test is positive” and D for the event “you have the disease.” Then Bayes’s theorem says that the probability that you have the disease, conditional on testing positive, is:"
   ]
  },
  {
   "cell_type": "markdown",
   "id": "6656917e-c51d-4a36-a7aa-6f6630cd3c10",
   "metadata": {},
   "source": [
    "$$\n",
    "P(D|T) = \\frac{P(T|D)P(D)}{P(T|D)P(D) + P(T|\\neg D)P(\\neg D)}\n",
    "$$"
   ]
  },
  {
   "cell_type": "markdown",
   "id": "483f7b58-fccd-4747-a462-86b96edd3cc8",
   "metadata": {},
   "source": [
    "Here we know that $P(T|D)$, the probability that someone with the disease\n",
    "tests positive, is 0.99. $P(D)$, the probability that any given person has the\n",
    "disease is $1/10,000 = 0.0001$. $P(T|\\neg D)$, the probability that someone \n",
    "without the disease tests positive, is 0.001. And $P(\\neg D)$, the probability\n",
    "that any given person doesn't have the disease, is 0.9999, If you substitute\n",
    "these numbers into Bayes' theorem, you find:\n",
    "\n",
    "$$\n",
    "P(D|T) = 0.98\\%\n",
    "$$"
   ]
  },
  {
   "cell_type": "markdown",
   "id": "68d30026-0311-4c9b-9fb4-79a5a65787a2",
   "metadata": {},
   "source": [
    "That is, less than 1% of the people who test positive actually have the disease."
   ]
  },
  {
   "cell_type": "markdown",
   "id": "b9f83e95-9792-4627-b39c-32ad056958dc",
   "metadata": {},
   "source": [
    "A more intuitive way to see this is to imagine a population of 1 million people. You’d expect 100 of them to have the disease, and 99 of those 100 to test positive. On the other hand, you’d expect 999,900 of them not to have the disease, and 9,999 of those to test positive. That means you’d expect only 99 out of (99 + 9999) positive testers to actually have the disease."
   ]
  },
  {
   "cell_type": "code",
   "execution_count": null,
   "id": "17a5e08b-55bb-4708-afed-708894784508",
   "metadata": {},
   "outputs": [],
   "source": []
  }
 ],
 "metadata": {
  "kernelspec": {
   "display_name": "Python 3 (ipykernel)",
   "language": "python",
   "name": "python3"
  },
  "language_info": {
   "codemirror_mode": {
    "name": "ipython",
    "version": 3
   },
   "file_extension": ".py",
   "mimetype": "text/x-python",
   "name": "python",
   "nbconvert_exporter": "python",
   "pygments_lexer": "ipython3",
   "version": "3.7.9"
  }
 },
 "nbformat": 4,
 "nbformat_minor": 5
}
