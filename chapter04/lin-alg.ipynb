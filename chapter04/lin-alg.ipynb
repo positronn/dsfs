{
 "cells": [
  {
   "cell_type": "markdown",
   "id": "92af448b-ee89-41d2-ab64-cc4b303d2482",
   "metadata": {},
   "source": [
    "# 04 Linear algebra"
   ]
  },
  {
   "cell_type": "markdown",
   "id": "8f2d6549-658f-4736-8ad1-197711b0e0ee",
   "metadata": {},
   "source": [
    "## Vectors"
   ]
  },
  {
   "cell_type": "markdown",
   "id": "7a785ca3-9d3f-4d1a-93bb-1127aa6118d9",
   "metadata": {},
   "source": [
    "\n",
    "Abstractly, vectors are objects that can be added together to form new vectors and that can be multiplied by scalars (i.e., numbers), also to form new vectors.\n",
    "\n",
    "Concretely (for us), vectors are points in some finite-dimensional space.\n",
    "Although you might not think of your data as vectors, they are often a\n",
    "useful way to represent numeric data.\n",
    "For example, if you have the heights, weights, and ages of a large\n",
    "number of people, you can treat your data as three-dimensional vector\n",
    "`[height, weight, age]`\n",
    ". If you’re teaching a class with four exams, you can treat student\n",
    "grades as four-dimensional vectors `[exam1, exam2, exam3, exam4]`."
   ]
  },
  {
   "cell_type": "markdown",
   "id": "3523e498-dac5-46f0-8262-f4c808f151bc",
   "metadata": {},
   "source": [
    "The simplest from-scratch approach is to represent vectors as lists of numbers. A list of three numbers corresponds to a vector in three- dimensional space, and vice versa.\n",
    "\n",
    "We’ll accomplish this with a type alias that says a `Vector` is just a\n",
    "`list` of `float`s:"
   ]
  },
  {
   "cell_type": "code",
   "execution_count": 1,
   "id": "2b6b6d04-35b6-473f-8a71-8565ba9dee02",
   "metadata": {},
   "outputs": [],
   "source": [
    "from typing import List\n",
    "\n",
    "Vector = List[float]\n",
    "\n",
    "height_weight_age = [\n",
    "    70,  # inches\n",
    "    170, # pounds\n",
    "    40   # years\n",
    "]\n",
    "\n",
    "grades = [\n",
    "    95,  # exam1\n",
    "    80,  # exam2\n",
    "    75,  # exam3\n",
    "    62   # exam4\n",
    "]"
   ]
  },
  {
   "cell_type": "markdown",
   "id": "ee372725-c928-48a7-9bc9-85d407613988",
   "metadata": {},
   "source": [
    "We’ll also want to perform arithmetic on vectors.\n",
    "Because Python `list`s aren’t vectors (and hence provide no facilities for vector arithmetic), we’ll need to build these arithmetic tools ourselves. So let’s start with that."
   ]
  },
  {
   "cell_type": "markdown",
   "id": "14f2e8de-3724-4dc0-be88-ecf257279d85",
   "metadata": {},
   "source": [
    "We can easily implement this by `zip`-ing the vectors together and using a list comprehension to add the corresponding elements:"
   ]
  },
  {
   "cell_type": "code",
   "execution_count": 4,
   "id": "95dd1bf3-b59a-494e-8996-74f3087b1275",
   "metadata": {},
   "outputs": [],
   "source": [
    "def add(v: Vector, w: Vector) -> Vector:\n",
    "    \"\"\"Adds corresponding elements\"\"\"\n",
    "    assert len(v) == len(w), 'vectors must be the same length'\n",
    "\n",
    "    return [v_i + w_i for v_i, w_i in zip(v, w)]\n",
    "\n",
    "assert add([1, 2, 3], [4, 5, 6]) == [5, 7, 9], 'This is an example of holding the addition definition'"
   ]
  },
  {
   "cell_type": "markdown",
   "id": "3fae4b15-a4e5-4d21-ae1b-d623b2d69231",
   "metadata": {},
   "source": [
    "Similarly, to subtract two vectors we just subtract the corresponding elements:"
   ]
  },
  {
   "cell_type": "code",
   "execution_count": 5,
   "id": "a46cc58f-e88d-44ac-9aa1-febd8565e1ee",
   "metadata": {},
   "outputs": [],
   "source": [
    "def subtract(v: Vector, w: Vector) -> Vector:\n",
    "    \"\"\"Sbtracts corresponding elements\"\"\"\n",
    "    assert len(v) == len(w), 'vectors must be the same length'\n",
    "    \n",
    "    return [v_i - w_i for v_i, w_i in zip(v, w)]\n",
    "\n",
    "assert subtract([5, 7, 9], [4, 5, 6]) == [1, 2, 3], 'This is an example of holding the subtract definition'"
   ]
  },
  {
   "cell_type": "markdown",
   "id": "2b0567cc-5d85-4d86-897e-d2749ff5fc4f",
   "metadata": {},
   "source": [
    "We’ll also sometimes want to componentwise sum a list of vectors—that is, create a new vector whose first element is the sum of all the first elements, whose second element is the sum of all the second elements, and so on:"
   ]
  },
  {
   "cell_type": "code",
   "execution_count": 12,
   "id": "d93e6ace-9b14-467e-ad27-d6ddcf021e2c",
   "metadata": {},
   "outputs": [],
   "source": [
    "def vector_sum(vectors: List[Vector]) -> Vector:\n",
    "    \"\"\"Sums all corresponding elements\"\"\"\n",
    "    # check that vectors is not empty\n",
    "    assert vectors, 'no vectors provided.'\n",
    "    \n",
    "    # check the vectors are all the same size\n",
    "    num_elements = len(vectors[0])\n",
    "    assert all(len(v) == num_elements for v in vectors), 'different sizes!'\n",
    "    \n",
    "    # the i-th element of the result is the sum of every vector[i]\n",
    "    return [sum(vector[i] for vector in vectors)\n",
    "                              for i in range(0, num_elements)]\n",
    "\n",
    "assert vector_sum([[1, 2], [3, 4], [5, 6], [7, 8]]) == [16, 20]\n",
    "assert vector_sum([[1, 2, 3], [4, 5, 6]]) == [5, 7, 9]"
   ]
  },
  {
   "cell_type": "markdown",
   "id": "8f1e3986-1b35-4e00-970d-00b17d05007d",
   "metadata": {},
   "source": [
    "We’ll also need to be able to multiply a vector by a scalar, which we do simply by multiplying each element of the vector by that number:"
   ]
  },
  {
   "cell_type": "code",
   "execution_count": 13,
   "id": "de10a23c-6459-4993-bbb3-14bb2aba7192",
   "metadata": {},
   "outputs": [],
   "source": [
    "def scalar_multiply(c: float, v: Vector) -> Vector:\n",
    "    \"\"\"Multiplies every element vy c\"\"\"\n",
    "    return [c * v_i for v_i in v]\n",
    "\n",
    "assert scalar_multiply(2, [1, 2, 3]) == [2, 4, 6]"
   ]
  },
  {
   "cell_type": "markdown",
   "id": "f7d3d704-02af-4926-995d-b9c85aca1ded",
   "metadata": {},
   "source": [
    "This allows us to compute the componentwise means of a list of (same- sized) vectors:"
   ]
  },
  {
   "cell_type": "code",
   "execution_count": 15,
   "id": "2587f7ab-7bb7-401b-b5a5-a4dc7ab6169c",
   "metadata": {},
   "outputs": [],
   "source": [
    "def vector_mean(vectors: List[Vector]) -> Vector:\n",
    "    \"\"\"Computes the element-wise average\"\"\"\n",
    "    n = len(vectors)\n",
    "    return scalar_multiply(1 / n, vector_sum(vectors))\n",
    "\n",
    "assert vector_mean([[1, 2], [3, 4], [5, 6]]) == [3, 4]"
   ]
  },
  {
   "cell_type": "markdown",
   "id": "cf834ec7-e18d-4b3a-bf44-8cc0684d96d4",
   "metadata": {},
   "source": [
    "A less obvious tool is the dot product. The dot product of two vectors is the sum of their componentwise products:"
   ]
  },
  {
   "cell_type": "code",
   "execution_count": 17,
   "id": "d1e7b175-7d70-4d06-9140-2fd20e6cbde6",
   "metadata": {},
   "outputs": [],
   "source": [
    "def dot(v: Vector, w: Vector) -> float:\n",
    "    \"\"\"Computes v_1 * w_1 + ... + v_n * w_n\"\"\"\n",
    "    assert len(v) == len(w), 'vectors must be the same length'\n",
    "    \n",
    "    return sum(v_i * w_i for v_i, w_i in zip(v, w))\n",
    "\n",
    "assert dot([1, 2, 3], [4, 5, 6]) == 32"
   ]
  },
  {
   "cell_type": "markdown",
   "id": "068a129a-1efa-44df-a8fc-95698b20d917",
   "metadata": {},
   "source": [
    "If has magnitude 1, the dot product measures how far the vector extends\n",
    "in the direction. For example, if `w = [1, 0]` , then \n",
    "`dot(v, w)` is just the first component\n",
    "of `v`. Another way of saying this is that it’s the length of the\n",
    "vector you’d get if you projected `v` onto `w`."
   ]
  },
  {
   "cell_type": "markdown",
   "id": "9515d83c-d527-41dc-9301-dba85a4a7cd4",
   "metadata": {},
   "source": [
    "Using this, it’s easy to compute a vector’s sum of squares:"
   ]
  },
  {
   "cell_type": "code",
   "execution_count": 18,
   "id": "71c1b5be-fca7-419c-81be-e7a0402888d9",
   "metadata": {},
   "outputs": [],
   "source": [
    "def sum_of_squares(v: Vector) -> float:\n",
    "    \"\"\"Return v_1 * v_1 + ... + v_n * v_n\"\"\"\n",
    "    return dot(v, v)\n",
    "\n",
    "assert sum_of_squares([1, 2, 3]) == 14"
   ]
  },
  {
   "cell_type": "markdown",
   "id": "2aafc936-a84d-4794-bef5-b829c5c01588",
   "metadata": {},
   "source": [
    "which we can use to compute its magnitude (or length):"
   ]
  },
  {
   "cell_type": "code",
   "execution_count": 19,
   "id": "b0952f3e-6229-4277-b7bc-a73274b07681",
   "metadata": {},
   "outputs": [],
   "source": [
    "import math\n",
    "\n",
    "def magnitude(v: Vector) -> float:\n",
    "    \"\"\"Returns the magnitude (or length) of v\"\"\"\n",
    "    return math.sqrt(sum_of_squares(v))\n",
    "\n",
    "assert magnitude([3, 4]) == 5"
   ]
  },
  {
   "cell_type": "markdown",
   "id": "bafbb475-98d1-400a-b398-3472ef720bc3",
   "metadata": {},
   "source": [
    "We now have all the pieces we need to compute the distance between two vectors, defined as:\n"
   ]
  },
  {
   "cell_type": "markdown",
   "id": "1fece267-7653-46df-934d-b3b6913b922b",
   "metadata": {},
   "source": [
    "$$ \\sqrt{(v_1 - w_1)^2 + ... + (v_n -w_n)^2}$$"
   ]
  },
  {
   "cell_type": "markdown",
   "id": "c4b1cd48-4f4c-4e0d-bfac-c72c7c59e693",
   "metadata": {},
   "source": [
    "In code:"
   ]
  },
  {
   "cell_type": "code",
   "execution_count": 20,
   "id": "97607569-25a3-43c9-9a33-c3cfa2bd286d",
   "metadata": {},
   "outputs": [],
   "source": [
    "def squared_distance(v: Vector, w: Vector) -> float:\n",
    "    \"\"\"Computes (v_1 - w_1) ** 2 + ... + (v_n - w_n) ** 2\"\"\"\n",
    "    return sum_of_squares(subtract(v, w))\n",
    "\n",
    "def distance(v: Vector, w: Vector) -> float:\n",
    "    \"\"\"Computes the distance between v and w\"\"\"\n",
    "    return math.sqrt(squared_distance(v, w))\n"
   ]
  },
  {
   "cell_type": "markdown",
   "id": "5ed6d37e-0395-446c-a586-3020c90ee78d",
   "metadata": {},
   "source": [
    "This is possibly clearer if we write it as (the equivalent):"
   ]
  },
  {
   "cell_type": "code",
   "execution_count": 21,
   "id": "0ec7d696-2a0f-493e-8cc1-365f0324d459",
   "metadata": {},
   "outputs": [],
   "source": [
    "def distance(v: Vector, w: Vector) -> float:\n",
    "    return magnitude(subtract(v, w))"
   ]
  },
  {
   "cell_type": "markdown",
   "id": "e5069b55-88c2-4508-9527-f694068e9585",
   "metadata": {},
   "source": [
    "## Matrices"
   ]
  },
  {
   "cell_type": "markdown",
   "id": "e630a6f8-c2bd-49d5-b0bc-f2934290ec8d",
   "metadata": {},
   "source": [
    "A matrix is a two-dimensional collection of numbers. We will represent matrices as lists of lists, with each inner list having the same size and representing a row of the matrix. If `A` is a matrix, then `A[i][j]` is the element in the ith row and the jth column. Per mathematical convention, we will frequently use capital letters to represent matrices. "
   ]
  },
  {
   "cell_type": "code",
   "execution_count": 23,
   "id": "83129681-2aee-482a-9eba-870571eae595",
   "metadata": {},
   "outputs": [],
   "source": [
    "# Another type alias\n",
    "Matrix = List[List[float]]\n",
    "\n",
    "A = [\n",
    "    [1, 2, 3],\n",
    "    [4, 5, 6]\n",
    "]\n",
    "\n",
    "B = [\n",
    "    [1, 2],\n",
    "    [3, 4],\n",
    "    [5, 6]\n",
    "]"
   ]
  },
  {
   "cell_type": "markdown",
   "id": "64d7ad00-be75-412e-a417-aa70edda22f2",
   "metadata": {},
   "source": [
    "Given this list-of-liss representation, the matrix `A` has `len(A)` rows and `len(A[0])`\n",
    "columns, which we consider its `shape`:"
   ]
  },
  {
   "cell_type": "code",
   "execution_count": 25,
   "id": "78ebb484-f8c4-4fc1-b861-09e12ea76328",
   "metadata": {},
   "outputs": [],
   "source": [
    "from typing import Tuple\n",
    "\n",
    "def shape(A: Matrix) -> Tuple[int, int]:\n",
    "    \"\"\"Returns (# of rows of A, # of columns of A)\"\"\"\n",
    "    num_rows = len(A)\n",
    "    num_cols = len(A[0]) if A else 0\n",
    "    return num_rows, num_cols\n",
    "\n",
    "assert shape([[1, 2, 3], [4, 5, 6]]) == (2, 3)"
   ]
  },
  {
   "cell_type": "markdown",
   "id": "bc18725c-80dc-4c3e-a3b6-0869bd0b6dea",
   "metadata": {},
   "source": [
    "If a matrix has n rows and k columns, we will refer to it as an n × k matrix. We can (and sometimes will) think of each row of an n × k matrix as a vector of length k, and each column as a vector of length n:"
   ]
  },
  {
   "cell_type": "code",
   "execution_count": 26,
   "id": "6104f142-87f7-4e31-8fde-ec40af1de6b1",
   "metadata": {},
   "outputs": [],
   "source": [
    "def get_row(A: Matrix, i: int) -> Vector:\n",
    "    \"\"\"Returns the i-th row of A (as a Vector)\"\"\"\n",
    "    return A[i]\n",
    "\n",
    "\n",
    "def get_colum(A: Matrix, j:int) -> Vector:\n",
    "    \"\"\"Returns the j-th column of A (as a Vector)\"\"\"\n",
    "    return [A_i[j] for A_i in A]"
   ]
  },
  {
   "cell_type": "markdown",
   "id": "8c599a48-fb86-4fa9-bd3e-22db10e2def5",
   "metadata": {},
   "source": [
    "We’ll also want to be able to create a matrix given its shape and a function for generating its elements. We can do this using a nested list comprehension:|"
   ]
  },
  {
   "cell_type": "code",
   "execution_count": 34,
   "id": "ce0d8c57-e267-4fea-bf49-a3319558e607",
   "metadata": {},
   "outputs": [],
   "source": [
    "from typing import Callable\n",
    "\n",
    "def make_matrix(num_rows:int, num_cols:int, entry_fn:Callable[[int, int], float]) -> Matrix:\n",
    "    \"\"\"Returns a num_rows x num_cols matrix\n",
    "    whose (i, j)-th entry is entry_fn(i, j)\n",
    "    \"\"\"\n",
    "    return [\n",
    "        [entry_fn(i, j) for j in range(0, num_cols)]       # create list [entry_fn(i, 0), ..., entry_fn(i, num_cols-1)]\n",
    "                            for i in range(0, num_rows)  # create one list for each i (num_rows - 1)\n",
    "    ]"
   ]
  },
  {
   "cell_type": "markdown",
   "id": "ea111b26-47c0-418c-9aa0-ce3204c43615",
   "metadata": {},
   "source": [
    "Given this function, you could make a 5 × 5 identity matrix (with 1s on the diagonal and 0s elsewhere) like so:"
   ]
  },
  {
   "cell_type": "code",
   "execution_count": 36,
   "id": "b08a304e-34b2-4b94-847e-4cf2bc0b613a",
   "metadata": {},
   "outputs": [],
   "source": [
    "def identity_matrix(n:int) -> Matrix:\n",
    "    \"\"\"Returns the n x n identity matrix\"\"\"\n",
    "    return make_matrix(n, n, lambda i, j: 1 if i == j else 0)\n",
    "\n",
    "assert identity_matrix(5) == [\n",
    "    [1, 0, 0, 0, 0],\n",
    "    [0, 1, 0, 0, 0],\n",
    "    [0, 0, 1, 0, 0],\n",
    "    [0, 0, 0, 1, 0],\n",
    "    [0, 0, 0, 0, 1]\n",
    "]"
   ]
  },
  {
   "cell_type": "markdown",
   "id": "f9b491ee-42c7-44e6-8536-39194d150db7",
   "metadata": {},
   "source": [
    "Matrices will be important to us for several reasons."
   ]
  },
  {
   "cell_type": "markdown",
   "id": "bda62efd-8619-4d35-bf48-2bd2e8765c47",
   "metadata": {},
   "source": [
    "First, we can use a matrix to represent a dataset consisting of multiple vectors, simply by considering each vector as a row of the matrix. For example, if you had the heights, weights, and ages of 1,000 people, you could put them in a 1,000 × 3 matrix:\n"
   ]
  },
  {
   "cell_type": "markdown",
   "id": "b88afda5-9217-4099-affc-f4f75db0729c",
   "metadata": {},
   "source": [
    "\n",
    "Second, as we’ll see later, we can use an n × k matrix to represent a linear function that maps k-dimensional vectors to n-dimensional vectors. Several of our techniques and concepts will involve such functions.\n"
   ]
  },
  {
   "cell_type": "markdown",
   "id": "7d379cf5-d593-4fa8-b92c-13e528fe0684",
   "metadata": {},
   "source": [
    "Third, matrices can be used to represent binary relationships. "
   ]
  },
  {
   "cell_type": "code",
   "execution_count": 37,
   "id": "480ce743-db1b-4b78-9b3c-1e3c53de62f1",
   "metadata": {},
   "outputs": [],
   "source": [
    "friendships = [(0, 1), (0, 2), (1, 2), (1, 3), (2, 3), (3, 4),\n",
    "               (4, 5), (5, 6), (5, 7), (6, 8), (7, 8), (8, 9)]"
   ]
  },
  {
   "cell_type": "markdown",
   "id": "d671ce36-245c-4da0-9690-07161f32a8c5",
   "metadata": {},
   "source": [
    "We could also represent this as:"
   ]
  },
  {
   "cell_type": "code",
   "execution_count": 38,
   "id": "3bc3d059-df44-44e2-9751-5044c5ccdbda",
   "metadata": {},
   "outputs": [],
   "source": [
    "friend_matrix = [[0, 1, 1, 0, 0, 0, 0, 0, 0, 0],  # user 0\n",
    "                 [1, 0, 1, 1, 0, 0, 0, 0, 0, 0],  # user 1\n",
    "                 [1, 1, 0, 1, 0, 0, 0, 0, 0, 0],  # user 2\n",
    "                 [0, 1, 1, 0, 1, 0, 0, 0, 0, 0],  # user 3\n",
    "                 [0, 0, 0, 1, 0, 1, 0, 0, 0, 0],  # user 4\n",
    "                 [0, 0, 0, 0, 1, 0, 1, 1, 0, 0],  # user 5\n",
    "                 [0, 0, 0, 0, 0, 1, 0, 0, 1, 0],  # user 6\n",
    "                 [0, 0, 0, 0, 0, 1, 0, 0, 1, 0],  # user 7\n",
    "                 [0, 0, 0, 0, 0, 0, 1, 1, 0, 1],  # user 8\n",
    "                 [0, 0, 0, 0, 0, 0, 0, 0, 1, 0]]  # user 9"
   ]
  },
  {
   "cell_type": "markdown",
   "id": "c38b09e7-ee57-441c-88f0-b02b523cdb66",
   "metadata": {},
   "source": [
    "If there are very few connections, this is a much more inefficient representation, since you end up having to store a lot of zeros. However, with the matrix representation it is much quicker to check whether two nodes are connected—you just have to do a matrix lookup instead of (potentially) inspecting every edge:"
   ]
  },
  {
   "cell_type": "code",
   "execution_count": 39,
   "id": "bf271b30-b369-4c02-9ae8-080dc1754660",
   "metadata": {},
   "outputs": [],
   "source": [
    "assert friend_matrix[0][2] == 1, \"0 and 2 are friends\"\n",
    "assert friend_matrix[0][8] == 0, \"0 and 8 are not friends\""
   ]
  },
  {
   "cell_type": "markdown",
   "id": "a14a5d2e-1317-4ea0-8f9a-84f6d8920ad3",
   "metadata": {},
   "source": [
    "Similarly, to find a node’s connections, you only need to inspect the column (or the row) corresponding to that node:"
   ]
  },
  {
   "cell_type": "code",
   "execution_count": 40,
   "id": "e988c166-d7e4-45c9-8201-8e2ac1429e25",
   "metadata": {},
   "outputs": [
    {
     "data": {
      "text/plain": [
       "[4, 6, 7]"
      ]
     },
     "execution_count": 40,
     "metadata": {},
     "output_type": "execute_result"
    }
   ],
   "source": [
    "# only need to look at one row\n",
    "friends_of_five = [i for i, is_friend in enumerate(friend_matrix[5]) if is_friend]\n",
    "\n",
    "friends_of_five"
   ]
  },
  {
   "cell_type": "markdown",
   "id": "d0369bab-8437-496b-aa88-ce634f15bd1e",
   "metadata": {},
   "source": [
    "With a small graph you could just add a list of connections to each node object to speed up this process; but for a large, evolving graph that would probably be too expensive and difficult to maintain.\n"
   ]
  },
  {
   "cell_type": "code",
   "execution_count": null,
   "id": "5b455b34-6387-49fc-814e-4b9b4eb9dd88",
   "metadata": {},
   "outputs": [],
   "source": []
  }
 ],
 "metadata": {
  "kernelspec": {
   "display_name": "Python 3 (ipykernel)",
   "language": "python",
   "name": "python3"
  },
  "language_info": {
   "codemirror_mode": {
    "name": "ipython",
    "version": 3
   },
   "file_extension": ".py",
   "mimetype": "text/x-python",
   "name": "python",
   "nbconvert_exporter": "python",
   "pygments_lexer": "ipython3",
   "version": "3.7.9"
  }
 },
 "nbformat": 4,
 "nbformat_minor": 5
}
