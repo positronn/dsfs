{
 "cells": [
  {
   "cell_type": "markdown",
   "id": "bd294562-facd-48b3-b9ba-ee362dd2ca75",
   "metadata": {},
   "source": [
    "# 08 Gradient Descent"
   ]
  },
  {
   "cell_type": "markdown",
   "id": "89ff8079-2684-4866-ab3a-514c594b0d3a",
   "metadata": {},
   "source": [
    "## The Idea Behind Gradient Descent"
   ]
  },
  {
   "cell_type": "markdown",
   "id": "d64066b3-56d0-41f3-a5c2-3941620190e0",
   "metadata": {},
   "source": [
    "Suppose we have some function `f` that takes as input a vector of real numbers and outputs a single real number. One simple such function is:"
   ]
  },
  {
   "cell_type": "code",
   "execution_count": 1,
   "id": "10716f7c-b254-41f8-83dd-09ac01883460",
   "metadata": {},
   "outputs": [],
   "source": [
    "from scratchlib.linalg import Vector\n",
    "from scratchlib.linalg import dot"
   ]
  },
  {
   "cell_type": "code",
   "execution_count": 2,
   "id": "934594d2-272f-4992-b34b-a15361c09e4e",
   "metadata": {},
   "outputs": [],
   "source": [
    "def sum_of_squares(v:Vector) -> float:\n",
    "    \"\"\"Computes the sum of squared elements in v\"\"\"\n",
    "    return dot(v, v)"
   ]
  },
  {
   "cell_type": "markdown",
   "id": "33a30697-8a21-43df-897f-9fd3e38806db",
   "metadata": {},
   "source": [
    "We’ll frequently need to maximize or minimize such functions. That is, we need to find the input `v` that produces the largest (or smallest) possible value.\n"
   ]
  },
  {
   "cell_type": "markdown",
   "id": "47ad3ed6-1000-4c35-9c63-36de13833d12",
   "metadata": {},
   "source": [
    "For functions like ours, the gradient (if you remember your calculus, this is the vector of partial derivatives) gives the input direction in which the function most quickly increases. (If you don’t remember your calculus, take my word for it or look it up on the internet.)\n"
   ]
  },
  {
   "cell_type": "markdown",
   "id": "9a036921-e566-4107-9a50-c57c25041657",
   "metadata": {},
   "source": [
    "Accordingly, one approach to maximizing a function is to pick a random starting point, compute the gradient, take a small step in the direction of the gradient (i.e., the direction that causes the function to increase the most), and repeat with the new starting point. Similarly, you can try to minimize a function by taking small steps in the opposite direction."
   ]
  },
  {
   "cell_type": "markdown",
   "id": "01dbdcc5-5def-429a-9994-7d358ed50dc7",
   "metadata": {},
   "source": [
    "NOTE:\n",
    "\n",
    "If a function has a unique global minimum, this procedure is likely to find it. If a function has multiple (local) minima, this procedure might “find” the wrong one of them, in which case you might rerun the procedure from different starting points. If a function has no minimum, then it’s possible the procedure might go on forever."
   ]
  },
  {
   "cell_type": "markdown",
   "id": "a43fed51-02a5-43e2-952a-b16f39b872db",
   "metadata": {},
   "source": [
    "## Estimating the Gradient"
   ]
  },
  {
   "cell_type": "markdown",
   "id": "6b551cef-0d7d-4cfe-b9c2-fcdeb4ffebf3",
   "metadata": {},
   "source": [
    "If `f` is a function of one vriable, its derivative at a point `x` measures how `f(x)` changes when we make a very small change to `x`. The derivative is defined as the limit of the difference quotients:"
   ]
  },
  {
   "cell_type": "code",
   "execution_count": 3,
   "id": "c5b1dc01-91f6-4ae4-bd4b-57581103aa5a",
   "metadata": {},
   "outputs": [],
   "source": [
    "from typing import Callable\n",
    "\n",
    "def difference_quotient(f:Callable[[float], float],\n",
    "                        x:float,\n",
    "                        h:float) -> float:\n",
    "    return (f(x + h) - f(x)) / h"
   ]
  },
  {
   "cell_type": "markdown",
   "id": "cce503c5-553e-491e-96f6-980002164023",
   "metadata": {},
   "source": [
    "as `h` approaches zero."
   ]
  },
  {
   "cell_type": "markdown",
   "id": "5473a7ea-5603-42f5-9019-206e2fe1d04c",
   "metadata": {},
   "source": [
    "The derivative is the slope of the tangent line at $(x, f(x))$ , while the difference quotient is the slope of the not-quite-tangent line that runs through $(x + h, f(x + h)$. As h gets smaller and smaller, the not-quite- tangent line gets closer and closer to the tangent line"
   ]
  },
  {
   "cell_type": "markdown",
   "id": "f124e8ff-cd7a-4c94-83fb-604716d9cb1d",
   "metadata": {},
   "source": [
    "For many functions it’s easy to exactly calculate derivatives. For example, the function:"
   ]
  },
  {
   "cell_type": "code",
   "execution_count": 4,
   "id": "202bf41b-8049-4a0e-a3bd-ebd9ee9d5195",
   "metadata": {},
   "outputs": [],
   "source": [
    "def square(x:float) -> float:\n",
    "    return x * x"
   ]
  },
  {
   "cell_type": "markdown",
   "id": "425b02fa-fe5f-4c7f-bafe-96af2b43eb62",
   "metadata": {},
   "source": [
    "has the derivative:"
   ]
  },
  {
   "cell_type": "code",
   "execution_count": 5,
   "id": "15310322-1e08-4a90-b83d-232a74d91c82",
   "metadata": {},
   "outputs": [],
   "source": [
    "def square_derivative(x:float) -> float:\n",
    "    return 2 * x"
   ]
  },
  {
   "cell_type": "markdown",
   "id": "ac6dfa5d-2904-4c15-8ea0-a5bca1846fd2",
   "metadata": {},
   "source": [
    "which is easy for us to check by explicitly computing the difference quotient and taking the limit. (Doing so requires nothing more than high school algebra.)\n",
    "What if you couldn’t (or didn’t want to) find the gradient? Although we can’t take limits in Python, we can estimate derivatives by evaluating the difference quotient for a very small `e`."
   ]
  },
  {
   "cell_type": "code",
   "execution_count": 6,
   "id": "952969a6-b94a-42df-9868-7822377345dc",
   "metadata": {},
   "outputs": [
    {
     "data": {
      "image/png": "[encoded data removed]",
      "text/plain": [
       "<Figure size 432x288 with 1 Axes>"
      ]
     },
     "metadata": {
      "needs_background": "light"
     },
     "output_type": "display_data"
    }
   ],
   "source": [
    "xs = range(-10, 11)\n",
    "actuals = [square_derivative(x) for x in xs]\n",
    "estimates = [difference_quotient(square, x, h=0.001) for x in xs]\n",
    "\n",
    "# plot to show they're basically the same\n",
    "import matplotlib.pyplot as plt\n",
    "plt.title('Actual derivatives vs. estimates')\n",
    "plt.plot(xs, actuals, 'rx', label='Actual')\n",
    "plt.plot(xs, estimates, 'b+', label='Estimate')\n",
    "plt.legend(loc=9)\n",
    "plt.show()"
   ]
  },
  {
   "cell_type": "markdown",
   "id": "18c9920a-3e2c-4911-99bc-12407c7b040d",
   "metadata": {},
   "source": [
    "When `f` is a function of many variables, it has multiple partial derivatives, each indicating how changes when we make small changes in just one of the input variables.\n",
    "We calculate its ith partial derivative by treating it as a function of just its\n",
    "ith variable, holding the other variables fixed:"
   ]
  },
  {
   "cell_type": "code",
   "execution_count": 7,
   "id": "a5b7c797-9f08-4df1-b63d-30fae54d9359",
   "metadata": {},
   "outputs": [],
   "source": [
    "def partial_difference_quotient(f:Callable[[Vector], float],\n",
    "                                v:Vector,\n",
    "                                i:int,\n",
    "                                h:float) -> float:\n",
    "    \"\"\"Returns the i-th partial difference quotient of `f` at `v`\"\"\"\n",
    "    w = [v_j + (h if j == i else 0)\n",
    "             for j, v_j in enumerate(v)]\n",
    "    return (f(w) - f(v)) / h"
   ]
  },
  {
   "cell_type": "markdown",
   "id": "0f40ee7d-45f6-4774-8bb2-2632f2822c56",
   "metadata": {},
   "source": [
    "after which we can estimate the gradient the same way:"
   ]
  },
  {
   "cell_type": "code",
   "execution_count": 8,
   "id": "224755ac-09a5-4e80-8a39-0060881914d8",
   "metadata": {},
   "outputs": [],
   "source": [
    "def estimate_gradient(f:Callable[[Vector], float],\n",
    "                      v:Vector,\n",
    "                      h:float=0.0001) -> Vector:\n",
    "    return [partial_difference_quotient(f, v, i, h)\n",
    "                for i in range(0, len(v))]"
   ]
  },
  {
   "cell_type": "markdown",
   "id": "1f2c12ea-a776-42fb-b8e3-17b2b9847fb7",
   "metadata": {},
   "source": [
    "## Using the Gradient"
   ]
  },
  {
   "cell_type": "markdown",
   "id": "a91f9fea-2145-4d4a-940e-5ddbbc264abd",
   "metadata": {},
   "source": [
    "It’s easy to see that `sum_of_squares` the function is smallest when its input `v` is a vector of zeros. But imagine we didn’t know that. Let’s use gradients\n",
    "to find the minimum among all three-dimensional vectors. We’ll just pick a random starting point and then take tiny steps in the opposite direction of the gradient until we reach a point where the gradient is very small:"
   ]
  },
  {
   "cell_type": "code",
   "execution_count": 9,
   "id": "2c9ed864-7c00-4fb3-86ca-ec7a2164ea3e",
   "metadata": {
    "tags": []
   },
   "outputs": [
    {
     "name": "stdout",
     "output_type": "stream",
     "text": [
      "0 [6.630549480248547, -9.106965543491205, 8.711599119614343]\n",
      "100 [0.879340527408749, -1.2077617259266227, 1.155328406376377]\n",
      "200 [0.11661775022520633, -0.16017282371906935, 0.153219140166228]\n",
      "300 [0.015465794244312119, -0.021242048748031567, 0.02031985432342111]\n",
      "400 [0.0020510667642403037, -0.002817111071258643, 0.0026948100562181865]\n",
      "500 [0.00027201156338403756, -0.00037360401917651344, 0.00035738451287637075]\n",
      "600 [3.607405273422857e-05, -4.9547199103684066e-05, 4.7396175381327e-05]\n",
      "700 [4.784124852937301e-06, -6.570927540959498e-06, 6.2856597301814235e-06]\n",
      "800 [6.344685133415959e-07, -8.714334922986511e-07, 8.336014019221947e-07]\n",
      "900 [8.414293246856683e-08, -1.1556912274046102e-07, 1.105518477161652e-07]\n",
      "1000 [1.1158998335663543e-08, -1.532672573298616e-08, 1.4661336947462222e-08]\n"
     ]
    }
   ],
   "source": [
    "import random\n",
    "from scratchlib.linalg import distance\n",
    "from scratchlib.linalg import add\n",
    "from scratchlib.linalg import scalar_multiply\n",
    "\n",
    "def gradient_step(v:Vector, gradient:Vector, step_size:float) -> Vector:\n",
    "    \"\"\"Moves `step_size` in the `gradient` direction from `v`\"\"\"\n",
    "    assert len(v) == len(gradient)\n",
    "    step = scalar_multiply(step_size, gradient)\n",
    "    return add(v, step)\n",
    "\n",
    "def sum_of_squares_gradient(v:Vector) -> Vector:\n",
    "    return [2 * v_i for v_i in v]\n",
    "\n",
    "# pick a random starting point\n",
    "v = [random.uniform(-10, 10) for i in range(0, 3)]\n",
    "\n",
    "for epoch in range(0, 1001):\n",
    "    grad = sum_of_squares_gradient(v)\n",
    "    v = gradient_step(v, grad, -0.01)\n",
    "    if epoch % 100 == 0:\n",
    "        print(epoch, v)\n",
    "\n",
    "assert distance(v, [0, 0, 0]) < 0.001"
   ]
  },
  {
   "cell_type": "markdown",
   "id": "a27c0c5f-d788-4803-bd38-83ab327c14dd",
   "metadata": {},
   "source": [
    "you’ll find that it always ends up with a `v` that’s very close to `[0, 0, 0]`. The more epochs you run it for, the closer it will get.\n"
   ]
  },
  {
   "cell_type": "markdown",
   "id": "44181821-25cc-4dec-a2f5-3a2316c4c8f5",
   "metadata": {},
   "source": [
    "## Choosing the Right Step Size"
   ]
  },
  {
   "cell_type": "markdown",
   "id": "18f8f8dc-be64-4fb7-a09e-ebb5c869d5c0",
   "metadata": {},
   "source": [
    "Although the rationale for moving against the gradient is clear, how far to move is not. Indeed, choosing the right step size is more of an art than a science. Popular options include:"
   ]
  },
  {
   "cell_type": "markdown",
   "id": "8949b288-b8c0-4cc8-9f8b-13903b389b9e",
   "metadata": {},
   "source": [
    "- Using a fixed step size\n",
    "- Gradually shrinking the step size over time\n",
    "- At each step, choosing the step size that minimizes the value of the objective function"
   ]
  },
  {
   "cell_type": "markdown",
   "id": "5f742769-dc25-448a-baa9-3805ab245951",
   "metadata": {},
   "source": [
    "The last approach sounds great but is, in practice, a costly computation. To keep things simple, we’ll mostly just use a fixed step size. The step size that “works” depends on the problem—too small, and your gradient descent will\n",
    "take forever; too big, and you’ll take giant steps that might make the function you care about get larger or even be undefined. So we’ll need to experiment.\n"
   ]
  },
  {
   "cell_type": "markdown",
   "id": "a54869a2-f5e5-4a53-aed9-15e8f610d6b0",
   "metadata": {},
   "source": [
    "## Using Gradient Descent to Fit Models"
   ]
  },
  {
   "cell_type": "markdown",
   "id": "5be58348-3ba1-4680-8196-0d4411614336",
   "metadata": {},
   "source": [
    "In this book, we’ll be using gradient descent to fit parameterized models to data. In the usual case, we’ll have some dataset and some (hypothesized) model for the data that depends (in a differentiable way) on one or more parameters. We’ll also have a loss function that measures how well the model fits our data. (Smaller is better.)"
   ]
  },
  {
   "cell_type": "markdown",
   "id": "afcbadbf-c3c0-4853-a705-ecb77cae1abe",
   "metadata": {},
   "source": [
    "If we think of our data as being fixed, then our loss function tells us how good or bad any particular model parameters are. This means we can use gradient descent to find the model parameters that make the loss as small as possible. Let’s look at a simple example:"
   ]
  },
  {
   "cell_type": "code",
   "execution_count": 10,
   "id": "4827e2ec-88d9-4625-9392-a379c6a76702",
   "metadata": {},
   "outputs": [],
   "source": [
    "# x ranges from -50 to 49, y is always 20 * x + 5\n",
    "inputs = [(x, 20 * x + 5) for x in range(-50, 50)]"
   ]
  },
  {
   "cell_type": "markdown",
   "id": "89dc3589-9093-449b-b7d9-99adc42cd6c4",
   "metadata": {},
   "source": [
    "In this case we know the parameters of the linear relationship between `x` and `y`, but imagine we’d like to learn them from the data. We’ll use gradient\n",
    "descent to find the slope and intercept that minimize the average squared error."
   ]
  },
  {
   "cell_type": "markdown",
   "id": "6b1f3de0-e0ef-4324-aeae-f14b244c433f",
   "metadata": {},
   "source": [
    "We’ll start off with a function that determines the gradient based on the error from a single data point:"
   ]
  },
  {
   "cell_type": "code",
   "execution_count": 11,
   "id": "3688987d-cb8f-4529-aedf-336b8056e153",
   "metadata": {},
   "outputs": [],
   "source": [
    "def linear_gradient(x:float, y:float, theta:Vector) -> Vector:\n",
    "    slope, intercept = theta\n",
    "    predicted = slope * x + intercept\n",
    "    error = (predicted - y)\n",
    "    squared_error = error ** 2\n",
    "    grad = [2 * error * x, 2 * error]\n",
    "    return grad\n"
   ]
  },
  {
   "cell_type": "markdown",
   "id": "06a21dc4-1a02-403f-a40e-d3cac1aa21b2",
   "metadata": {},
   "source": [
    "Let’s think about what that gradient means. Imagine for some `x` our prediction is too large. In that case the `error` is positive. The second\n",
    "gradient term, `2 * error` , is positive, which reflects the fact that small increases in the intercept will make the (already too large) prediction even larger, which will cause the squared error (for this `x` ) to get even bigger."
   ]
  },
  {
   "cell_type": "markdown",
   "id": "68f8dbbd-edc2-4409-9b26-580365401b32",
   "metadata": {},
   "source": [
    "The first gradient term, `2 * error * x`, has the same sign as `x`. Sure enough, if `x` is positive, small increases in the slope will again make the\n",
    "prediction (and hence the error) larger. If `x` is negative, though, small increases in the slope will make the prediction (and hence the error) smaller."
   ]
  },
  {
   "cell_type": "markdown",
   "id": "c73ea6f6-7908-48fb-bb18-823f6ed44963",
   "metadata": {},
   "source": [
    "\n",
    "Now, that computation was for a single data point. For the whole dataset we’ll look at the mean squared error. And the gradient of the mean squared error is just the mean of the individual gradients."
   ]
  },
  {
   "cell_type": "markdown",
   "id": "060f353a-9d6e-468d-8611-b8843c56bc0f",
   "metadata": {},
   "source": [
    "So, here’s what we’re going to do:\n",
    "1. Start with a random value for .\n",
    "2. Compute the mean of the gradients.\n",
    "3. Adjust in that direction.\n",
    "4. Repeat."
   ]
  },
  {
   "cell_type": "markdown",
   "id": "720c0bb7-94f9-4773-bf98-93c529376a84",
   "metadata": {},
   "source": [
    "After a lot of epochs (what we call each pass through the dataset), we should learn something like the correct parameters:"
   ]
  },
  {
   "cell_type": "code",
   "execution_count": 12,
   "id": "ae32c489-7abd-49e5-8a06-6a001820974a",
   "metadata": {
    "tags": []
   },
   "outputs": [
    {
     "name": "stdout",
     "output_type": "stream",
     "text": [
      "0 [33.213806143205886, -0.058880234949821204]\n",
      "200 [19.997967088215724, 1.6152006582105816]\n",
      "400 [19.99863768021838, 2.7317367453903323]\n",
      "600 [19.999087065557028, 3.4799636041371773]\n",
      "800 [19.99938821317255, 3.9813745648561216]\n",
      "1000 [19.999590021906698, 4.317386228417853]\n",
      "1200 [19.999725260451115, 4.542558486095736]\n",
      "1400 [19.999815888163404, 4.693453681489576]\n",
      "1600 [19.99987662071765, 4.794573420784979]\n",
      "1800 [19.999917319561877, 4.862337020868347]\n",
      "2000 [19.999944593170603, 4.907747595779386]\n",
      "2200 [19.99996287009584, 4.9381786872682385]\n",
      "2400 [19.999975118053168, 4.9585715435801765]\n",
      "2600 [19.99998332580457, 4.972237454601197]\n",
      "2800 [19.999988826083626, 4.981395422527695]\n",
      "3000 [19.999992511998094, 4.987532472330943]\n",
      "3200 [19.999994982048314, 4.991645107425304]\n",
      "3400 [19.999996637308662, 4.994401116902437]\n",
      "3600 [19.99999774655203, 4.996248007779884]\n",
      "3800 [19.99999848989181, 4.997485668949586]\n",
      "4000 [19.999998988027773, 4.998315065634419]\n",
      "4200 [19.999999321844758, 4.998870871114668]\n",
      "4400 [19.99999954554629, 4.999243334300888]\n",
      "4600 [19.999999695455905, 4.999492933900061]\n",
      "4800 [19.999999795915176, 4.999660198645172]\n",
      "5000 [19.999999863236173, 4.999772288147923]\n"
     ]
    }
   ],
   "source": [
    "from scratchlib.linalg import vector_mean\n",
    "\n",
    "# start with random values for slipe and intercept\n",
    "theta = [random.uniform(-1, 1), random.uniform(-1, 1)]\n",
    "learning_rate = 0.001\n",
    "\n",
    "for epoch in range(0, 5001):\n",
    "    # compute the mean of the gradients\n",
    "    grad = vector_mean([linear_gradient(x, y, theta) for x, y in inputs])\n",
    "    # take a step in that direction\n",
    "    theta = gradient_step(theta, grad, -learning_rate)\n",
    "    if epoch % 200 == 0:\n",
    "        print(epoch, theta)\n",
    "\n",
    "slope, intercept = theta\n",
    "assert 19.9 < slope < 20.1, 'slope should be about 20'\n",
    "assert 4.9 < intercept < 5.1, 'intercept should be about 5'"
   ]
  },
  {
   "cell_type": "markdown",
   "id": "28df44e0-83d0-491a-9c2f-339ba0df2a18",
   "metadata": {},
   "source": [
    "## Minibatch and Stochastic Gradient Descent"
   ]
  },
  {
   "cell_type": "markdown",
   "id": "d0fff103-9a25-496e-a061-52f3c8136a62",
   "metadata": {},
   "source": [
    "One drawback of the preceding approach is that we had to evaluate the gradients on the entire dataset before we could take a gradient step and update our parameters. In this case it was fine, because our dataset was only 100 pairs and the gradient computation was cheap."
   ]
  },
  {
   "cell_type": "markdown",
   "id": "01b12608-de9d-4d1b-b330-d32f3f91733d",
   "metadata": {},
   "source": [
    "Your models, however, will frequently have large datasets and expensive gradient computations. In that case you’ll want to take gradient steps more often."
   ]
  },
  {
   "cell_type": "markdown",
   "id": "16b25387-0056-4195-95e0-aa4b438c2da5",
   "metadata": {},
   "source": [
    "We can do this using a technique called minibatch gradient descent, in which we compute the gradient (and take a gradient step) based on a “minibatch” sampled from the larger dataset:"
   ]
  },
  {
   "cell_type": "code",
   "execution_count": 13,
   "id": "5bc20c4b-5ffb-42eb-8f6a-da87abf82249",
   "metadata": {},
   "outputs": [],
   "source": [
    "from typing import TypeVar, List, Iterator\n",
    "\n",
    "T = TypeVar('T')\n",
    "\n",
    "def minibatches(dataset:List[T],\n",
    "                batch_size:int,\n",
    "                shuffle:bool = True) -> Iterator[List[T]]:\n",
    "    \"\"\"Generates `batch_size`-sized minibatches from the dataset\"\"\"\n",
    "    # start indexes 0, batch_size, 2 * batch_size, ...\n",
    "    batch_starts = [start for start in range(0, len(dataset), batch_size)]\n",
    "    if shuffle:\n",
    "        random.shuffle(batch_starts)\n",
    "    for start in batch_starts:\n",
    "        end = start + batch_size\n",
    "        yield dataset[start:end]\n"
   ]
  },
  {
   "cell_type": "markdown",
   "id": "8fed4044-7b1a-41da-9e1a-4d848fb71327",
   "metadata": {},
   "source": [
    "NOTE:\n",
    "\n",
    "The allows us to create a “generic” function. It says that our can be a list of any single type— s, s, s, whatever—but whatever that type is, the outputs will be batches of it"
   ]
  },
  {
   "cell_type": "markdown",
   "id": "d621709e-fc07-45d7-a804-2d09821a89eb",
   "metadata": {},
   "source": [
    "Now we can solve our problem again using minibatches:"
   ]
  },
  {
   "cell_type": "code",
   "execution_count": 14,
   "id": "c1a1761c-8dcd-4908-a42d-de126cf78e6c",
   "metadata": {},
   "outputs": [
    {
     "name": "stdout",
     "output_type": "stream",
     "text": [
      "0 [18.28474712551498, 1.0233655076541717]\n",
      "200 [20.017402685171927, 4.907276024947338]\n",
      "400 [19.998496026392612, 4.993498942947153]\n",
      "600 [20.00009940942343, 4.999764432579968]\n",
      "800 [19.999997991838093, 4.99998738744728]\n",
      "1000 [20.00000001478466, 4.999999368436632]\n"
     ]
    }
   ],
   "source": [
    "theta = [random.uniform(-1, 1), random.uniform(-1, 1)]\n",
    "\n",
    "for epoch in range(0, 1001):\n",
    "    for batch in minibatches(inputs, batch_size=20):\n",
    "        grad = vector_mean([linear_gradient(x, y, theta) for x, y in batch])\n",
    "        theta = gradient_step(theta, grad, -learning_rate)\n",
    "    if epoch % 200 == 0:\n",
    "        print(epoch, theta)\n",
    "\n",
    "slope, intercept = theta\n",
    "assert 19.9 < slope < 20.1, 'slope should be about 20'\n",
    "assert 4.9 < intercept < 5.1, 'intercept should be about 5'"
   ]
  },
  {
   "cell_type": "markdown",
   "id": "6747d0df-a158-4842-8ef8-6a34aa2138a4",
   "metadata": {},
   "source": [
    "Another variation is stochastic gradient descent, in which you take gradient steps based on one training example at a time:"
   ]
  },
  {
   "cell_type": "code",
   "execution_count": 15,
   "id": "43776c14-ec74-4c7a-868c-f6199ab8b8f9",
   "metadata": {},
   "outputs": [
    {
     "name": "stdout",
     "output_type": "stream",
     "text": [
      "0 [20.113720173074928, -0.6600941184296731]\n",
      "20 [20.04730936336546, 2.6452986822136735]\n",
      "40 [20.019681558357547, 4.020401747673814]\n",
      "60 [20.008187856966963, 4.592469444640535]\n",
      "80 [20.00340630610282, 4.830459933161123]\n",
      "100 [20.001417075380804, 4.929468270633139]\n"
     ]
    }
   ],
   "source": [
    "theta = [random.uniform(-1, 1), random.uniform(-1, 1)]\n",
    "\n",
    "for epoch in range(0, 101):\n",
    "    for x, y in inputs:\n",
    "        grad = linear_gradient(x, y, theta)\n",
    "        theta = gradient_step(theta, grad, -learning_rate)\n",
    "    if epoch % 20 == 0:\n",
    "        print(epoch, theta)\n",
    "\n",
    "slope, intercept = theta\n",
    "assert 19.9 < slope < 20.1, 'slope should be about 20'\n",
    "assert 4.9 < intercept < 5.1, 'intercept should be about 5'"
   ]
  },
  {
   "cell_type": "markdown",
   "id": "d161b61c-1827-4b77-9483-b57585fdc8b5",
   "metadata": {},
   "source": [
    "On this problem, stochastic gradient descent finds the optimal parameters in a much smaller number of epochs. But there are always tradeoffs. Basing gradient steps on small minibatches (or on single data points) allows you to take more of them, but the gradient for a single point might lie in a very different direction from the gradient for the dataset as a whole."
   ]
  },
  {
   "cell_type": "markdown",
   "id": "dcc4de47-cd45-4353-b06c-806929949562",
   "metadata": {},
   "source": [
    "In addition, if we weren’t doing our linear algebra from scratch, there would be performance gains from “vectorizing” our computations across batches rather than computing the gradient one point at a time.\n",
    "Throughout the book, we’ll play around to find optimal batch sizes and step sizes."
   ]
  },
  {
   "cell_type": "code",
   "execution_count": null,
   "id": "663f8830-e5d9-4865-b64b-ae590a275ec8",
   "metadata": {},
   "outputs": [],
   "source": []
  }
 ],
 "metadata": {
  "kernelspec": {
   "display_name": "Python 3 (ipykernel)",
   "language": "python",
   "name": "python3"
  },
  "language_info": {
   "codemirror_mode": {
    "name": "ipython",
    "version": 3
   },
   "file_extension": ".py",
   "mimetype": "text/x-python",
   "name": "python",
   "nbconvert_exporter": "python",
   "pygments_lexer": "ipython3",
   "version": "3.7.9"
  }
 },
 "nbformat": 4,
 "nbformat_minor": 5
}
