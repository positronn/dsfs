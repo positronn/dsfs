{
 "cells": [
  {
   "cell_type": "markdown",
   "id": "f3e7d6ae-89e3-4609-a16f-81080be44c52",
   "metadata": {},
   "source": [
    "# 05 Statistics"
   ]
  },
  {
   "cell_type": "code",
   "execution_count": 1,
   "id": "6a80574a-43c7-4b3c-9d0f-8090b62781e8",
   "metadata": {},
   "outputs": [],
   "source": [
    "from typing import List"
   ]
  },
  {
   "cell_type": "code",
   "execution_count": 2,
   "id": "f3e90e5c-a49e-4aaf-8f7b-6acc65f158dc",
   "metadata": {},
   "outputs": [],
   "source": [
    "num_friends = [100.0,49,41,40,25,21,21,19,19,18,18,16,15,\n",
    "               15,15,15,14,14,13,13,13,13,12,12,11,10,10,\n",
    "               10,10,10,10,10,10,10,10,10,10,10,10,10,9,9,\n",
    "               9,9,9,9,9,9,9,9,9,9,9,9,9,9,9,9,8,8,8,8,8,\n",
    "               8,8,8,8,8,8,8,8,7,7,7,7,7,7,7,7,7,7,7,7,7,\n",
    "               7,7,6,6,6,6,6,6,6,6,6,6,6,6,6,6,6,6,6,6,6,6,\n",
    "               6,6,5,5,5,5,5,5,5,5,5,5,5,5,5,5,5,5,5,4,4,4,\n",
    "               4,4,4,4,4,4,4,4,4,4,4,4,4,4,4,4,4,3,3,3,3,3,\n",
    "               3,3,3,3,3,3,3,3,3,3,3,3,3,3,3,2,2,2,2,2,2,2,\n",
    "               2,2,2,2,2,2,2,2,2,2,1,1,1,1,1,1,1,1,1,1,1,1,\n",
    "               1,1,1,1,1,1,1,1,1,1]"
   ]
  },
  {
   "cell_type": "markdown",
   "id": "10d3df83-7312-41ba-ab28-1f2fc9f37949",
   "metadata": {},
   "source": [
    "put the friend counts into a histogram using `Counter` and `plt.bar`"
   ]
  },
  {
   "cell_type": "code",
   "execution_count": 3,
   "id": "069fa97a-07ea-43df-905f-a0b1e80f1708",
   "metadata": {},
   "outputs": [
    {
     "data": {
      "image/png": "[encoded data removed]",
      "text/plain": [
       "<Figure size 432x288 with 1 Axes>"
      ]
     },
     "metadata": {
      "needs_background": "light"
     },
     "output_type": "display_data"
    }
   ],
   "source": [
    "from collections import Counter\n",
    "import matplotlib.pyplot as plt\n",
    "\n",
    "friend_counts = Counter(num_friends)\n",
    "xs = range(0, 101)\n",
    "ys = [friend_counts[x] for x in xs]\n",
    "\n",
    "plt.bar(xs, ys)\n",
    "plt.axis([0, 101, 0, 25])\n",
    "plt.title('Histogram of Friend Counts')\n",
    "plt.xlabel('# of friends')\n",
    "plt.ylabel('# of people')\n",
    "plt.show()\n"
   ]
  },
  {
   "cell_type": "code",
   "execution_count": 4,
   "id": "dbc67d4d-6838-4a7f-8fb7-11ec0cd802cd",
   "metadata": {},
   "outputs": [],
   "source": [
    "# generate some statistics"
   ]
  },
  {
   "cell_type": "code",
   "execution_count": 5,
   "id": "b21fe0d3-8313-424c-9f9e-a026c229b75b",
   "metadata": {},
   "outputs": [
    {
     "data": {
      "text/plain": [
       "204"
      ]
     },
     "execution_count": 5,
     "metadata": {},
     "output_type": "execute_result"
    }
   ],
   "source": [
    "num_points = len(num_friends)\n",
    "num_points"
   ]
  },
  {
   "cell_type": "code",
   "execution_count": 6,
   "id": "d691ccd6-f119-4996-8ec2-9c1daf9885e0",
   "metadata": {},
   "outputs": [
    {
     "name": "stdout",
     "output_type": "stream",
     "text": [
      "100.0\n",
      "1\n"
     ]
    }
   ],
   "source": [
    "largest_value = max(num_friends)\n",
    "smallest_value = min(num_friends)\n",
    "\n",
    "print(largest_value)\n",
    "print(smallest_value)"
   ]
  },
  {
   "cell_type": "code",
   "execution_count": 7,
   "id": "be00e286-a883-4134-bcc1-a51ab3c870b9",
   "metadata": {},
   "outputs": [],
   "source": [
    "# value sin specific positions\n",
    "sorted_values = sorted(num_friends)\n",
    "smalles_value = sorted_values[0]\n",
    "second_smalles_value = sorted_values[1]\n",
    "second_largest_value = sorted_values[-2]"
   ]
  },
  {
   "cell_type": "markdown",
   "id": "6b9fb589-bf2a-4919-88c8-a590ed905971",
   "metadata": {},
   "source": [
    "## Central tendencies"
   ]
  },
  {
   "cell_type": "code",
   "execution_count": 8,
   "id": "9645d7fd-fcaf-4e56-9f7c-58ab539e3245",
   "metadata": {},
   "outputs": [
    {
     "data": {
      "text/plain": [
       "7.333333333333333"
      ]
     },
     "execution_count": 8,
     "metadata": {},
     "output_type": "execute_result"
    }
   ],
   "source": [
    "# the mean\n",
    "def mean(xs: List[float]) -> float:\n",
    "    return sum(xs) / len(xs)\n",
    "\n",
    "mean(num_friends)"
   ]
  },
  {
   "cell_type": "code",
   "execution_count": 9,
   "id": "0ff2c6ce-859e-47b8-b7ca-a939b0ad6aaa",
   "metadata": {},
   "outputs": [],
   "source": [
    "# the median\n",
    "# underscores indicate that these are \"private\" functions,\n",
    "# as they're intended to be called by out median function but\n",
    "# not by other people using our statistics library\n",
    "def __median_odd(xs: List[float]) -> float:\n",
    "    \"\"\"If len(xs) is odd, the median is the middle element\"\"\"\n",
    "    return sorted(xs)[len(xs) // 2]\n",
    "\n",
    "\n",
    "def __median_even(xs: List[float]) -> float:\n",
    "    \"\"\"If len(xs) is even, it's the average of the middle two elements\"\"\"\n",
    "    sorted_xs = sorted(xs)\n",
    "    hi_midpoint = len(xs) // 2\n",
    "    return (sorted_xs[hi_midpoint - 1] + sorted_xs[hi_midpoint]) / 2\n",
    "\n",
    "\n",
    "def median(v: List[float]) -> float:\n",
    "    \"\"\"Finds the middle-most value of v\"\"\"\n",
    "    return __median_even(v) if len(v) % 2 == 0 else __median_odd(v)\n",
    "\n",
    "\n",
    "assert median([1, 10, 2, 9, 5]) == 5\n",
    "assert median([1, 9, 2, 10]) == (2 + 9) / 2"
   ]
  },
  {
   "cell_type": "code",
   "execution_count": 10,
   "id": "30ffa829-2c69-40a2-890c-276609b0796d",
   "metadata": {},
   "outputs": [
    {
     "name": "stdout",
     "output_type": "stream",
     "text": [
      "6.0\n"
     ]
    }
   ],
   "source": [
    "print(\n",
    "    median(num_friends)\n",
    ")"
   ]
  },
  {
   "cell_type": "code",
   "execution_count": 11,
   "id": "893b91b1-5a33-4a18-b983-7f01736f491e",
   "metadata": {},
   "outputs": [],
   "source": [
    "# a generalization of the median is the quantile, which represents\n",
    "# the value under which a certain percentile of the data lies\n",
    "def quantile(xs: List[float], p: float) -> float:\n",
    "    \"\"\"Returns the pth-percentile value in x\"\"\"\n",
    "    p_index = int(p * len(xs))\n",
    "    return sorted(xs)[p_index]\n",
    "\n",
    "assert quantile(num_friends, 0.10) == 1\n",
    "assert quantile(num_friends, 0.25) == 3\n",
    "assert quantile(num_friends, 0.75) == 9\n",
    "assert quantile(num_friends, 0.90) == 13"
   ]
  },
  {
   "cell_type": "code",
   "execution_count": 12,
   "id": "4166d79d-49a8-4269-a455-a2c38d428b15",
   "metadata": {},
   "outputs": [],
   "source": [
    "# mode: most common value(s)\n",
    "def mode(x: List[float]) -> List[float]:\n",
    "    \"\"\"Returns a list, since ther emight be more than one mode\"\"\"\n",
    "    counts = Counter(x)\n",
    "    max_count = max(counts.values())\n",
    "    return [\n",
    "        x_i for x_i, count in counts.items() if count == max_count\n",
    "    ]\n",
    "\n",
    "assert set(mode(num_friends)) == {1, 6}"
   ]
  },
  {
   "cell_type": "markdown",
   "id": "f96e29fe-b388-4cc5-85bc-530c98d49918",
   "metadata": {
    "jupyter": {
     "source_hidden": true
    },
    "tags": []
   },
   "source": [
    "## Dispersion"
   ]
  },
  {
   "cell_type": "markdown",
   "id": "aadf4f30-d675-4ce0-ba35-a02b2f70dffd",
   "metadata": {},
   "source": [
    "Dispersion refers to measures of how spread out our data is. Typically they’re statistics for which values near zero signify not spread out at all and for which large values (whatever that means) signify very spread out. For instance, a very simple measure is the range, which is just the difference between the largest and smallest elements:\n"
   ]
  },
  {
   "cell_type": "code",
   "execution_count": 13,
   "id": "955e3bd7-6625-4380-8e9b-549f4d58ec87",
   "metadata": {},
   "outputs": [],
   "source": [
    "# \"range\" already means something in python, so we'll use a different\n",
    "# name\n",
    "def data_range(xs: List[float]) -> float:\n",
    "    return max(xs) - min(xs)\n",
    "\n",
    "assert data_range(num_friends) == 99"
   ]
  },
  {
   "cell_type": "code",
   "execution_count": 18,
   "id": "c90aa23f-d593-4b78-82ab-00dd952464e5",
   "metadata": {},
   "outputs": [],
   "source": [
    "from chapter04.linearalg import sum_of_squares\n",
    "\n",
    "\n",
    "def de_mean(xs: List[float]) -> List[float]:\n",
    "    \"\"\"Translate xs by subtracting its mean (so the result has mean 0)\"\"\"\n",
    "    x_bar = mean(xs)\n",
    "    return [x - x_bar for x in xs]\n",
    "\n",
    "\n",
    "def variance(xs: List[float]) -> float:\n",
    "    \"\"\"Almost the average squared deviation from the mean\"\"\"\n",
    "    assert len(xs) >= 2, \"variance requires al least two elements\"\n",
    "    n = len(xs)\n",
    "    deviations = de_mean(xs)\n",
    "    return sum_of_squares(deviations) / (n - 1)\n",
    "\n",
    "assert 81.54 < variance(num_friends) < 81.55"
   ]
  },
  {
   "cell_type": "markdown",
   "id": "94d59b99-d78c-4e01-a499-dd0c5b6e2471",
   "metadata": {},
   "source": [
    "Now, whatever units our data is in (e.g., “friends”), all of our measures of central tendency are in that same unit. The range will similarly be in that same unit. The variance, on the other hand, has units that are the square of the original units (e.g., “friends squared”). As it can be hard to make sense of these, we often look instead at the standard deviation:"
   ]
  },
  {
   "cell_type": "code",
   "execution_count": 20,
   "id": "b7bcaf2a-9cfd-4095-9763-20b9103ab598",
   "metadata": {},
   "outputs": [],
   "source": [
    "import math\n",
    "\n",
    "def standard_deviation(xs: List[float]) -> float:\n",
    "    \"\"\"The standard deviation is the square root of the variance\"\"\"\n",
    "    return math.sqrt(variance(xs))\n",
    "\n",
    "assert 9.02 < standard_deviation(num_friends) < 9.04"
   ]
  },
  {
   "cell_type": "markdown",
   "id": "5b9c9e9a-f6fb-448d-8d11-349304c99a9f",
   "metadata": {},
   "source": [
    "Both the range and the standard deviation have the same outlier problem that we saw earlier for the mean. Using the same example, if our friendliest user had instead 200 friends, the standard deviation would be 14.89—more than 60% higher!"
   ]
  },
  {
   "cell_type": "markdown",
   "id": "55270fbc-eece-472e-93f1-c32711af089e",
   "metadata": {},
   "source": [
    "A more robust alternative computes the difference between the 75th percentile value and the 25th percentile value:"
   ]
  },
  {
   "cell_type": "code",
   "execution_count": 22,
   "id": "9a896a1c-50c9-481d-97de-3b2e8ece9c6b",
   "metadata": {},
   "outputs": [],
   "source": [
    "def interquartile_range(xs: List[float]) -> float:\n",
    "    \"\"\"Returns the difference between the 3rd quartile and the 2 quartile\"\"\"\n",
    "    return quantile(xs, 0.75) - quantile(xs, 0.25)\n",
    "\n",
    "assert interquartile_range(num_friends) == 6"
   ]
  },
  {
   "cell_type": "markdown",
   "id": "fd0869b2-8b1c-470c-9459-b5fe0ccec7c8",
   "metadata": {},
   "source": [
    "## Correlation"
   ]
  },
  {
   "cell_type": "markdown",
   "id": "9527760b-eb18-461a-ac47-fb65a6faac6e",
   "metadata": {},
   "source": [
    "We’ll first look at covariance, the paired analogue of variance. Whereas variance measures how a single variable deviates from its mean, covariance measures how two variables vary in tandem from their means:"
   ]
  },
  {
   "cell_type": "code",
   "execution_count": 26,
   "id": "4c1756f2-38eb-40ae-aa39-4ae7da0c946a",
   "metadata": {},
   "outputs": [],
   "source": [
    "daily_minutes = [1,68.77,51.25,52.08,38.36,44.54,57.13,51.4,\n",
    "                 41.42,31.22,34.76,54.01,38.79,47.59,49.1,27.66,\n",
    "                 41.03,36.73,48.65,28.12,46.62,35.57,32.98,35,\n",
    "                 26.07,23.77,39.73,40.57,31.65,31.21,36.32,20.45,\n",
    "                 21.93,26.02,27.34,23.49,46.94,30.5,33.8,24.23,\n",
    "                 21.4,27.94,32.24,40.57,25.07,19.42,22.39,18.42,\n",
    "                 46.96,23.72,26.41,26.97,36.76,40.32,35.02,29.47,\n",
    "                 30.2,31,38.11,38.18,36.31,21.03,30.86,36.07,\n",
    "                 28.66,29.08,37.28,15.28,24.17,22.31,30.17,25.53,\n",
    "                 19.85,35.37,44.6,17.23,13.47,26.33,35.02,32.09,\n",
    "                 24.81,19.33,28.77,24.26,31.98,25.73,24.86,16.28,\n",
    "                 34.51,15.23,39.72,40.8,26.06,35.76,34.76,16.13,\n",
    "                 44.04,18.03,19.65,32.62,35.59,39.43,14.18,35.24,\n",
    "                 40.13,41.82,35.45,36.07,43.67,24.61,20.9,21.9,\n",
    "                 18.79,27.61,27.21,26.61,29.77,20.59,27.53,13.82,\n",
    "                 33.2,25,33.1,36.65,18.63,14.87,22.2,36.81,25.53,\n",
    "                 24.62,26.25,18.21,28.08,19.42,29.79,32.8,35.99,\n",
    "                 28.32,27.79,35.88,29.06,36.28,14.1,36.63,37.49,\n",
    "                 26.9,18.58,38.48,24.48,18.95,33.55,14.24,29.04,\n",
    "                 32.51,25.63,22.22,19,32.73,15.16,13.9,27.2,32.01,\n",
    "                 29.27,33,13.74,20.42,27.32,18.23,35.35,28.48,9.08,\n",
    "                 24.62,20.12,35.26,19.92,31.02,16.49,12.16,30.7,\n",
    "                 31.22,34.65,13.13,27.51,33.2,31.57,14.1,33.42,\n",
    "                 17.44,10.12,24.42,9.82,23.39,30.93,15.03,21.67,\n",
    "                 31.09,33.29,22.61,26.89,23.48,8.38,27.81,32.35,23.84]\n",
    "\n",
    "\n",
    "daily_hours = [dm / 60 for dm in daily_minutes]"
   ]
  },
  {
   "cell_type": "code",
   "execution_count": 27,
   "id": "513c6f59-b120-4e7a-b474-c17cc1ad41f4",
   "metadata": {},
   "outputs": [],
   "source": [
    "from chapter04.linearalg import dot\n",
    "\n",
    "def covariance(xs: List[float], ys: List[float]) -> float:\n",
    "    assert len(xs) == len(ys), 'xs and ys must have hame number of elements'\n",
    "    return dot(de_mean(xs), de_mean(ys)) / (len(xs) - 1)\n",
    "\n",
    "assert 22.42 < covariance(num_friends, daily_minutes) < 22.43\n",
    "assert 22.42 / 60 < covariance(num_friends, daily_hours) < 22.43 / 60"
   ]
  },
  {
   "cell_type": "markdown",
   "id": "84589ba7-db6b-4b35-ae92-619748cb5550",
   "metadata": {},
   "source": [
    "Recall that `dot` sums up the products of corresponding pairs of elements.\n",
    "When corresponding elements of `x` and `y` are either both above their means\n",
    "or both belowe their means, a positive number enters the sum. When one is\n",
    "above its mean and the other below, a negative number enters the sum.\n",
    "Accordingly, a \"large\" positive covariance means that `x` tends to be large\n",
    "when `y` is large and small when `y` is small. A \"large\" negative covariance\n",
    "means the opposite -that `x` tends to be small when `y`y is large and vice-versa.\n",
    "A covariance close to zero means tha tno such relationships exists."
   ]
  },
  {
   "cell_type": "markdown",
   "id": "01359533-fb85-41be-a789-7a2dc7578256",
   "metadata": {},
   "source": [
    "Nonetheless, this number can be hard to interpret, for a couple of reasons:\n",
    "- Its units are the product of the inputs’ units (e.g., friend-minutes- per-day), which can be hard to make sense of. (What’s a “friend- minute-per-day”?)\n",
    "- If each user had twice as many friends (but the same number of minutes), the covariance would be twice as large. But in a sense, the variables would be just as interrelated. Said differently, it’s hard to say what counts as a “large” covariance."
   ]
  },
  {
   "cell_type": "markdown",
   "id": "905af0f4-03d4-4070-b517-a8cc10a08542",
   "metadata": {},
   "source": [
    "For this reason, it’s more common to look at the correlation, which divides out the standard deviations of both variables:"
   ]
  },
  {
   "cell_type": "code",
   "execution_count": 29,
   "id": "1fdd58b4-28d1-4f26-a01e-a47ddb61221d",
   "metadata": {},
   "outputs": [],
   "source": [
    "def correlation(xs: List[float], ys: List[float]) -> float:\n",
    "    \"\"\"Measures how much xs and ys vary in tandem about their means\"\"\"\n",
    "    stdev_x = standard_deviation(xs)\n",
    "    stdev_y = standard_deviation(ys)\n",
    "    if stdev_x > 0 and stdev_y > 0:\n",
    "        return covariance(xs, ys) / stdev_x / stdev_y\n",
    "    else:\n",
    "        return 0\n",
    "    \n",
    "\n",
    "assert 0.24 < correlation(num_friends, daily_minutes) < 0.25\n",
    "assert 0.24 < correlation(num_friends, daily_hours) < 0.25"
   ]
  },
  {
   "cell_type": "markdown",
   "id": "cd15764a-9666-4b05-bc8c-5dd6fcce33c7",
   "metadata": {},
   "source": [
    "The is unitless and always lies between –1 (perfect anticorrelation) and 1 (perfect correlation). A number like 0.25 represents a relatively weak positive correlation.\n"
   ]
  },
  {
   "cell_type": "markdown",
   "id": "bad8d722-e47b-447d-9199-a5c2e988ea9e",
   "metadata": {},
   "source": [
    "\n",
    "The person with 100 friends (who spends only 1 minute per day on the site) is a huge outlier, and correlation can be very sensitive to outliers. What happens if we ignore him?"
   ]
  },
  {
   "cell_type": "code",
   "execution_count": 30,
   "id": "2858ad39-bcc4-4c34-af92-d53e8e90cf17",
   "metadata": {},
   "outputs": [],
   "source": [
    "outlier = num_friends.index(100)    # index of outlier"
   ]
  },
  {
   "cell_type": "code",
   "execution_count": 31,
   "id": "efb0f217-5c2d-423e-9874-f459db33912c",
   "metadata": {},
   "outputs": [],
   "source": [
    "num_friends_good = [x\n",
    "                    for i, x in enumerate(num_friends)\n",
    "                    if i != outlier]\n",
    "\n",
    "daily_minutes_good = [x\n",
    "                      for i, x in enumerate(daily_minutes)\n",
    "                      if i != outlier]\n",
    "\n",
    "daily_hours_good = [dm / 60 for dm in daily_minutes_good]\n",
    "\n",
    "assert 0.57 < correlation(num_friends_good, daily_minutes_good) < 0.58\n",
    "assert 0.57 < correlation(num_friends_good, daily_hours_good) < 0.58"
   ]
  },
  {
   "cell_type": "markdown",
   "id": "6eb97aa8-19fd-449a-9ad3-803eeacc99f4",
   "metadata": {},
   "source": [
    "## Some Correlational Caveats"
   ]
  },
  {
   "cell_type": "markdown",
   "id": "965cd989-93a1-4677-aded-52a1c746a38f",
   "metadata": {},
   "source": [
    "A correlation of zero indicates that there is no linear relationship between the two variables. However, there may be other sorts of relationships. For example, if:"
   ]
  },
  {
   "cell_type": "code",
   "execution_count": 32,
   "id": "a0f9b24c-89fc-470f-a13a-a8ec58a42daa",
   "metadata": {},
   "outputs": [],
   "source": [
    "x = [-2, -1, 0, 1, 2]\n",
    "y = [2, 1, 0, 1, 2]"
   ]
  },
  {
   "cell_type": "markdown",
   "id": "0802f120-7708-4ef5-960b-edf9ea07f582",
   "metadata": {},
   "source": [
    "then `x` and `y` have zero correlation. But they certainly have a relationship,\n",
    "each element of `y` equals the absolute value of the corresponding element\n",
    "of `x`. What they don't have is a relationships in which knowing how `x_i`\n",
    "compares to `mean(x)` gives us information about how `y_i` compares to\n",
    "`mean(y)`. That is the sort of relationship that correlation looks for.\n",
    "\n",
    "In addition, correlation tells you nothing about how large the relationship is."
   ]
  },
  {
   "cell_type": "markdown",
   "id": "54c50ad2-3993-48ae-b647-bc6592e97a8f",
   "metadata": {},
   "source": [
    "The variables"
   ]
  },
  {
   "cell_type": "code",
   "execution_count": 33,
   "id": "dfb9ca07-8e97-4188-b4e2-39de80374dcc",
   "metadata": {},
   "outputs": [],
   "source": [
    "x = [-2, -1, 0, 1, 2]\n",
    "y = [99.98, 99.99, 100, 100.01, 100.02]"
   ]
  },
  {
   "cell_type": "markdown",
   "id": "f2e5160f-fd89-4457-9218-eb51f78e1dc7",
   "metadata": {},
   "source": [
    "re perfectly correlated, but (depending on what you’re measuring) it’s quite possible that this relationship isn’t all that interesting."
   ]
  },
  {
   "cell_type": "markdown",
   "id": "6314ca35-2c33-4c69-94b9-4dadd494dcc1",
   "metadata": {},
   "source": [
    "## Correlation and Causation"
   ]
  },
  {
   "cell_type": "markdown",
   "id": "09a85203-67c2-46a8-b907-070c07765d9d",
   "metadata": {},
   "source": [
    "If `x` and `y` are strongly correlated, that might mean that `x`\n",
    "causes `y`, that `y` causes `x`, that each causes the other,\n",
    "that some third factor causes both, or nothing at all."
   ]
  },
  {
   "cell_type": "markdown",
   "id": "e90bf2fa-dbfa-40c9-b0b7-b8a371758142",
   "metadata": {},
   "source": [
    "One way to feel more confident about causality is by conducting randomized trials. If you can randomly split your users into two groups with similar demographics and give one of the groups a slightly different experience, then you can often feel pretty good that the different experiences are causing the different outcomes."
   ]
  },
  {
   "cell_type": "code",
   "execution_count": null,
   "id": "8aaf438a-eb16-439c-b7f9-0f8724285e38",
   "metadata": {},
   "outputs": [],
   "source": []
  }
 ],
 "metadata": {
  "kernelspec": {
   "display_name": "Python 3 (ipykernel)",
   "language": "python",
   "name": "python3"
  },
  "language_info": {
   "codemirror_mode": {
    "name": "ipython",
    "version": 3
   },
   "file_extension": ".py",
   "mimetype": "text/x-python",
   "name": "python",
   "nbconvert_exporter": "python",
   "pygments_lexer": "ipython3",
   "version": "3.7.9"
  }
 },
 "nbformat": 4,
 "nbformat_minor": 5
}
