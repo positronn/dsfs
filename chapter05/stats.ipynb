{
 "cells": [
  {
   "cell_type": "markdown",
   "id": "f3e7d6ae-89e3-4609-a16f-81080be44c52",
   "metadata": {},
   "source": [
    "# 05 Statistics"
   ]
  },
  {
   "cell_type": "code",
   "execution_count": 13,
   "id": "6a80574a-43c7-4b3c-9d0f-8090b62781e8",
   "metadata": {},
   "outputs": [],
   "source": [
    "from typing import List"
   ]
  },
  {
   "cell_type": "code",
   "execution_count": 1,
   "id": "f3e90e5c-a49e-4aaf-8f7b-6acc65f158dc",
   "metadata": {},
   "outputs": [],
   "source": [
    "num_friends = [100.0,49,41,40,25,21,21,19,19,18,18,16,15,15,15,15,14,14,13,13,13,13,12,12,11,10,10,10,10,10,10,10,10,10,10,10,10,10,10,10,9,9,9,9,9,9,9,9,9,9,9,9,9,9,9,9,9,9,8,8,8,8,8,8,8,8,8,8,8,8,8,7,7,7,7,7,7,7,7,7,7,7,7,7,7,7,6,6,6,6,6,6,6,6,6,6,6,6,6,6,6,6,6,6,6,6,6,6,5,5,5,5,5,5,5,5,5,5,5,5,5,5,5,5,5,4,4,4,4,4,4,4,4,4,4,4,4,4,4,4,4,4,4,4,4,3,3,3,3,3,3,3,3,3,3,3,3,3,3,3,3,3,3,3,3,2,2,2,2,2,2,2,2,2,2,2,2,2,2,2,2,2,1,1,1,1,1,1,1,1,1,1,1,1,1,1,1,1,1,1,1,1,1,1]"
   ]
  },
  {
   "cell_type": "markdown",
   "id": "10d3df83-7312-41ba-ab28-1f2fc9f37949",
   "metadata": {},
   "source": [
    "put the friend counts into a histogram using `Counter` and `plt.bar`"
   ]
  },
  {
   "cell_type": "code",
   "execution_count": 4,
   "id": "069fa97a-07ea-43df-905f-a0b1e80f1708",
   "metadata": {},
   "outputs": [
    {
     "data": {
      "image/png": "[encoded data removed]",
      "text/plain": [
       "<Figure size 432x288 with 1 Axes>"
      ]
     },
     "metadata": {
      "needs_background": "light"
     },
     "output_type": "display_data"
    }
   ],
   "source": [
    "from collections import Counter\n",
    "import matplotlib.pyplot as plt\n",
    "\n",
    "friend_counts = Counter(num_friends)\n",
    "xs = range(0, 101)\n",
    "ys = [friend_counts[x] for x in xs]\n",
    "\n",
    "plt.bar(xs, ys)\n",
    "plt.axis([0, 101, 0, 25])\n",
    "plt.title('Histogram of Friend Counts')\n",
    "plt.xlabel('# of friends')\n",
    "plt.ylabel('# of people')\n",
    "plt.show()\n"
   ]
  },
  {
   "cell_type": "code",
   "execution_count": 5,
   "id": "dbc67d4d-6838-4a7f-8fb7-11ec0cd802cd",
   "metadata": {},
   "outputs": [],
   "source": [
    "# generate some statistics"
   ]
  },
  {
   "cell_type": "code",
   "execution_count": 7,
   "id": "b21fe0d3-8313-424c-9f9e-a026c229b75b",
   "metadata": {},
   "outputs": [
    {
     "data": {
      "text/plain": [
       "204"
      ]
     },
     "execution_count": 7,
     "metadata": {},
     "output_type": "execute_result"
    }
   ],
   "source": [
    "num_points = len(num_friends)\n",
    "num_points"
   ]
  },
  {
   "cell_type": "code",
   "execution_count": 9,
   "id": "d691ccd6-f119-4996-8ec2-9c1daf9885e0",
   "metadata": {},
   "outputs": [
    {
     "name": "stdout",
     "output_type": "stream",
     "text": [
      "100.0\n",
      "1\n"
     ]
    }
   ],
   "source": [
    "largest_value = max(num_friends)\n",
    "smallest_value = min(num_friends)\n",
    "\n",
    "print(largest_value)\n",
    "print(smallest_value)"
   ]
  },
  {
   "cell_type": "code",
   "execution_count": 10,
   "id": "be00e286-a883-4134-bcc1-a51ab3c870b9",
   "metadata": {},
   "outputs": [],
   "source": [
    "# value sin specific positions\n",
    "sorted_values = sorted(num_friends)\n",
    "smalles_value = sorted_values[0]\n",
    "second_smalles_value = sorted_values[1]\n",
    "second_largest_value = sorted_values[-2]"
   ]
  },
  {
   "cell_type": "markdown",
   "id": "6b9fb589-bf2a-4919-88c8-a590ed905971",
   "metadata": {},
   "source": [
    "## Central tendencies"
   ]
  },
  {
   "cell_type": "code",
   "execution_count": 14,
   "id": "9645d7fd-fcaf-4e56-9f7c-58ab539e3245",
   "metadata": {},
   "outputs": [
    {
     "data": {
      "text/plain": [
       "7.333333333333333"
      ]
     },
     "execution_count": 14,
     "metadata": {},
     "output_type": "execute_result"
    }
   ],
   "source": [
    "def mean(xs: List[float]) -> float:\n",
    "    return sum(xs) / len(xs)\n",
    "\n",
    "mean(num_friends)"
   ]
  },
  {
   "cell_type": "code",
   "execution_count": null,
   "id": "0ff2c6ce-859e-47b8-b7ca-a939b0ad6aaa",
   "metadata": {},
   "outputs": [],
   "source": []
  }
 ],
 "metadata": {
  "kernelspec": {
   "display_name": "Python 3 (ipykernel)",
   "language": "python",
   "name": "python3"
  },
  "language_info": {
   "codemirror_mode": {
    "name": "ipython",
    "version": 3
   },
   "file_extension": ".py",
   "mimetype": "text/x-python",
   "name": "python",
   "nbconvert_exporter": "python",
   "pygments_lexer": "ipython3",
   "version": "3.7.9"
  }
 },
 "nbformat": 4,
 "nbformat_minor": 5
}
