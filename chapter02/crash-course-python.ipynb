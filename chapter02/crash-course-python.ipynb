{
 "cells": [
  {
   "cell_type": "markdown",
   "id": "0a986361-5d36-4865-97bd-7f4e3eeca6a3",
   "metadata": {
    "tags": []
   },
   "source": [
    "# 02 A crash course in Python"
   ]
  },
  {
   "cell_type": "markdown",
   "id": "1e1a765c-cfb1-4b07-9416-e27542073126",
   "metadata": {},
   "source": [
    "### The Zen of Python"
   ]
  },
  {
   "cell_type": "code",
   "execution_count": 1,
   "id": "b2ac6738-9cdf-4dbd-8759-723ae333f16d",
   "metadata": {},
   "outputs": [
    {
     "name": "stdout",
     "output_type": "stream",
     "text": [
      "The Zen of Python, by Tim Peters\n",
      "\n",
      "Beautiful is better than ugly.\n",
      "Explicit is better than implicit.\n",
      "Simple is better than complex.\n",
      "Complex is better than complicated.\n",
      "Flat is better than nested.\n",
      "Sparse is better than dense.\n",
      "Readability counts.\n",
      "Special cases aren't special enough to break the rules.\n",
      "Although practicality beats purity.\n",
      "Errors should never pass silently.\n",
      "Unless explicitly silenced.\n",
      "In the face of ambiguity, refuse the temptation to guess.\n",
      "There should be one-- and preferably only one --obvious way to do it.\n",
      "Although that way may not be obvious at first unless you're Dutch.\n",
      "Now is better than never.\n",
      "Although never is often better than *right* now.\n",
      "If the implementation is hard to explain, it's a bad idea.\n",
      "If the implementation is easy to explain, it may be a good idea.\n",
      "Namespaces are one honking great idea -- let's do more of those!\n"
     ]
    }
   ],
   "source": [
    "import this"
   ]
  },
  {
   "cell_type": "markdown",
   "id": "8806e349-491e-4691-b219-357007f360a2",
   "metadata": {},
   "source": [
    "Code written in accordance with this “obvious” way (which may not be obvious at all to a newcomer) is often described as “Pythonic.”"
   ]
  },
  {
   "cell_type": "markdown",
   "id": "5034bad7-5667-4ae8-b600-6c30b33926d8",
   "metadata": {},
   "source": [
    "## Whitespace Formatting"
   ]
  },
  {
   "cell_type": "markdown",
   "id": "9df3b0b3-74e3-4024-877a-97445e10d2e2",
   "metadata": {},
   "source": [
    "Many languages use curly braces to delimit blocks of code. Python uses indentation:"
   ]
  },
  {
   "cell_type": "code",
   "execution_count": 2,
   "id": "8575b0d8-5c27-46e0-b29b-171a9d726c0e",
   "metadata": {},
   "outputs": [
    {
     "name": "stdout",
     "output_type": "stream",
     "text": [
      "1 1 2\n",
      "1 2 3\n",
      "1 3 4\n",
      "1 4 5\n",
      "1 5 6\n",
      "2 1 3\n",
      "2 2 4\n",
      "2 3 5\n",
      "2 4 6\n",
      "2 5 7\n",
      "3 1 4\n",
      "3 2 5\n",
      "3 3 6\n",
      "3 4 7\n",
      "3 5 8\n",
      "4 1 5\n",
      "4 2 6\n",
      "4 3 7\n",
      "4 4 8\n",
      "4 5 9\n",
      "5 1 6\n",
      "5 2 7\n",
      "5 3 8\n",
      "5 4 9\n",
      "5 5 10\n",
      "done looping\n"
     ]
    }
   ],
   "source": [
    "# the compund sign marks the start of a comment. Python itself\n",
    "# ignores the comments, but they're helpful for anyone reading the code\n",
    "for i in [1, 2, 3, 4, 5]:\n",
    "    for j in [1, 2, 3, 4, 5]:\n",
    "        print(i, j, i + j)\n",
    "print('done looping')"
   ]
  },
  {
   "cell_type": "markdown",
   "id": "379fea1d-628d-4062-ac87-fb29dac77513",
   "metadata": {},
   "source": [
    "This makes Python code very readable, but it also means that you have to be very careful with your formatting."
   ]
  },
  {
   "cell_type": "markdown",
   "id": "31e5e314-079a-4ee6-b531-eabc1f9b9ca8",
   "metadata": {},
   "source": [
    "Whitespace is ignored inside parentheses and brackets, which can be helpful for long-winded computations and for making code easier to read:"
   ]
  },
  {
   "cell_type": "code",
   "execution_count": 3,
   "id": "8d553851-4b0b-4120-9ee2-1e9bbb658dbd",
   "metadata": {},
   "outputs": [],
   "source": [
    "list_of_lists = [[1, 2, 3], [4, 5, 6], [7, 8, 9]]\n",
    "\n",
    "easier_to_read_list_of_lists = [\n",
    "    [1, 2, 3],\n",
    "    [4, 5, 6],\n",
    "    [7, 8, 9]\n",
    "]"
   ]
  },
  {
   "cell_type": "markdown",
   "id": "f012c5ab-2f4a-489b-afff-6e10f0bdb911",
   "metadata": {},
   "source": [
    "You can also use a backslash to indicate that a statement continues onto the next line, although we’ll rarely do this:"
   ]
  },
  {
   "cell_type": "code",
   "execution_count": 4,
   "id": "b6d7619e-6a60-45ea-a9c7-d8f3589eab74",
   "metadata": {},
   "outputs": [
    {
     "data": {
      "text/plain": [
       "5"
      ]
     },
     "execution_count": 4,
     "metadata": {},
     "output_type": "execute_result"
    }
   ],
   "source": [
    "two_plus_three = 2 + \\\n",
    "                    3\n",
    "two_plus_three"
   ]
  },
  {
   "cell_type": "markdown",
   "id": "c426549e-6456-4cbb-abba-068e463b9c06",
   "metadata": {},
   "source": [
    "### Modules\n",
    "Certain features of Python are not loaded by default. These include both features that are included as part of the language as well as third-party features that you download yourself. In order to use these features, you’ll need to the modules that contain them.\n",
    "One approach is to simply the module itself:"
   ]
  },
  {
   "cell_type": "code",
   "execution_count": 5,
   "id": "073dd6d5-baf0-48c9-ba5c-19679a564ce9",
   "metadata": {},
   "outputs": [],
   "source": [
    "import re\n",
    "my_regex = re.compile('[0-9]+', re.I)"
   ]
  },
  {
   "cell_type": "markdown",
   "id": "def6d4b9-ecb1-4598-a480-d36b947e028f",
   "metadata": {},
   "source": [
    "Here, is the module containing functions and constants for working with regular expressions. After this type of you must prefix those functions with in order to access them.\n",
    "If you already had a different in your code, you could use an alias:\n"
   ]
  },
  {
   "cell_type": "code",
   "execution_count": 6,
   "id": "589f2fd5-ab39-45d8-91e6-213ead5961c6",
   "metadata": {},
   "outputs": [],
   "source": [
    "import re as regex\n",
    "my_regex = regex.compile('[0-9]+', re.I)"
   ]
  },
  {
   "cell_type": "markdown",
   "id": "b9ab2458-6887-47e3-b2be-5c10998b5906",
   "metadata": {},
   "source": [
    "You might also do this if your module has an unwieldy name or if you’re going to be typing it a lot. For example, a standard convention when visualizing data with matplotlib is:"
   ]
  },
  {
   "cell_type": "code",
   "execution_count": 8,
   "id": "409bbc10-400c-474d-8e83-4a7f777e70ba",
   "metadata": {},
   "outputs": [
    {
     "name": "stderr",
     "output_type": "stream",
     "text": [
      "Fontconfig warning: ignoring UTF-8: not a valid region tag\n"
     ]
    }
   ],
   "source": [
    "import matplotlib.pyplot as plt"
   ]
  },
  {
   "cell_type": "markdown",
   "id": "dd52ef64-fded-4d63-a88c-035f6c2c1ff2",
   "metadata": {},
   "source": [
    "If you need a few specific values from a module, you can import them explicitly and use them without qualification:"
   ]
  },
  {
   "cell_type": "code",
   "execution_count": 9,
   "id": "e03aa8f0-fb0b-4eac-b52b-33a66b32e385",
   "metadata": {},
   "outputs": [],
   "source": [
    "from collections import defaultdict, Counter\n",
    "lookup = defaultdict(int)\n",
    "my_counter = Counter()"
   ]
  },
  {
   "cell_type": "markdown",
   "id": "18cf70af-c7ae-4174-94f7-36572c7a6c45",
   "metadata": {},
   "source": [
    "If you were a bad person, you could import the entire contents of a module into your namespace, which might inadvertently overwrite variables you’ve already defined:"
   ]
  },
  {
   "cell_type": "code",
   "execution_count": 10,
   "id": "67912e4c-42a2-472f-9f04-ce82c65129f8",
   "metadata": {},
   "outputs": [
    {
     "name": "stdout",
     "output_type": "stream",
     "text": [
      "<function match at 0x7fcf18070560>\n"
     ]
    }
   ],
   "source": [
    "match = 0\n",
    "from re import *\n",
    "print(match)"
   ]
  },
  {
   "cell_type": "markdown",
   "id": "2d5d60cd-1e1e-4421-ad77-1b1520e197f6",
   "metadata": {},
   "source": [
    "However, since you are not a bad person, you won’t ever do this."
   ]
  },
  {
   "cell_type": "markdown",
   "id": "6d7534b9-e48c-4fdd-9b3e-8015783d6250",
   "metadata": {},
   "source": [
    "### Functions\n",
    "A function is a rule for taking zero or more inputs and returning a corresponding output. In Python, we typically define functions using :"
   ]
  },
  {
   "cell_type": "code",
   "execution_count": 11,
   "id": "c3d7359d-ce3c-4412-8988-dfcc20bc0943",
   "metadata": {},
   "outputs": [],
   "source": [
    "def double(x):\n",
    "    \"\"\"This is where you put an optiuonal docstring\n",
    "    that explains what the function does.\n",
    "    For eaxmple, this function multiplies its input by 2\n",
    "    \"\"\"\n",
    "    return x * 2"
   ]
  },
  {
   "cell_type": "markdown",
   "id": "9e1a5dc8-6eae-49c9-acb7-c68aeab4ec82",
   "metadata": {},
   "source": [
    "Python functions are first-class, which means that we can assign them to variables and pass them into functions just like any other arguments:"
   ]
  },
  {
   "cell_type": "code",
   "execution_count": 12,
   "id": "60c608a1-dea7-485d-8004-73352ce6735b",
   "metadata": {},
   "outputs": [],
   "source": [
    "def apply_to_one(f):\n",
    "    \"\"\"Calls the function f with 1 as its argument\"\"\"\n",
    "    return f(1)"
   ]
  },
  {
   "cell_type": "code",
   "execution_count": 14,
   "id": "c824a1de-5fc2-4683-83c7-5017c56f11b3",
   "metadata": {},
   "outputs": [
    {
     "data": {
      "text/plain": [
       "2"
      ]
     },
     "execution_count": 14,
     "metadata": {},
     "output_type": "execute_result"
    }
   ],
   "source": [
    "my_double = double\n",
    "x = apply_to_one(my_double)\n",
    "\n",
    "x"
   ]
  },
  {
   "cell_type": "markdown",
   "id": "056e841d-6e38-42a3-9a3a-e58136ff70ed",
   "metadata": {},
   "source": [
    "It is also easy to create short anonymous functions, or lambdas:"
   ]
  },
  {
   "cell_type": "code",
   "execution_count": 15,
   "id": "076a0f2f-d8c3-4de5-acaf-e9d849512691",
   "metadata": {},
   "outputs": [
    {
     "data": {
      "text/plain": [
       "5"
      ]
     },
     "execution_count": 15,
     "metadata": {},
     "output_type": "execute_result"
    }
   ],
   "source": [
    "y = apply_to_one(lambda x: x + 4)\n",
    "y"
   ]
  },
  {
   "cell_type": "markdown",
   "id": "3fc7db1d-ffaa-4f8b-b7da-0e517458be39",
   "metadata": {},
   "source": [
    "You can assign lambdas to variables, although most people will tell you that you should just use instead:"
   ]
  },
  {
   "cell_type": "code",
   "execution_count": 18,
   "id": "8008de2a-b385-46ba-a9a3-eb52fc39ba90",
   "metadata": {},
   "outputs": [
    {
     "name": "stdout",
     "output_type": "stream",
     "text": [
      "8\n",
      "8\n"
     ]
    }
   ],
   "source": [
    "# don't do this\n",
    "another_double = lambda x: 2 * x \n",
    "\n",
    "print(another_double(4))\n",
    "\n",
    "# do this instead\n",
    "def another_double(x):\n",
    "    return 2 * x\n",
    "\n",
    "print(another_double(4))"
   ]
  },
  {
   "cell_type": "markdown",
   "id": "497de95f-0785-4969-a98c-675603a28d0d",
   "metadata": {},
   "source": [
    "Function parameters can also be given default arguments, which only need to be specified when you want a value other than the default:"
   ]
  },
  {
   "cell_type": "code",
   "execution_count": 19,
   "id": "80af534a-1a2f-4fa9-8c2e-c6cc01e3b526",
   "metadata": {},
   "outputs": [
    {
     "name": "stdout",
     "output_type": "stream",
     "text": [
      "hello\n",
      "my default messsage\n"
     ]
    }
   ],
   "source": [
    "def my_print(message = 'my default messsage'):\n",
    "    print(message)\n",
    "    \n",
    "my_print('hello')\n",
    "my_print()"
   ]
  },
  {
   "cell_type": "markdown",
   "id": "c27a60ed-f3b1-4a1d-af9d-81faf056a863",
   "metadata": {},
   "source": [
    "It is sometimes useful to specify arguments by name:"
   ]
  },
  {
   "cell_type": "code",
   "execution_count": 21,
   "id": "42437ab8-0b09-410e-86b6-e67acfa146b5",
   "metadata": {},
   "outputs": [
    {
     "name": "stdout",
     "output_type": "stream",
     "text": [
      "joel grus\n",
      "joel something\n",
      "Whats his name grus\n"
     ]
    }
   ],
   "source": [
    "def full_name(first='Whats his name', last='something'):\n",
    "    return first + ' ' + last\n",
    "\n",
    "print(full_name('joel', 'grus'))\n",
    "print(full_name('joel'))\n",
    "print(full_name(last='grus'))"
   ]
  },
  {
   "cell_type": "markdown",
   "id": "cb4b280b-2ef1-4c65-8b44-1f40fe30d5f7",
   "metadata": {},
   "source": [
    "Strings can be delimited by single or double quotation marks (but the quotes have to match):"
   ]
  },
  {
   "cell_type": "code",
   "execution_count": 22,
   "id": "324e8624-b92b-4664-b74c-dd2f8798629b",
   "metadata": {},
   "outputs": [],
   "source": [
    "single_quoted_string = 'data science'\n",
    "double_quoted_string = \"data science\""
   ]
  },
  {
   "cell_type": "markdown",
   "id": "f8625d54-083a-45e1-95da-b573fa147781",
   "metadata": {},
   "source": [
    "Python uses backslashes to encode special characters. For example:"
   ]
  },
  {
   "cell_type": "code",
   "execution_count": 23,
   "id": "88d3e330-36bb-485f-8baf-72dc973ea776",
   "metadata": {},
   "outputs": [
    {
     "data": {
      "text/plain": [
       "1"
      ]
     },
     "execution_count": 23,
     "metadata": {},
     "output_type": "execute_result"
    }
   ],
   "source": [
    "tab_string = '\\t'\n",
    "len(tab_string)"
   ]
  },
  {
   "cell_type": "markdown",
   "id": "e0154c81-3495-4435-860a-a717f32ea790",
   "metadata": {},
   "source": [
    "If you want backslashes as backslashes (which you might in Windows directory names or in regular expressions), you can create `raw` strings using `r\"\"`:"
   ]
  },
  {
   "cell_type": "code",
   "execution_count": 24,
   "id": "358a9dad-2612-404a-a062-34e6c4efc689",
   "metadata": {},
   "outputs": [
    {
     "data": {
      "text/plain": [
       "2"
      ]
     },
     "execution_count": 24,
     "metadata": {},
     "output_type": "execute_result"
    }
   ],
   "source": [
    "not_tab_string = r'\\t'\n",
    "len(not_tab_string)"
   ]
  },
  {
   "cell_type": "markdown",
   "id": "4a8de4dc-a667-4f53-a4a5-1263722a94e7",
   "metadata": {},
   "source": [
    "You can create multiline strings using three double quotes:"
   ]
  },
  {
   "cell_type": "code",
   "execution_count": 25,
   "id": "c8ef64f6-e78f-4e94-b37d-d83ccfc1246c",
   "metadata": {},
   "outputs": [],
   "source": [
    "multi_line_string = \"\"\"This is the first line.\n",
    "and this is the second line\n",
    "and this is the third line\n",
    "\"\"\""
   ]
  },
  {
   "cell_type": "markdown",
   "id": "25e9e3e1-0792-48ef-b6f8-69120ff9ae43",
   "metadata": {},
   "source": [
    "he f-string, which provides a simple way to substitute values into strings. For example, if we had the first name and last name given separately:"
   ]
  },
  {
   "cell_type": "code",
   "execution_count": 26,
   "id": "4ddb7718-6626-482a-a483-28b52fe856e4",
   "metadata": {},
   "outputs": [],
   "source": [
    "first_name = 'Joel'\n",
    "last_name = 'Grus'"
   ]
  },
  {
   "cell_type": "markdown",
   "id": "45ea7c26-0bc9-4a46-8af8-079fde543cb1",
   "metadata": {},
   "source": [
    "we might want to combine them into a full name. There are multiple ways to construct such a `full_name` string:"
   ]
  },
  {
   "cell_type": "code",
   "execution_count": 27,
   "id": "c69603fd-0452-4ad6-889f-7f64a91e9f48",
   "metadata": {},
   "outputs": [
    {
     "name": "stdout",
     "output_type": "stream",
     "text": [
      "Joel Grus\n",
      "Joel Grus\n"
     ]
    }
   ],
   "source": [
    "full_name1 = first_name + ' ' + last_name\n",
    "full_name2 = '{0} {1}'.format(first_name, last_name)\n",
    "\n",
    "print(full_name1)\n",
    "print(full_name2)"
   ]
  },
  {
   "cell_type": "markdown",
   "id": "a67191a3-1c00-482a-b2cf-abbeb4034f0f",
   "metadata": {},
   "source": [
    "but the f-string way is much less unwieldy:"
   ]
  },
  {
   "cell_type": "code",
   "execution_count": 28,
   "id": "1c16b49e-0d57-4d87-9d57-b87199b08895",
   "metadata": {},
   "outputs": [
    {
     "name": "stdout",
     "output_type": "stream",
     "text": [
      "Joel Grus\n"
     ]
    }
   ],
   "source": [
    "full_name3 = f'{first_name} {last_name}'\n",
    "\n",
    "print(full_name3)"
   ]
  },
  {
   "cell_type": "markdown",
   "id": "fb8c1e1e-cbda-4a0a-8878-5876154e4308",
   "metadata": {},
   "source": [
    "### Exceptions\n",
    "\n",
    "When something goes wrong, Python raises an exception.\n",
    "Unhandled, exceptions will cause your program to crash.\n",
    "You can handle them using `try`\n",
    "and `except`:"
   ]
  },
  {
   "cell_type": "code",
   "execution_count": 29,
   "id": "45892a54-e99c-423a-bb67-475b88cc1d7e",
   "metadata": {},
   "outputs": [
    {
     "name": "stdout",
     "output_type": "stream",
     "text": [
      "cannot divide vy zero\n"
     ]
    }
   ],
   "source": [
    "try:\n",
    "    print(0 / 0)\n",
    "except:\n",
    "    print('cannot divide vy zero')"
   ]
  },
  {
   "cell_type": "markdown",
   "id": "f1b4ce82-4a60-48b3-bbc7-1afadaca6ea4",
   "metadata": {},
   "source": [
    "Although in many languages exceptions are considered bad, in Python there is no shame in using them to make your code cleaner, and we will sometimes do so.\n"
   ]
  },
  {
   "cell_type": "markdown",
   "id": "d292d0ac-7cac-417b-8484-5a0886e35a44",
   "metadata": {},
   "source": [
    "### Lists\n",
    "Probably the most fundamental data structure in Python is the list, which is simply an ordered collection (it is similar to what in other languages might be called an array, but with some added functionality):"
   ]
  },
  {
   "cell_type": "code",
   "execution_count": 31,
   "id": "00060c45-8c4e-4f06-bb98-1ae54333b908",
   "metadata": {},
   "outputs": [
    {
     "name": "stdout",
     "output_type": "stream",
     "text": [
      "[1, 2, 3]\n",
      "3\n",
      "6\n"
     ]
    }
   ],
   "source": [
    "integer_list = [1, 2, 3]\n",
    "heterogeneous_list = ['string', 0.1, True]\n",
    "list_of_lists = [integer_list, heterogeneous_list, []]\n",
    "\n",
    "list_length = len(integer_list)\n",
    "list_sum = sum(integer_list)\n",
    "\n",
    "print(integer_list)\n",
    "print(list_length)\n",
    "print(list_sum)"
   ]
  },
  {
   "cell_type": "markdown",
   "id": "24f6b87f-419a-4a75-a764-5d1e6fa8b04f",
   "metadata": {},
   "source": [
    "You can get or set the nth element of a list with square brackets:"
   ]
  },
  {
   "cell_type": "code",
   "execution_count": 32,
   "id": "3875a7ff-5d1c-4ac8-9ca0-8ed1f64c6762",
   "metadata": {},
   "outputs": [],
   "source": [
    "x = [0, 1, 2, 3, 4, 5, 6, 7, 8, 9]\n",
    "\n",
    "zero = x[0]\n",
    "one = x[1]\n",
    "\n",
    "nine = x[-1]\n",
    "eight = x[-2]\n",
    "x[0] = -1"
   ]
  },
  {
   "cell_type": "markdown",
   "id": "f1ed8740-19cc-4395-9cc7-6f8a993b4145",
   "metadata": {},
   "source": [
    "You can also use square brackets to slice lists. The slice `i:j` means all elements from (inclusive) to (not inclusive). If you leave off the start of\n",
    "the slice, you’ll slice from the beginning of the list, and if you leave of the end of the slice, you’ll slice until the end of the list:"
   ]
  },
  {
   "cell_type": "code",
   "execution_count": 33,
   "id": "79972d81-3e80-45bb-ab81-207adc8215df",
   "metadata": {},
   "outputs": [
    {
     "data": {
      "text/plain": [
       "[-1, 1, 2]"
      ]
     },
     "execution_count": 33,
     "metadata": {},
     "output_type": "execute_result"
    }
   ],
   "source": [
    "first_three = x[:3]\n",
    "first_three"
   ]
  },
  {
   "cell_type": "code",
   "execution_count": 34,
   "id": "666d4d1c-e7ef-40a0-9550-b545f1141813",
   "metadata": {},
   "outputs": [
    {
     "data": {
      "text/plain": [
       "[3, 4, 5, 6, 7, 8, 9]"
      ]
     },
     "execution_count": 34,
     "metadata": {},
     "output_type": "execute_result"
    }
   ],
   "source": [
    "three_to_end = x[3:]\n",
    "three_to_end"
   ]
  },
  {
   "cell_type": "code",
   "execution_count": 35,
   "id": "9e25a408-aa11-4726-89d0-f59364f9b052",
   "metadata": {},
   "outputs": [
    {
     "data": {
      "text/plain": [
       "[1, 2, 3, 4]"
      ]
     },
     "execution_count": 35,
     "metadata": {},
     "output_type": "execute_result"
    }
   ],
   "source": [
    "one_to_four = x[1:5]\n",
    "one_to_four"
   ]
  },
  {
   "cell_type": "code",
   "execution_count": 36,
   "id": "136c5283-526b-41be-9563-47d1797b6948",
   "metadata": {},
   "outputs": [
    {
     "data": {
      "text/plain": [
       "[7, 8, 9]"
      ]
     },
     "execution_count": 36,
     "metadata": {},
     "output_type": "execute_result"
    }
   ],
   "source": [
    "last_three = x[-3:]\n",
    "last_three"
   ]
  },
  {
   "cell_type": "code",
   "execution_count": 37,
   "id": "5904a591-bfeb-4b6e-8252-12b4ad607ef0",
   "metadata": {},
   "outputs": [
    {
     "data": {
      "text/plain": [
       "[1, 2, 3, 4, 5, 6, 7, 8]"
      ]
     },
     "execution_count": 37,
     "metadata": {},
     "output_type": "execute_result"
    }
   ],
   "source": [
    "without_first_and_last = x[1:-1]\n",
    "without_first_and_last"
   ]
  },
  {
   "cell_type": "code",
   "execution_count": 38,
   "id": "61a7e169-8577-4b65-8410-9689d165798d",
   "metadata": {},
   "outputs": [
    {
     "data": {
      "text/plain": [
       "[-1, 1, 2, 3, 4, 5, 6, 7, 8, 9]"
      ]
     },
     "execution_count": 38,
     "metadata": {},
     "output_type": "execute_result"
    }
   ],
   "source": [
    "copy_of_x = x[:]\n",
    "copy_of_x"
   ]
  },
  {
   "cell_type": "markdown",
   "id": "614ad479-e084-4ecf-a802-d67de0c45535",
   "metadata": {},
   "source": [
    "You can similarly slice strings and other “sequential” types.\n",
    "A slice can take a third argument to indicate its stride, which can be negative:\n"
   ]
  },
  {
   "cell_type": "code",
   "execution_count": 40,
   "id": "21978313-2a1e-44a6-bec3-36199ce09af1",
   "metadata": {},
   "outputs": [
    {
     "data": {
      "text/plain": [
       "[-1, 3, 6, 9]"
      ]
     },
     "execution_count": 40,
     "metadata": {},
     "output_type": "execute_result"
    }
   ],
   "source": [
    "every_third = x[::3]\n",
    "every_third"
   ]
  },
  {
   "cell_type": "code",
   "execution_count": 41,
   "id": "43e5f99b-bde2-4ef1-b26a-1bf036c8dbee",
   "metadata": {},
   "outputs": [
    {
     "data": {
      "text/plain": [
       "[5, 4, 3]"
      ]
     },
     "execution_count": 41,
     "metadata": {},
     "output_type": "execute_result"
    }
   ],
   "source": [
    "five_to_three = x[5:2:-1]\n",
    "five_to_three"
   ]
  },
  {
   "cell_type": "markdown",
   "id": "78b615c2-e0b8-4561-9ef1-2211483ad559",
   "metadata": {},
   "source": [
    "Python has an operator to check for list membership:"
   ]
  },
  {
   "cell_type": "code",
   "execution_count": 42,
   "id": "7f6cddbc-c253-4533-a2fe-0496ba680e85",
   "metadata": {},
   "outputs": [
    {
     "data": {
      "text/plain": [
       "False"
      ]
     },
     "execution_count": 42,
     "metadata": {},
     "output_type": "execute_result"
    }
   ],
   "source": [
    "0 in [1, 2, 3]"
   ]
  },
  {
   "cell_type": "code",
   "execution_count": 43,
   "id": "deca7414-14d4-44a1-9781-3eb4bcf687a9",
   "metadata": {},
   "outputs": [
    {
     "data": {
      "text/plain": [
       "True"
      ]
     },
     "execution_count": 43,
     "metadata": {},
     "output_type": "execute_result"
    }
   ],
   "source": [
    "1 in [1, 2, 3]"
   ]
  },
  {
   "cell_type": "markdown",
   "id": "a1704734-c1a6-4366-9323-c44c5763e951",
   "metadata": {},
   "source": [
    "This check involves examining the elements of the list one at a time, which means that you probably shouldn’t use it unless you know your list is pretty small (or unless you don’t care how long the check takes).\n",
    "It is easy to concatenate lists together. If you want to modify a list in place, you can use to add items from another collection:"
   ]
  },
  {
   "cell_type": "code",
   "execution_count": 44,
   "id": "c38c1c3d-cd28-4706-9518-c2e8eef18e3f",
   "metadata": {},
   "outputs": [],
   "source": [
    "x = [1, 2, 3]\n",
    "x.extend([4, 5, 6])"
   ]
  },
  {
   "cell_type": "markdown",
   "id": "5e64661e-e6ff-4e0a-8048-4a313554fb99",
   "metadata": {},
   "source": [
    "If you don’t want to modify , you can use list addition:"
   ]
  },
  {
   "cell_type": "code",
   "execution_count": 45,
   "id": "fd20e1b2-0e45-499d-b816-a84071467ef1",
   "metadata": {},
   "outputs": [
    {
     "data": {
      "text/plain": [
       "[1, 2, 3, 4, 5, 6]"
      ]
     },
     "execution_count": 45,
     "metadata": {},
     "output_type": "execute_result"
    }
   ],
   "source": [
    "x = [1, 2, 3]\n",
    "y = x + [4, 5, 6]\n",
    "y"
   ]
  },
  {
   "cell_type": "markdown",
   "id": "f26e6020-20ed-4c87-b7c7-658907726c48",
   "metadata": {},
   "source": [
    "More frequently we will append to lists one item at a time:"
   ]
  },
  {
   "cell_type": "code",
   "execution_count": 46,
   "id": "43f9b548-b650-4b25-a19c-7d83662f68dd",
   "metadata": {},
   "outputs": [
    {
     "name": "stdout",
     "output_type": "stream",
     "text": [
      "y 0\n",
      "z 4\n"
     ]
    }
   ],
   "source": [
    "x = [1, 2, 3]\n",
    "x.append(0)\n",
    "y = x[-1]\n",
    "z = len(x)\n",
    "\n",
    "print('y', y)\n",
    "print('z', z)"
   ]
  },
  {
   "cell_type": "markdown",
   "id": "144e458b-82fc-4e26-a64f-0f496fa4f587",
   "metadata": {},
   "source": [
    "It’s often convenient to unpack lists when you know how many elements they contain:"
   ]
  },
  {
   "cell_type": "code",
   "execution_count": 48,
   "id": "14660c6a-1025-4eb0-a901-84a970a8189a",
   "metadata": {},
   "outputs": [
    {
     "name": "stdout",
     "output_type": "stream",
     "text": [
      "x: 1\n",
      "y: 2\n"
     ]
    }
   ],
   "source": [
    "x, y = [1, 2]\n",
    "\n",
    "print('x:', x)\n",
    "print('y:', y)"
   ]
  },
  {
   "cell_type": "markdown",
   "id": "6bdcf032-6e1d-4aae-a64a-2f8a3fd3ad17",
   "metadata": {},
   "source": [
    "although you will get a if you don’t have the same number of elements on both sides."
   ]
  },
  {
   "cell_type": "markdown",
   "id": "108784f9-5532-4570-a2cf-c35c26f27ca9",
   "metadata": {},
   "source": [
    "\n",
    "A common idiom is to use an underscore for a value you’re going to throw away:"
   ]
  },
  {
   "cell_type": "code",
   "execution_count": 52,
   "id": "c6d321a8-2653-410b-8c28-9b1c23e64a3c",
   "metadata": {},
   "outputs": [
    {
     "name": "stdout",
     "output_type": "stream",
     "text": [
      "__: 1\n",
      "y: 2\n"
     ]
    }
   ],
   "source": [
    "__, y = [1, 2]\n",
    "\n",
    "print('__:', __)\n",
    "print('y:', y)"
   ]
  },
  {
   "cell_type": "markdown",
   "id": "0605c40e-6801-42c7-8b95-3ce822c45961",
   "metadata": {},
   "source": [
    "### Tuples"
   ]
  },
  {
   "cell_type": "markdown",
   "id": "c1d8916a-3d02-4f6e-b522-8291eda8977a",
   "metadata": {},
   "source": [
    "Tuples are lists’ immutable cousins. Pretty much anything you can do to a list that doesn’t involve modifying it, you can do to a tuple. You specify a tuple by using parentheses (or nothing) instead of square brackets:"
   ]
  },
  {
   "cell_type": "code",
   "execution_count": 53,
   "id": "eb855883-3c74-4e34-a775-de3ce93adc8a",
   "metadata": {},
   "outputs": [
    {
     "name": "stdout",
     "output_type": "stream",
     "text": [
      "cannot modify a tuple\n"
     ]
    }
   ],
   "source": [
    "my_list = [1, 2]\n",
    "my_tuple = (1, 2)\n",
    "other_tuple = 3, 4\n",
    "my_list[1] = 3\n",
    "\n",
    "try:\n",
    "    my_tuple[1] = 3\n",
    "except TypeError:\n",
    "    print('cannot modify a tuple')"
   ]
  },
  {
   "cell_type": "markdown",
   "id": "e761aa3f-1a38-4444-b2bf-56c69ee11d2a",
   "metadata": {},
   "source": [
    "Tuples are a convenient way to return multiple values from functions:"
   ]
  },
  {
   "cell_type": "code",
   "execution_count": 54,
   "id": "6e49c4b9-4a73-4d81-b5ef-752a8b70b47a",
   "metadata": {},
   "outputs": [],
   "source": [
    "def sum_and_product(x, y):\n",
    "    return (x + y), (x * y)\n",
    "\n",
    "sp = sum_and_product(2, 3)\n",
    "s, p = sum_and_product(5, 10)"
   ]
  },
  {
   "cell_type": "markdown",
   "id": "5843bb76-4bad-403c-b34d-1e3ed6029782",
   "metadata": {},
   "source": [
    "Tuples (and lists) can also be used for multiple assignment"
   ]
  },
  {
   "cell_type": "code",
   "execution_count": 55,
   "id": "6aba75e6-a629-4065-a622-0c05e6e58673",
   "metadata": {},
   "outputs": [
    {
     "name": "stdout",
     "output_type": "stream",
     "text": [
      "x:  1 y:  2\n",
      "x:  2 y:  1\n"
     ]
    }
   ],
   "source": [
    "x, y = 1, 2\n",
    "print('x: ', x, 'y: ', y)\n",
    "x, y = y, x\n",
    "print('x: ', x, 'y: ', y)"
   ]
  },
  {
   "cell_type": "code",
   "execution_count": null,
   "id": "8969e0b5-c91c-4ef1-b7f1-2beb29475b1e",
   "metadata": {},
   "outputs": [],
   "source": [
    "### Dictionaries"
   ]
  }
 ],
 "metadata": {
  "kernelspec": {
   "display_name": "Python 3 (ipykernel)",
   "language": "python",
   "name": "python3"
  },
  "language_info": {
   "codemirror_mode": {
    "name": "ipython",
    "version": 3
   },
   "file_extension": ".py",
   "mimetype": "text/x-python",
   "name": "python",
   "nbconvert_exporter": "python",
   "pygments_lexer": "ipython3",
   "version": "3.7.9"
  }
 },
 "nbformat": 4,
 "nbformat_minor": 5
}
