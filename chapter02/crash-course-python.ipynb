{
 "cells": [
  {
   "cell_type": "markdown",
   "id": "0a986361-5d36-4865-97bd-7f4e3eeca6a3",
   "metadata": {
    "tags": []
   },
   "source": [
    "# 02 A crash course in Python"
   ]
  },
  {
   "cell_type": "markdown",
   "id": "1e1a765c-cfb1-4b07-9416-e27542073126",
   "metadata": {},
   "source": [
    "### The Zen of Python"
   ]
  },
  {
   "cell_type": "code",
   "execution_count": 1,
   "id": "b2ac6738-9cdf-4dbd-8759-723ae333f16d",
   "metadata": {},
   "outputs": [
    {
     "name": "stdout",
     "output_type": "stream",
     "text": [
      "The Zen of Python, by Tim Peters\n",
      "\n",
      "Beautiful is better than ugly.\n",
      "Explicit is better than implicit.\n",
      "Simple is better than complex.\n",
      "Complex is better than complicated.\n",
      "Flat is better than nested.\n",
      "Sparse is better than dense.\n",
      "Readability counts.\n",
      "Special cases aren't special enough to break the rules.\n",
      "Although practicality beats purity.\n",
      "Errors should never pass silently.\n",
      "Unless explicitly silenced.\n",
      "In the face of ambiguity, refuse the temptation to guess.\n",
      "There should be one-- and preferably only one --obvious way to do it.\n",
      "Although that way may not be obvious at first unless you're Dutch.\n",
      "Now is better than never.\n",
      "Although never is often better than *right* now.\n",
      "If the implementation is hard to explain, it's a bad idea.\n",
      "If the implementation is easy to explain, it may be a good idea.\n",
      "Namespaces are one honking great idea -- let's do more of those!\n"
     ]
    }
   ],
   "source": [
    "import this"
   ]
  },
  {
   "cell_type": "markdown",
   "id": "8806e349-491e-4691-b219-357007f360a2",
   "metadata": {},
   "source": [
    "Code written in accordance with this “obvious” way (which may not be obvious at all to a newcomer) is often described as “Pythonic.”"
   ]
  },
  {
   "cell_type": "markdown",
   "id": "5034bad7-5667-4ae8-b600-6c30b33926d8",
   "metadata": {},
   "source": [
    "## Whitespace Formatting"
   ]
  },
  {
   "cell_type": "markdown",
   "id": "9df3b0b3-74e3-4024-877a-97445e10d2e2",
   "metadata": {},
   "source": [
    "Many languages use curly braces to delimit blocks of code. Python uses indentation:"
   ]
  },
  {
   "cell_type": "code",
   "execution_count": 2,
   "id": "8575b0d8-5c27-46e0-b29b-171a9d726c0e",
   "metadata": {},
   "outputs": [
    {
     "name": "stdout",
     "output_type": "stream",
     "text": [
      "1 1 2\n",
      "1 2 3\n",
      "1 3 4\n",
      "1 4 5\n",
      "1 5 6\n",
      "2 1 3\n",
      "2 2 4\n",
      "2 3 5\n",
      "2 4 6\n",
      "2 5 7\n",
      "3 1 4\n",
      "3 2 5\n",
      "3 3 6\n",
      "3 4 7\n",
      "3 5 8\n",
      "4 1 5\n",
      "4 2 6\n",
      "4 3 7\n",
      "4 4 8\n",
      "4 5 9\n",
      "5 1 6\n",
      "5 2 7\n",
      "5 3 8\n",
      "5 4 9\n",
      "5 5 10\n",
      "done looping\n"
     ]
    }
   ],
   "source": [
    "# the compund sign marks the start of a comment. Python itself\n",
    "# ignores the comments, but they're helpful for anyone reading the code\n",
    "for i in [1, 2, 3, 4, 5]:\n",
    "    for j in [1, 2, 3, 4, 5]:\n",
    "        print(i, j, i + j)\n",
    "print('done looping')"
   ]
  },
  {
   "cell_type": "markdown",
   "id": "379fea1d-628d-4062-ac87-fb29dac77513",
   "metadata": {},
   "source": [
    "This makes Python code very readable, but it also means that you have to be very careful with your formatting."
   ]
  },
  {
   "cell_type": "markdown",
   "id": "31e5e314-079a-4ee6-b531-eabc1f9b9ca8",
   "metadata": {},
   "source": [
    "Whitespace is ignored inside parentheses and brackets, which can be helpful for long-winded computations and for making code easier to read:"
   ]
  },
  {
   "cell_type": "code",
   "execution_count": 3,
   "id": "8d553851-4b0b-4120-9ee2-1e9bbb658dbd",
   "metadata": {},
   "outputs": [],
   "source": [
    "list_of_lists = [[1, 2, 3], [4, 5, 6], [7, 8, 9]]\n",
    "\n",
    "easier_to_read_list_of_lists = [\n",
    "    [1, 2, 3],\n",
    "    [4, 5, 6],\n",
    "    [7, 8, 9]\n",
    "]"
   ]
  },
  {
   "cell_type": "markdown",
   "id": "f012c5ab-2f4a-489b-afff-6e10f0bdb911",
   "metadata": {},
   "source": [
    "You can also use a backslash to indicate that a statement continues onto the next line, although we’ll rarely do this:"
   ]
  },
  {
   "cell_type": "code",
   "execution_count": 4,
   "id": "b6d7619e-6a60-45ea-a9c7-d8f3589eab74",
   "metadata": {},
   "outputs": [
    {
     "data": {
      "text/plain": [
       "5"
      ]
     },
     "execution_count": 4,
     "metadata": {},
     "output_type": "execute_result"
    }
   ],
   "source": [
    "two_plus_three = 2 + \\\n",
    "                    3\n",
    "two_plus_three"
   ]
  },
  {
   "cell_type": "markdown",
   "id": "c426549e-6456-4cbb-abba-068e463b9c06",
   "metadata": {},
   "source": [
    "### Modules\n",
    "Certain features of Python are not loaded by default. These include both features that are included as part of the language as well as third-party features that you download yourself. In order to use these features, you’ll need to the modules that contain them.\n",
    "One approach is to simply the module itself:"
   ]
  },
  {
   "cell_type": "code",
   "execution_count": 5,
   "id": "073dd6d5-baf0-48c9-ba5c-19679a564ce9",
   "metadata": {},
   "outputs": [],
   "source": [
    "import re\n",
    "my_regex = re.compile('[0-9]+', re.I)"
   ]
  },
  {
   "cell_type": "markdown",
   "id": "def6d4b9-ecb1-4598-a480-d36b947e028f",
   "metadata": {},
   "source": [
    "Here, is the module containing functions and constants for working with regular expressions. After this type of you must prefix those functions with in order to access them.\n",
    "If you already had a different in your code, you could use an alias:\n"
   ]
  },
  {
   "cell_type": "code",
   "execution_count": 6,
   "id": "589f2fd5-ab39-45d8-91e6-213ead5961c6",
   "metadata": {},
   "outputs": [],
   "source": [
    "import re as regex\n",
    "my_regex = regex.compile('[0-9]+', re.I)"
   ]
  },
  {
   "cell_type": "markdown",
   "id": "b9ab2458-6887-47e3-b2be-5c10998b5906",
   "metadata": {},
   "source": [
    "You might also do this if your module has an unwieldy name or if you’re going to be typing it a lot. For example, a standard convention when visualizing data with matplotlib is:"
   ]
  },
  {
   "cell_type": "code",
   "execution_count": 7,
   "id": "409bbc10-400c-474d-8e83-4a7f777e70ba",
   "metadata": {},
   "outputs": [],
   "source": [
    "import matplotlib.pyplot as plt"
   ]
  },
  {
   "cell_type": "markdown",
   "id": "dd52ef64-fded-4d63-a88c-035f6c2c1ff2",
   "metadata": {},
   "source": [
    "If you need a few specific values from a module, you can import them explicitly and use them without qualification:"
   ]
  },
  {
   "cell_type": "code",
   "execution_count": 8,
   "id": "e03aa8f0-fb0b-4eac-b52b-33a66b32e385",
   "metadata": {},
   "outputs": [],
   "source": [
    "from collections import defaultdict, Counter\n",
    "lookup = defaultdict(int)\n",
    "my_counter = Counter()"
   ]
  },
  {
   "cell_type": "markdown",
   "id": "18cf70af-c7ae-4174-94f7-36572c7a6c45",
   "metadata": {},
   "source": [
    "If you were a bad person, you could import the entire contents of a module into your namespace, which might inadvertently overwrite variables you’ve already defined:"
   ]
  },
  {
   "cell_type": "code",
   "execution_count": 9,
   "id": "67912e4c-42a2-472f-9f04-ce82c65129f8",
   "metadata": {},
   "outputs": [
    {
     "name": "stdout",
     "output_type": "stream",
     "text": [
      "<function match at 0x7feaa0112560>\n"
     ]
    }
   ],
   "source": [
    "match = 0\n",
    "from re import *\n",
    "print(match)"
   ]
  },
  {
   "cell_type": "markdown",
   "id": "2d5d60cd-1e1e-4421-ad77-1b1520e197f6",
   "metadata": {},
   "source": [
    "However, since you are not a bad person, you won’t ever do this."
   ]
  },
  {
   "cell_type": "markdown",
   "id": "6d7534b9-e48c-4fdd-9b3e-8015783d6250",
   "metadata": {},
   "source": [
    "### Functions\n",
    "A function is a rule for taking zero or more inputs and returning a corresponding output. In Python, we typically define functions using :"
   ]
  },
  {
   "cell_type": "code",
   "execution_count": 10,
   "id": "c3d7359d-ce3c-4412-8988-dfcc20bc0943",
   "metadata": {},
   "outputs": [],
   "source": [
    "def double(x):\n",
    "    \"\"\"This is where you put an optiuonal docstring\n",
    "    that explains what the function does.\n",
    "    For eaxmple, this function multiplies its input by 2\n",
    "    \"\"\"\n",
    "    return x * 2"
   ]
  },
  {
   "cell_type": "markdown",
   "id": "9e1a5dc8-6eae-49c9-acb7-c68aeab4ec82",
   "metadata": {},
   "source": [
    "Python functions are first-class, which means that we can assign them to variables and pass them into functions just like any other arguments:"
   ]
  },
  {
   "cell_type": "code",
   "execution_count": 11,
   "id": "60c608a1-dea7-485d-8004-73352ce6735b",
   "metadata": {},
   "outputs": [],
   "source": [
    "def apply_to_one(f):\n",
    "    \"\"\"Calls the function f with 1 as its argument\"\"\"\n",
    "    return f(1)"
   ]
  },
  {
   "cell_type": "code",
   "execution_count": 12,
   "id": "c824a1de-5fc2-4683-83c7-5017c56f11b3",
   "metadata": {},
   "outputs": [
    {
     "data": {
      "text/plain": [
       "2"
      ]
     },
     "execution_count": 12,
     "metadata": {},
     "output_type": "execute_result"
    }
   ],
   "source": [
    "my_double = double\n",
    "x = apply_to_one(my_double)\n",
    "\n",
    "x"
   ]
  },
  {
   "cell_type": "markdown",
   "id": "056e841d-6e38-42a3-9a3a-e58136ff70ed",
   "metadata": {},
   "source": [
    "It is also easy to create short anonymous functions, or lambdas:"
   ]
  },
  {
   "cell_type": "code",
   "execution_count": 13,
   "id": "076a0f2f-d8c3-4de5-acaf-e9d849512691",
   "metadata": {},
   "outputs": [
    {
     "data": {
      "text/plain": [
       "5"
      ]
     },
     "execution_count": 13,
     "metadata": {},
     "output_type": "execute_result"
    }
   ],
   "source": [
    "y = apply_to_one(lambda x: x + 4)\n",
    "y"
   ]
  },
  {
   "cell_type": "markdown",
   "id": "3fc7db1d-ffaa-4f8b-b7da-0e517458be39",
   "metadata": {},
   "source": [
    "You can assign lambdas to variables, although most people will tell you that you should just use instead:"
   ]
  },
  {
   "cell_type": "code",
   "execution_count": 14,
   "id": "8008de2a-b385-46ba-a9a3-eb52fc39ba90",
   "metadata": {},
   "outputs": [
    {
     "name": "stdout",
     "output_type": "stream",
     "text": [
      "8\n",
      "8\n"
     ]
    }
   ],
   "source": [
    "# don't do this\n",
    "another_double = lambda x: 2 * x \n",
    "\n",
    "print(another_double(4))\n",
    "\n",
    "# do this instead\n",
    "def another_double(x):\n",
    "    return 2 * x\n",
    "\n",
    "print(another_double(4))"
   ]
  },
  {
   "cell_type": "markdown",
   "id": "497de95f-0785-4969-a98c-675603a28d0d",
   "metadata": {},
   "source": [
    "Function parameters can also be given default arguments, which only need to be specified when you want a value other than the default:"
   ]
  },
  {
   "cell_type": "code",
   "execution_count": 15,
   "id": "80af534a-1a2f-4fa9-8c2e-c6cc01e3b526",
   "metadata": {},
   "outputs": [
    {
     "name": "stdout",
     "output_type": "stream",
     "text": [
      "hello\n",
      "my default messsage\n"
     ]
    }
   ],
   "source": [
    "def my_print(message = 'my default messsage'):\n",
    "    print(message)\n",
    "    \n",
    "my_print('hello')\n",
    "my_print()"
   ]
  },
  {
   "cell_type": "markdown",
   "id": "c27a60ed-f3b1-4a1d-af9d-81faf056a863",
   "metadata": {},
   "source": [
    "It is sometimes useful to specify arguments by name:"
   ]
  },
  {
   "cell_type": "code",
   "execution_count": 16,
   "id": "42437ab8-0b09-410e-86b6-e67acfa146b5",
   "metadata": {},
   "outputs": [
    {
     "name": "stdout",
     "output_type": "stream",
     "text": [
      "joel grus\n",
      "joel something\n",
      "Whats his name grus\n"
     ]
    }
   ],
   "source": [
    "def full_name(first='Whats his name', last='something'):\n",
    "    return first + ' ' + last\n",
    "\n",
    "print(full_name('joel', 'grus'))\n",
    "print(full_name('joel'))\n",
    "print(full_name(last='grus'))"
   ]
  },
  {
   "cell_type": "markdown",
   "id": "cb4b280b-2ef1-4c65-8b44-1f40fe30d5f7",
   "metadata": {},
   "source": [
    "Strings can be delimited by single or double quotation marks (but the quotes have to match):"
   ]
  },
  {
   "cell_type": "code",
   "execution_count": 17,
   "id": "324e8624-b92b-4664-b74c-dd2f8798629b",
   "metadata": {},
   "outputs": [],
   "source": [
    "single_quoted_string = 'data science'\n",
    "double_quoted_string = \"data science\""
   ]
  },
  {
   "cell_type": "markdown",
   "id": "f8625d54-083a-45e1-95da-b573fa147781",
   "metadata": {},
   "source": [
    "Python uses backslashes to encode special characters. For example:"
   ]
  },
  {
   "cell_type": "code",
   "execution_count": 18,
   "id": "88d3e330-36bb-485f-8baf-72dc973ea776",
   "metadata": {},
   "outputs": [
    {
     "data": {
      "text/plain": [
       "1"
      ]
     },
     "execution_count": 18,
     "metadata": {},
     "output_type": "execute_result"
    }
   ],
   "source": [
    "tab_string = '\\t'\n",
    "len(tab_string)"
   ]
  },
  {
   "cell_type": "markdown",
   "id": "e0154c81-3495-4435-860a-a717f32ea790",
   "metadata": {},
   "source": [
    "If you want backslashes as backslashes (which you might in Windows directory names or in regular expressions), you can create `raw` strings using `r\"\"`:"
   ]
  },
  {
   "cell_type": "code",
   "execution_count": 19,
   "id": "358a9dad-2612-404a-a062-34e6c4efc689",
   "metadata": {},
   "outputs": [
    {
     "data": {
      "text/plain": [
       "2"
      ]
     },
     "execution_count": 19,
     "metadata": {},
     "output_type": "execute_result"
    }
   ],
   "source": [
    "not_tab_string = r'\\t'\n",
    "len(not_tab_string)"
   ]
  },
  {
   "cell_type": "markdown",
   "id": "4a8de4dc-a667-4f53-a4a5-1263722a94e7",
   "metadata": {},
   "source": [
    "You can create multiline strings using three double quotes:"
   ]
  },
  {
   "cell_type": "code",
   "execution_count": 20,
   "id": "c8ef64f6-e78f-4e94-b37d-d83ccfc1246c",
   "metadata": {},
   "outputs": [],
   "source": [
    "multi_line_string = \"\"\"This is the first line.\n",
    "and this is the second line\n",
    "and this is the third line\n",
    "\"\"\""
   ]
  },
  {
   "cell_type": "markdown",
   "id": "25e9e3e1-0792-48ef-b6f8-69120ff9ae43",
   "metadata": {},
   "source": [
    "he f-string, which provides a simple way to substitute values into strings. For example, if we had the first name and last name given separately:"
   ]
  },
  {
   "cell_type": "code",
   "execution_count": 21,
   "id": "4ddb7718-6626-482a-a483-28b52fe856e4",
   "metadata": {},
   "outputs": [],
   "source": [
    "first_name = 'Joel'\n",
    "last_name = 'Grus'"
   ]
  },
  {
   "cell_type": "markdown",
   "id": "45ea7c26-0bc9-4a46-8af8-079fde543cb1",
   "metadata": {},
   "source": [
    "we might want to combine them into a full name. There are multiple ways to construct such a `full_name` string:"
   ]
  },
  {
   "cell_type": "code",
   "execution_count": 22,
   "id": "c69603fd-0452-4ad6-889f-7f64a91e9f48",
   "metadata": {},
   "outputs": [
    {
     "name": "stdout",
     "output_type": "stream",
     "text": [
      "Joel Grus\n",
      "Joel Grus\n"
     ]
    }
   ],
   "source": [
    "full_name1 = first_name + ' ' + last_name\n",
    "full_name2 = '{0} {1}'.format(first_name, last_name)\n",
    "\n",
    "print(full_name1)\n",
    "print(full_name2)"
   ]
  },
  {
   "cell_type": "markdown",
   "id": "a67191a3-1c00-482a-b2cf-abbeb4034f0f",
   "metadata": {},
   "source": [
    "but the f-string way is much less unwieldy:"
   ]
  },
  {
   "cell_type": "code",
   "execution_count": 23,
   "id": "1c16b49e-0d57-4d87-9d57-b87199b08895",
   "metadata": {},
   "outputs": [
    {
     "name": "stdout",
     "output_type": "stream",
     "text": [
      "Joel Grus\n"
     ]
    }
   ],
   "source": [
    "full_name3 = f'{first_name} {last_name}'\n",
    "\n",
    "print(full_name3)"
   ]
  },
  {
   "cell_type": "markdown",
   "id": "fb8c1e1e-cbda-4a0a-8878-5876154e4308",
   "metadata": {},
   "source": [
    "### Exceptions\n",
    "\n",
    "When something goes wrong, Python raises an exception.\n",
    "Unhandled, exceptions will cause your program to crash.\n",
    "You can handle them using `try`\n",
    "and `except`:"
   ]
  },
  {
   "cell_type": "code",
   "execution_count": 24,
   "id": "45892a54-e99c-423a-bb67-475b88cc1d7e",
   "metadata": {},
   "outputs": [
    {
     "name": "stdout",
     "output_type": "stream",
     "text": [
      "cannot divide vy zero\n"
     ]
    }
   ],
   "source": [
    "try:\n",
    "    print(0 / 0)\n",
    "except:\n",
    "    print('cannot divide vy zero')"
   ]
  },
  {
   "cell_type": "markdown",
   "id": "f1b4ce82-4a60-48b3-bbc7-1afadaca6ea4",
   "metadata": {},
   "source": [
    "Although in many languages exceptions are considered bad, in Python there is no shame in using them to make your code cleaner, and we will sometimes do so.\n"
   ]
  },
  {
   "cell_type": "markdown",
   "id": "d292d0ac-7cac-417b-8484-5a0886e35a44",
   "metadata": {},
   "source": [
    "### Lists\n",
    "Probably the most fundamental data structure in Python is the list, which is simply an ordered collection (it is similar to what in other languages might be called an array, but with some added functionality):"
   ]
  },
  {
   "cell_type": "code",
   "execution_count": 25,
   "id": "00060c45-8c4e-4f06-bb98-1ae54333b908",
   "metadata": {},
   "outputs": [
    {
     "name": "stdout",
     "output_type": "stream",
     "text": [
      "[1, 2, 3]\n",
      "3\n",
      "6\n"
     ]
    }
   ],
   "source": [
    "integer_list = [1, 2, 3]\n",
    "heterogeneous_list = ['string', 0.1, True]\n",
    "list_of_lists = [integer_list, heterogeneous_list, []]\n",
    "\n",
    "list_length = len(integer_list)\n",
    "list_sum = sum(integer_list)\n",
    "\n",
    "print(integer_list)\n",
    "print(list_length)\n",
    "print(list_sum)"
   ]
  },
  {
   "cell_type": "markdown",
   "id": "24f6b87f-419a-4a75-a764-5d1e6fa8b04f",
   "metadata": {},
   "source": [
    "You can get or set the nth element of a list with square brackets:"
   ]
  },
  {
   "cell_type": "code",
   "execution_count": 26,
   "id": "3875a7ff-5d1c-4ac8-9ca0-8ed1f64c6762",
   "metadata": {},
   "outputs": [],
   "source": [
    "x = [0, 1, 2, 3, 4, 5, 6, 7, 8, 9]\n",
    "\n",
    "zero = x[0]\n",
    "one = x[1]\n",
    "\n",
    "nine = x[-1]\n",
    "eight = x[-2]\n",
    "x[0] = -1"
   ]
  },
  {
   "cell_type": "markdown",
   "id": "f1ed8740-19cc-4395-9cc7-6f8a993b4145",
   "metadata": {},
   "source": [
    "You can also use square brackets to slice lists. The slice `i:j` means all elements from (inclusive) to (not inclusive). If you leave off the start of\n",
    "the slice, you’ll slice from the beginning of the list, and if you leave of the end of the slice, you’ll slice until the end of the list:"
   ]
  },
  {
   "cell_type": "code",
   "execution_count": 27,
   "id": "79972d81-3e80-45bb-ab81-207adc8215df",
   "metadata": {},
   "outputs": [
    {
     "data": {
      "text/plain": [
       "[-1, 1, 2]"
      ]
     },
     "execution_count": 27,
     "metadata": {},
     "output_type": "execute_result"
    }
   ],
   "source": [
    "first_three = x[:3]\n",
    "first_three"
   ]
  },
  {
   "cell_type": "code",
   "execution_count": 28,
   "id": "666d4d1c-e7ef-40a0-9550-b545f1141813",
   "metadata": {},
   "outputs": [
    {
     "data": {
      "text/plain": [
       "[3, 4, 5, 6, 7, 8, 9]"
      ]
     },
     "execution_count": 28,
     "metadata": {},
     "output_type": "execute_result"
    }
   ],
   "source": [
    "three_to_end = x[3:]\n",
    "three_to_end"
   ]
  },
  {
   "cell_type": "code",
   "execution_count": 29,
   "id": "9e25a408-aa11-4726-89d0-f59364f9b052",
   "metadata": {},
   "outputs": [
    {
     "data": {
      "text/plain": [
       "[1, 2, 3, 4]"
      ]
     },
     "execution_count": 29,
     "metadata": {},
     "output_type": "execute_result"
    }
   ],
   "source": [
    "one_to_four = x[1:5]\n",
    "one_to_four"
   ]
  },
  {
   "cell_type": "code",
   "execution_count": 30,
   "id": "136c5283-526b-41be-9563-47d1797b6948",
   "metadata": {},
   "outputs": [
    {
     "data": {
      "text/plain": [
       "[7, 8, 9]"
      ]
     },
     "execution_count": 30,
     "metadata": {},
     "output_type": "execute_result"
    }
   ],
   "source": [
    "last_three = x[-3:]\n",
    "last_three"
   ]
  },
  {
   "cell_type": "code",
   "execution_count": 31,
   "id": "5904a591-bfeb-4b6e-8252-12b4ad607ef0",
   "metadata": {},
   "outputs": [
    {
     "data": {
      "text/plain": [
       "[1, 2, 3, 4, 5, 6, 7, 8]"
      ]
     },
     "execution_count": 31,
     "metadata": {},
     "output_type": "execute_result"
    }
   ],
   "source": [
    "without_first_and_last = x[1:-1]\n",
    "without_first_and_last"
   ]
  },
  {
   "cell_type": "code",
   "execution_count": 32,
   "id": "61a7e169-8577-4b65-8410-9689d165798d",
   "metadata": {},
   "outputs": [
    {
     "data": {
      "text/plain": [
       "[-1, 1, 2, 3, 4, 5, 6, 7, 8, 9]"
      ]
     },
     "execution_count": 32,
     "metadata": {},
     "output_type": "execute_result"
    }
   ],
   "source": [
    "copy_of_x = x[:]\n",
    "copy_of_x"
   ]
  },
  {
   "cell_type": "markdown",
   "id": "614ad479-e084-4ecf-a802-d67de0c45535",
   "metadata": {},
   "source": [
    "You can similarly slice strings and other “sequential” types.\n",
    "A slice can take a third argument to indicate its stride, which can be negative:\n"
   ]
  },
  {
   "cell_type": "code",
   "execution_count": 33,
   "id": "21978313-2a1e-44a6-bec3-36199ce09af1",
   "metadata": {},
   "outputs": [
    {
     "data": {
      "text/plain": [
       "[-1, 3, 6, 9]"
      ]
     },
     "execution_count": 33,
     "metadata": {},
     "output_type": "execute_result"
    }
   ],
   "source": [
    "every_third = x[::3]\n",
    "every_third"
   ]
  },
  {
   "cell_type": "code",
   "execution_count": 34,
   "id": "43e5f99b-bde2-4ef1-b26a-1bf036c8dbee",
   "metadata": {},
   "outputs": [
    {
     "data": {
      "text/plain": [
       "[5, 4, 3]"
      ]
     },
     "execution_count": 34,
     "metadata": {},
     "output_type": "execute_result"
    }
   ],
   "source": [
    "five_to_three = x[5:2:-1]\n",
    "five_to_three"
   ]
  },
  {
   "cell_type": "markdown",
   "id": "78b615c2-e0b8-4561-9ef1-2211483ad559",
   "metadata": {},
   "source": [
    "Python has an operator to check for list membership:"
   ]
  },
  {
   "cell_type": "code",
   "execution_count": 35,
   "id": "7f6cddbc-c253-4533-a2fe-0496ba680e85",
   "metadata": {},
   "outputs": [
    {
     "data": {
      "text/plain": [
       "False"
      ]
     },
     "execution_count": 35,
     "metadata": {},
     "output_type": "execute_result"
    }
   ],
   "source": [
    "0 in [1, 2, 3]"
   ]
  },
  {
   "cell_type": "code",
   "execution_count": 36,
   "id": "deca7414-14d4-44a1-9781-3eb4bcf687a9",
   "metadata": {},
   "outputs": [
    {
     "data": {
      "text/plain": [
       "True"
      ]
     },
     "execution_count": 36,
     "metadata": {},
     "output_type": "execute_result"
    }
   ],
   "source": [
    "1 in [1, 2, 3]"
   ]
  },
  {
   "cell_type": "markdown",
   "id": "a1704734-c1a6-4366-9323-c44c5763e951",
   "metadata": {},
   "source": [
    "This check involves examining the elements of the list one at a time, which means that you probably shouldn’t use it unless you know your list is pretty small (or unless you don’t care how long the check takes).\n",
    "It is easy to concatenate lists together. If you want to modify a list in place, you can use to add items from another collection:"
   ]
  },
  {
   "cell_type": "code",
   "execution_count": 37,
   "id": "c38c1c3d-cd28-4706-9518-c2e8eef18e3f",
   "metadata": {},
   "outputs": [],
   "source": [
    "x = [1, 2, 3]\n",
    "x.extend([4, 5, 6])"
   ]
  },
  {
   "cell_type": "markdown",
   "id": "5e64661e-e6ff-4e0a-8048-4a313554fb99",
   "metadata": {},
   "source": [
    "If you don’t want to modify , you can use list addition:"
   ]
  },
  {
   "cell_type": "code",
   "execution_count": 38,
   "id": "fd20e1b2-0e45-499d-b816-a84071467ef1",
   "metadata": {},
   "outputs": [
    {
     "data": {
      "text/plain": [
       "[1, 2, 3, 4, 5, 6]"
      ]
     },
     "execution_count": 38,
     "metadata": {},
     "output_type": "execute_result"
    }
   ],
   "source": [
    "x = [1, 2, 3]\n",
    "y = x + [4, 5, 6]\n",
    "y"
   ]
  },
  {
   "cell_type": "markdown",
   "id": "f26e6020-20ed-4c87-b7c7-658907726c48",
   "metadata": {},
   "source": [
    "More frequently we will append to lists one item at a time:"
   ]
  },
  {
   "cell_type": "code",
   "execution_count": 39,
   "id": "43f9b548-b650-4b25-a19c-7d83662f68dd",
   "metadata": {},
   "outputs": [
    {
     "name": "stdout",
     "output_type": "stream",
     "text": [
      "y 0\n",
      "z 4\n"
     ]
    }
   ],
   "source": [
    "x = [1, 2, 3]\n",
    "x.append(0)\n",
    "y = x[-1]\n",
    "z = len(x)\n",
    "\n",
    "print('y', y)\n",
    "print('z', z)"
   ]
  },
  {
   "cell_type": "markdown",
   "id": "144e458b-82fc-4e26-a64f-0f496fa4f587",
   "metadata": {},
   "source": [
    "It’s often convenient to unpack lists when you know how many elements they contain:"
   ]
  },
  {
   "cell_type": "code",
   "execution_count": 40,
   "id": "14660c6a-1025-4eb0-a901-84a970a8189a",
   "metadata": {},
   "outputs": [
    {
     "name": "stdout",
     "output_type": "stream",
     "text": [
      "x: 1\n",
      "y: 2\n"
     ]
    }
   ],
   "source": [
    "x, y = [1, 2]\n",
    "\n",
    "print('x:', x)\n",
    "print('y:', y)"
   ]
  },
  {
   "cell_type": "markdown",
   "id": "6bdcf032-6e1d-4aae-a64a-2f8a3fd3ad17",
   "metadata": {},
   "source": [
    "although you will get a if you don’t have the same number of elements on both sides."
   ]
  },
  {
   "cell_type": "markdown",
   "id": "108784f9-5532-4570-a2cf-c35c26f27ca9",
   "metadata": {},
   "source": [
    "\n",
    "A common idiom is to use an underscore for a value you’re going to throw away:"
   ]
  },
  {
   "cell_type": "code",
   "execution_count": 41,
   "id": "c6d321a8-2653-410b-8c28-9b1c23e64a3c",
   "metadata": {},
   "outputs": [
    {
     "name": "stdout",
     "output_type": "stream",
     "text": [
      "__: 1\n",
      "y: 2\n"
     ]
    }
   ],
   "source": [
    "__, y = [1, 2]\n",
    "\n",
    "print('__:', __)\n",
    "print('y:', y)"
   ]
  },
  {
   "cell_type": "markdown",
   "id": "0605c40e-6801-42c7-8b95-3ce822c45961",
   "metadata": {},
   "source": [
    "### Tuples"
   ]
  },
  {
   "cell_type": "markdown",
   "id": "c1d8916a-3d02-4f6e-b522-8291eda8977a",
   "metadata": {},
   "source": [
    "Tuples are lists’ immutable cousins. Pretty much anything you can do to a list that doesn’t involve modifying it, you can do to a tuple. You specify a tuple by using parentheses (or nothing) instead of square brackets:"
   ]
  },
  {
   "cell_type": "code",
   "execution_count": 42,
   "id": "eb855883-3c74-4e34-a775-de3ce93adc8a",
   "metadata": {},
   "outputs": [
    {
     "name": "stdout",
     "output_type": "stream",
     "text": [
      "cannot modify a tuple\n"
     ]
    }
   ],
   "source": [
    "my_list = [1, 2]\n",
    "my_tuple = (1, 2)\n",
    "other_tuple = 3, 4\n",
    "my_list[1] = 3\n",
    "\n",
    "try:\n",
    "    my_tuple[1] = 3\n",
    "except TypeError:\n",
    "    print('cannot modify a tuple')"
   ]
  },
  {
   "cell_type": "markdown",
   "id": "e761aa3f-1a38-4444-b2bf-56c69ee11d2a",
   "metadata": {},
   "source": [
    "Tuples are a convenient way to return multiple values from functions:"
   ]
  },
  {
   "cell_type": "code",
   "execution_count": 43,
   "id": "6e49c4b9-4a73-4d81-b5ef-752a8b70b47a",
   "metadata": {},
   "outputs": [],
   "source": [
    "def sum_and_product(x, y):\n",
    "    return (x + y), (x * y)\n",
    "\n",
    "sp = sum_and_product(2, 3)\n",
    "s, p = sum_and_product(5, 10)"
   ]
  },
  {
   "cell_type": "markdown",
   "id": "5843bb76-4bad-403c-b34d-1e3ed6029782",
   "metadata": {},
   "source": [
    "Tuples (and lists) can also be used for multiple assignment"
   ]
  },
  {
   "cell_type": "code",
   "execution_count": 44,
   "id": "6aba75e6-a629-4065-a622-0c05e6e58673",
   "metadata": {},
   "outputs": [
    {
     "name": "stdout",
     "output_type": "stream",
     "text": [
      "x:  1 y:  2\n",
      "x:  2 y:  1\n"
     ]
    }
   ],
   "source": [
    "x, y = 1, 2\n",
    "print('x: ', x, 'y: ', y)\n",
    "x, y = y, x\n",
    "print('x: ', x, 'y: ', y)"
   ]
  },
  {
   "cell_type": "markdown",
   "id": "2ad36b16-a80c-423f-8052-db8ced41933a",
   "metadata": {},
   "source": [
    "### Dictionaries\n",
    "Another fundamental data structure is a dictionary, which associates values with keys and allows you to quickly retrieve the value corresponding to a given key:"
   ]
  },
  {
   "cell_type": "code",
   "execution_count": 45,
   "id": "62b8df9b-5ef2-407a-bb21-dd6b918f83e8",
   "metadata": {},
   "outputs": [],
   "source": [
    "empty_dict = {}\n",
    "ampty_dict2 = dict()\n",
    "grades = {\n",
    "    'joel': 80,\n",
    "    'tim': 95\n",
    "}"
   ]
  },
  {
   "cell_type": "markdown",
   "id": "08de2153-e6ca-4f38-9cff-2cd16a7e2204",
   "metadata": {},
   "source": [
    "You can look up the value for a key using square brackets:"
   ]
  },
  {
   "cell_type": "code",
   "execution_count": 46,
   "id": "c1f7af21-4211-4532-8fa5-acde42c5d205",
   "metadata": {},
   "outputs": [
    {
     "data": {
      "text/plain": [
       "80"
      ]
     },
     "execution_count": 46,
     "metadata": {},
     "output_type": "execute_result"
    }
   ],
   "source": [
    "joels_grade = grades['joel']\n",
    "joels_grade"
   ]
  },
  {
   "cell_type": "markdown",
   "id": "84628459-3a1d-41b7-89d6-ac89d3e22a21",
   "metadata": {},
   "source": [
    "But you’ll get a if you ask for a key that’s not in the dictionary:"
   ]
  },
  {
   "cell_type": "code",
   "execution_count": 47,
   "id": "d6c8ac51-3c3c-4910-afd3-7e98cad13e9e",
   "metadata": {},
   "outputs": [
    {
     "name": "stdout",
     "output_type": "stream",
     "text": [
      "no grade for kate.\n"
     ]
    }
   ],
   "source": [
    "try:\n",
    "    kates_grade = grades['kate']\n",
    "except KeyError:\n",
    "    print('no grade for kate.')"
   ]
  },
  {
   "cell_type": "markdown",
   "id": "a01864d2-45cf-4b81-a0c4-8ed39ac7ff6e",
   "metadata": {},
   "source": [
    "You can check for the existence of a key using :"
   ]
  },
  {
   "cell_type": "code",
   "execution_count": 48,
   "id": "10be10c4-02d8-4691-bfd5-6d885b141c7f",
   "metadata": {},
   "outputs": [
    {
     "name": "stdout",
     "output_type": "stream",
     "text": [
      "True\n",
      "False\n"
     ]
    }
   ],
   "source": [
    "joels_has_grade = 'joel' in grades\n",
    "print(joels_has_grade)\n",
    "kate_has_grade = 'kate' in grades\n",
    "print(kate_has_grade)"
   ]
  },
  {
   "cell_type": "markdown",
   "id": "aecdc8c6-7bd4-4aca-9683-29dd9b525470",
   "metadata": {},
   "source": [
    "This membership check is fast even for large dictionaries."
   ]
  },
  {
   "cell_type": "markdown",
   "id": "314f0ece-4883-4143-977e-a2c617eceec4",
   "metadata": {},
   "source": [
    "Dictionaries have a method that returns a default value (instead of raising an exception) when you look up a key that’s not in the dictionary:"
   ]
  },
  {
   "cell_type": "code",
   "execution_count": 49,
   "id": "8dde0d97-3f3f-434d-9188-8bd6106ac732",
   "metadata": {},
   "outputs": [
    {
     "name": "stdout",
     "output_type": "stream",
     "text": [
      "80\n",
      "0\n",
      "No value\n",
      "None\n"
     ]
    }
   ],
   "source": [
    "joels_grade = grades.get('joel', 0)\n",
    "kates_grade = grades.get('kate', 0)\n",
    "kates_grade_var = grades.get('kate', 'No value')\n",
    "no_ones_grade = grades.get('no one')\n",
    "\n",
    "print(joels_grade)\n",
    "print(kates_grade)\n",
    "print(kates_grade_var)\n",
    "print(no_ones_grade)"
   ]
  },
  {
   "cell_type": "markdown",
   "id": "9bbaf9fc-33df-444e-bf27-e14d009ab888",
   "metadata": {},
   "source": [
    "You can assign key/value pairs using the same square brackets:"
   ]
  },
  {
   "cell_type": "code",
   "execution_count": 50,
   "id": "6c6007f7-535d-4ba3-82fa-78c355256b8b",
   "metadata": {},
   "outputs": [
    {
     "name": "stdout",
     "output_type": "stream",
     "text": [
      "{'joel': 80, 'tim': 99, 'kate': 100}\n",
      "3\n"
     ]
    }
   ],
   "source": [
    "grades['tim'] = 99\n",
    "grades['kate'] = 100\n",
    "num_students = len(grades)\n",
    "\n",
    "print(grades)\n",
    "print(num_students)"
   ]
  },
  {
   "cell_type": "markdown",
   "id": "837443ff-f0cd-4226-ab8c-15af44e1398e",
   "metadata": {},
   "source": [
    " you can use dictionaries to represent structured data:"
   ]
  },
  {
   "cell_type": "code",
   "execution_count": 51,
   "id": "24d2967e-5710-440b-bfd2-d171c36e26ef",
   "metadata": {},
   "outputs": [],
   "source": [
    "tweet = {\n",
    "    'user': 'joelgrus',\n",
    "    'text': 'data science is awesome',\n",
    "    'retweet_count': 100,\n",
    "    'hashtags': ['#data', '#science', '#datascience', '#awesome', '#yolo']\n",
    "}"
   ]
  },
  {
   "cell_type": "markdown",
   "id": "917b05fd-8bfa-4a0e-8a2a-666e96432f45",
   "metadata": {},
   "source": [
    "although we’ll soon see a better approach."
   ]
  },
  {
   "cell_type": "markdown",
   "id": "90f05b6c-af4b-44b0-868e-1fec85d0e046",
   "metadata": {},
   "source": [
    "Besides looking for specific keys, we can look at all of them:"
   ]
  },
  {
   "cell_type": "code",
   "execution_count": 52,
   "id": "f96ef604-1302-413d-9ce5-3255fe4246ef",
   "metadata": {},
   "outputs": [
    {
     "name": "stdout",
     "output_type": "stream",
     "text": [
      "dict_keys(['user', 'text', 'retweet_count', 'hashtags'])\n",
      "dict_values(['joelgrus', 'data science is awesome', 100, ['#data', '#science', '#datascience', '#awesome', '#yolo']])\n",
      "dict_items([('user', 'joelgrus'), ('text', 'data science is awesome'), ('retweet_count', 100), ('hashtags', ['#data', '#science', '#datascience', '#awesome', '#yolo'])])\n",
      "True\n",
      "True\n",
      "True\n"
     ]
    }
   ],
   "source": [
    "tweet_keys = tweet.keys()\n",
    "print(tweet_keys)\n",
    "\n",
    "tweet_values = tweet.values()\n",
    "print(tweet_values)\n",
    "\n",
    "tweet_items = tweet.items()\n",
    "print(tweet_items)\n",
    "\n",
    "print('user' in tweet_keys)       # true but not pythonic\n",
    "print('user' in tweet)            # pythonic way for checking for keys\n",
    "print('joelgrus' in tweet_values) # true (slow but the only way to check it)"
   ]
  },
  {
   "cell_type": "markdown",
   "id": "23ec1ab3-2186-4578-a966-a0a6dcd6ceb0",
   "metadata": {},
   "source": [
    "Dictionary keys must be “hashable”; in particular, you cannot use lists as keys. If you need a multipart key, you should probably use a tuple or figure out a way to turn the key into a string.\n"
   ]
  },
  {
   "cell_type": "markdown",
   "id": "46279877-0ccf-493c-8948-2230262652e6",
   "metadata": {},
   "source": [
    "### defaultdict"
   ]
  },
  {
   "cell_type": "markdown",
   "id": "6b4faaf7-76e3-4f2a-a046-ae2ac4d1b2c1",
   "metadata": {},
   "source": [
    "Imagine that you’re trying to count the words in a document. An obvious approach is to create a dictionary in which the keys are words and the values are counts. As you check each word, you can increment its count if it’s already in the dictionary and add it to the dictionary if it’s not:"
   ]
  },
  {
   "cell_type": "code",
   "execution_count": 53,
   "id": "0272b05f-b752-4bf0-9fd8-0ee3e7884588",
   "metadata": {},
   "outputs": [
    {
     "data": {
      "text/plain": [
       "{'this': 2,\n",
       " 'is': 5,\n",
       " 'a': 1,\n",
       " 'medium': 3,\n",
       " 'size': 2,\n",
       " 'string': 2,\n",
       " 'text': 4,\n",
       " 'for': 1,\n",
       " 'demonstrations': 1,\n",
       " 'purpouses': 1,\n",
       " 'of': 3,\n",
       " 'dictionaries,': 1,\n",
       " 'the': 1,\n",
       " 'repeted': 1,\n",
       " 'words': 3,\n",
       " 'will': 1,\n",
       " 'be': 1,\n",
       " 'and': 2,\n",
       " 'other': 1,\n",
       " 'such': 1,\n",
       " 'as': 1,\n",
       " 'or': 2,\n",
       " 'that.': 1}"
      ]
     },
     "execution_count": 53,
     "metadata": {},
     "output_type": "execute_result"
    }
   ],
   "source": [
    "document = \"\"\"this is a medium size string text for demonstrations purpouses\n",
    "of dictionaries, the repeted words will be text text text and medium medium\n",
    "and other words such as words or this or that. is is is is of of size string\n",
    "\"\"\"\n",
    "document = document.split()\n",
    "word_counts = {}\n",
    "for word in document:\n",
    "    if word in word_counts:\n",
    "        word_counts[word] += 1\n",
    "    else:\n",
    "        word_counts[word] = 1\n",
    "word_counts"
   ]
  },
  {
   "cell_type": "markdown",
   "id": "4d4a7af7-7b96-4d91-b654-ccb7424ac91e",
   "metadata": {},
   "source": [
    "You could also use the “forgiveness is better than permission” approach and just handle the exception from trying to look up a missing key:"
   ]
  },
  {
   "cell_type": "code",
   "execution_count": 54,
   "id": "4abf6b27-f29e-4021-885a-15da6169103f",
   "metadata": {},
   "outputs": [
    {
     "data": {
      "text/plain": [
       "{'this': 2,\n",
       " 'is': 5,\n",
       " 'a': 1,\n",
       " 'medium': 3,\n",
       " 'size': 2,\n",
       " 'string': 2,\n",
       " 'text': 4,\n",
       " 'for': 1,\n",
       " 'demonstrations': 1,\n",
       " 'purpouses': 1,\n",
       " 'of': 3,\n",
       " 'dictionaries,': 1,\n",
       " 'the': 1,\n",
       " 'repeted': 1,\n",
       " 'words': 3,\n",
       " 'will': 1,\n",
       " 'be': 1,\n",
       " 'and': 2,\n",
       " 'other': 1,\n",
       " 'such': 1,\n",
       " 'as': 1,\n",
       " 'or': 2,\n",
       " 'that.': 1}"
      ]
     },
     "execution_count": 54,
     "metadata": {},
     "output_type": "execute_result"
    }
   ],
   "source": [
    "word_counts = {}\n",
    "for word in document:\n",
    "    try:\n",
    "        word_counts[word] += 1\n",
    "    except KeyError:\n",
    "        word_counts[word] = 1\n",
    "word_counts"
   ]
  },
  {
   "cell_type": "markdown",
   "id": "ab8fe7e6-b4a0-4828-bdde-466b1d179bc8",
   "metadata": {},
   "source": [
    "A third approach is to use , which behaves gracefully for missing keys:"
   ]
  },
  {
   "cell_type": "code",
   "execution_count": 55,
   "id": "d32b80fe-59a4-42a4-a53d-9bcbbb6f24d7",
   "metadata": {},
   "outputs": [
    {
     "data": {
      "text/plain": [
       "{'this': 2,\n",
       " 'is': 5,\n",
       " 'a': 1,\n",
       " 'medium': 3,\n",
       " 'size': 2,\n",
       " 'string': 2,\n",
       " 'text': 4,\n",
       " 'for': 1,\n",
       " 'demonstrations': 1,\n",
       " 'purpouses': 1,\n",
       " 'of': 3,\n",
       " 'dictionaries,': 1,\n",
       " 'the': 1,\n",
       " 'repeted': 1,\n",
       " 'words': 3,\n",
       " 'will': 1,\n",
       " 'be': 1,\n",
       " 'and': 2,\n",
       " 'other': 1,\n",
       " 'such': 1,\n",
       " 'as': 1,\n",
       " 'or': 2,\n",
       " 'that.': 1}"
      ]
     },
     "execution_count": 55,
     "metadata": {},
     "output_type": "execute_result"
    }
   ],
   "source": [
    "word_counts = {}\n",
    "for word in document:\n",
    "    previous_count = word_counts.get(word, 0)\n",
    "    word_counts[word] = previous_count + 1\n",
    "word_counts"
   ]
  },
  {
   "cell_type": "markdown",
   "id": "d5aebe17-843d-4516-9e3f-a011c43cba58",
   "metadata": {},
   "source": [
    "Every one of these is slightly unwieldy, which is why is useful. A is like a regular dictionary, except that when you try to look up a key it doesn’t contain, it first adds a value for it using a zero argument function you provided when you created it. In order to use `defaultdicts`, you have to import them from `collections`:"
   ]
  },
  {
   "cell_type": "code",
   "execution_count": 56,
   "id": "a02270b5-d4b0-4a9a-84a7-96248223b69d",
   "metadata": {},
   "outputs": [],
   "source": [
    "from collections import defaultdict\n",
    "\n",
    "word_counts = defaultdict(int)\n",
    "for word in document:\n",
    "    word_counts[word] += 1"
   ]
  },
  {
   "cell_type": "markdown",
   "id": "74ff4cd7-7027-47a8-b89a-ea593adabf4c",
   "metadata": {},
   "source": [
    "They can also be useful with or , or even your own functions:"
   ]
  },
  {
   "cell_type": "code",
   "execution_count": 57,
   "id": "f710dd41-e7c1-4909-8e78-0beb83e0855a",
   "metadata": {},
   "outputs": [
    {
     "name": "stdout",
     "output_type": "stream",
     "text": [
      "defaultdict(<class 'list'>, {2: [1]})\n",
      "defaultdict(<class 'dict'>, {'joel': {'city': 'seatle'}})\n",
      "defaultdict(<function <lambda> at 0x7feab094fb00>, {2: [0, 1]})\n"
     ]
    }
   ],
   "source": [
    "dd_list = defaultdict(list)\n",
    "dd_list[2].append(1)\n",
    "print(dd_list)\n",
    "\n",
    "dd_dict = defaultdict(dict)\n",
    "dd_dict['joel']['city'] = 'seatle'\n",
    "print(dd_dict)\n",
    "\n",
    "dd_pair = defaultdict(lambda: [0, 0])\n",
    "dd_pair[2][1] = 1\n",
    "print(dd_pair)"
   ]
  },
  {
   "cell_type": "markdown",
   "id": "43414881-46ae-4548-b562-fb4ff21d2712",
   "metadata": {},
   "source": [
    "These will be useful when we’re using dictionaries to “collect” results by some key and don’t want to have to check every time to see if the key exists yet."
   ]
  },
  {
   "cell_type": "markdown",
   "id": "c32b3a9a-4b45-41c9-ac01-43d4c8b21604",
   "metadata": {},
   "source": [
    "### Counters"
   ]
  },
  {
   "cell_type": "markdown",
   "id": "affe1213-405f-4d02-b67a-cfbee0a56c1f",
   "metadata": {},
   "source": [
    "A `Counter` turns a sequence of values into a `defaultdict(int)`-like object mapping keys to counts:\n"
   ]
  },
  {
   "cell_type": "code",
   "execution_count": 58,
   "id": "53d3f694-6a7c-4f8e-bed0-77c8cb478d6c",
   "metadata": {},
   "outputs": [],
   "source": [
    "from collections import Counter\n",
    "c = Counter([0, 1, 2, 0])"
   ]
  },
  {
   "cell_type": "markdown",
   "id": "2eb08da4-290e-46a4-bf10-82abd12b2e54",
   "metadata": {},
   "source": [
    "This gives us a very simple way to solve our `word_counts` problem:"
   ]
  },
  {
   "cell_type": "code",
   "execution_count": 59,
   "id": "0e523c6c-9b05-413a-9e2e-ef1b376086ec",
   "metadata": {},
   "outputs": [],
   "source": [
    "# recall, document is a list of words\n",
    "word_counts = Counter(document)"
   ]
  },
  {
   "cell_type": "markdown",
   "id": "91deef46-7c97-442d-998a-85edba38e2bc",
   "metadata": {},
   "source": [
    "A instance has a `most_common` method that is frequently useful:"
   ]
  },
  {
   "cell_type": "code",
   "execution_count": 60,
   "id": "3a8a4b67-853f-441b-8036-38ba2067144c",
   "metadata": {},
   "outputs": [
    {
     "name": "stdout",
     "output_type": "stream",
     "text": [
      "is 5\n",
      "text 4\n",
      "medium 3\n",
      "of 3\n",
      "words 3\n",
      "this 2\n",
      "size 2\n",
      "string 2\n",
      "and 2\n",
      "or 2\n"
     ]
    }
   ],
   "source": [
    "# print the 10 most common words and their counts\n",
    "for word, count in word_counts.most_common(10):\n",
    "    print(word, count)"
   ]
  },
  {
   "cell_type": "markdown",
   "id": "4a352c1d-0637-4b92-87f5-9454363f0067",
   "metadata": {},
   "source": [
    "### Sets\n",
    "Another useful data structure is set, which represents a collection of distinct elements. You can define a set by listing its elements between curly braces:\n"
   ]
  },
  {
   "cell_type": "code",
   "execution_count": 61,
   "id": "930adc21-7aff-4b92-85a3-8115b4584347",
   "metadata": {},
   "outputs": [],
   "source": [
    "primes_below_10 = {2, 3, 5, 7}"
   ]
  },
  {
   "cell_type": "markdown",
   "id": "7e1a8f49-64f6-4a3f-82b3-d92fb3ed43c2",
   "metadata": {},
   "source": [
    "However, that doesn't work for empty `sets` as `{}` already\n",
    "means \"empty `dict`\". In that case you'll need to use `set()` itself:"
   ]
  },
  {
   "cell_type": "code",
   "execution_count": 62,
   "id": "d4d435b7-81c8-4c58-a2e1-b541935af084",
   "metadata": {},
   "outputs": [],
   "source": [
    "s = set()\n",
    "s.add(1)\n",
    "s.add(2)\n",
    "s.add(3)\n",
    "x = len(s)\n",
    "y = 2 in s\n",
    "z = 3 in s"
   ]
  },
  {
   "cell_type": "markdown",
   "id": "33f0d83d-b074-42a7-be09-99ae3040f8ca",
   "metadata": {},
   "source": [
    "We’ll use sets for two main reasons. The first is that `in` is a very fast operation on sets. If we have a large collection of items that we want to use for a membership test, a set is more appropriate than a list:"
   ]
  },
  {
   "cell_type": "code",
   "execution_count": 63,
   "id": "23cb2d87-aaf6-4031-bfc9-333d13959883",
   "metadata": {},
   "outputs": [],
   "source": [
    "hundreds_of_other_words = ['.......']\n",
    "stopwords_list = ['a', 'an', 'at'] + hundreds_of_other_words + ['yet', 'you']"
   ]
  },
  {
   "cell_type": "code",
   "execution_count": 64,
   "id": "a16e63bd-99d1-4cb3-be7f-2d72faa9ee0a",
   "metadata": {},
   "outputs": [
    {
     "data": {
      "text/plain": [
       "False"
      ]
     },
     "execution_count": 64,
     "metadata": {},
     "output_type": "execute_result"
    }
   ],
   "source": [
    "'zip' in stopwords_list  # False, but we have to check every element"
   ]
  },
  {
   "cell_type": "code",
   "execution_count": 65,
   "id": "b7739de4-658d-4c16-ab13-29c09087ad47",
   "metadata": {},
   "outputs": [
    {
     "data": {
      "text/plain": [
       "False"
      ]
     },
     "execution_count": 65,
     "metadata": {},
     "output_type": "execute_result"
    }
   ],
   "source": [
    "stopwords_set = set(stopwords_list)\n",
    "'zip' in stopwords_set   # very fast to check"
   ]
  },
  {
   "cell_type": "markdown",
   "id": "66b9585a-6ff4-44e1-aa8f-fce27ae60052",
   "metadata": {},
   "source": [
    "The second reason is to find the distinct items in a collection:"
   ]
  },
  {
   "cell_type": "code",
   "execution_count": 66,
   "id": "98b12973-633b-444a-bd40-73f40e6cc39e",
   "metadata": {},
   "outputs": [],
   "source": [
    "item_list = [1, 2, 3, 1, 2, 3]\n",
    "num_items = len(item_list)\n",
    "item_set = set(item_list)\n",
    "num_distinct_items = len(item_set)\n",
    "distinct_item_list = list(item_set)"
   ]
  },
  {
   "cell_type": "markdown",
   "id": "1728c888-1178-4333-95d7-e5db0334af10",
   "metadata": {},
   "source": [
    "We’ll use sets less frequently than dictionaries and lists."
   ]
  },
  {
   "cell_type": "markdown",
   "id": "8d05fd35-e314-4ded-90e9-f59c45904231",
   "metadata": {},
   "source": [
    "### Control Flow"
   ]
  },
  {
   "cell_type": "markdown",
   "id": "6696c904-6df9-4944-a7ba-4ccfe55e18de",
   "metadata": {},
   "source": [
    "As in most programming languages, you can perform an action conditionally using `if`:"
   ]
  },
  {
   "cell_type": "code",
   "execution_count": 67,
   "id": "0d530618-b2c2-44eb-b536-12ec9f7ff8b9",
   "metadata": {},
   "outputs": [],
   "source": [
    "if 1 > 2:\n",
    "    message = 'of only 1 were greater than two...'\n",
    "elif 1 > 3:\n",
    "    message = 'elif stands for \"else if\"'\n",
    "else:\n",
    "    message = 'when all else fails use else (if you want to)'"
   ]
  },
  {
   "cell_type": "markdown",
   "id": "70ae9723-8f0d-427f-86bf-af9cb83b6f7e",
   "metadata": {},
   "source": [
    "You can also write a ternary if-then-else on one line"
   ]
  },
  {
   "cell_type": "code",
   "execution_count": 68,
   "id": "5e45d3ac-01fa-4a13-90e7-c0ff40e5ad2d",
   "metadata": {},
   "outputs": [],
   "source": [
    "parity = 'even' if x % 2 == 0 else 'odd'"
   ]
  },
  {
   "cell_type": "markdown",
   "id": "219bce65-255b-4801-b4f2-e9742062d047",
   "metadata": {},
   "source": [
    "Python has a `while` loop:"
   ]
  },
  {
   "cell_type": "code",
   "execution_count": 69,
   "id": "4c29376f-9384-4659-9c91-1f1d838783ab",
   "metadata": {},
   "outputs": [
    {
     "name": "stdout",
     "output_type": "stream",
     "text": [
      "0 is less than 10\n",
      "1 is less than 10\n",
      "2 is less than 10\n",
      "3 is less than 10\n",
      "4 is less than 10\n",
      "5 is less than 10\n",
      "6 is less than 10\n",
      "7 is less than 10\n",
      "8 is less than 10\n",
      "9 is less than 10\n"
     ]
    }
   ],
   "source": [
    "x = 0\n",
    "while x < 10:\n",
    "    print(f'{x} is less than 10')\n",
    "    x += 1"
   ]
  },
  {
   "cell_type": "markdown",
   "id": "61c1f803-85dc-4a1f-b85b-8d60652eb558",
   "metadata": {},
   "source": [
    "although more often we’ll use `for` and `in`:"
   ]
  },
  {
   "cell_type": "code",
   "execution_count": 70,
   "id": "fb4fae54-3175-4238-aeb0-9d519692f4ad",
   "metadata": {},
   "outputs": [
    {
     "name": "stdout",
     "output_type": "stream",
     "text": [
      "0 is less than 10\n",
      "1 is less than 10\n",
      "2 is less than 10\n",
      "3 is less than 10\n",
      "4 is less than 10\n",
      "5 is less than 10\n",
      "6 is less than 10\n",
      "7 is less than 10\n",
      "8 is less than 10\n",
      "9 is less than 10\n"
     ]
    }
   ],
   "source": [
    "for x in range(0, 10):\n",
    "    print(f'{x} is less than 10')"
   ]
  },
  {
   "cell_type": "markdown",
   "id": "16991e7c-e06b-4060-bf4c-fc0580cc6def",
   "metadata": {},
   "source": [
    "If you need more complex logic, you can use `continue` and `break`:"
   ]
  },
  {
   "cell_type": "code",
   "execution_count": 71,
   "id": "be642929-ffb6-47c6-8d95-23e75a7e728f",
   "metadata": {},
   "outputs": [
    {
     "name": "stdout",
     "output_type": "stream",
     "text": [
      "0\n",
      "1\n",
      "2\n",
      "4\n"
     ]
    }
   ],
   "source": [
    "for x in range(0, 10):\n",
    "    if x == 3:\n",
    "        continue\n",
    "    if x == 5:\n",
    "        break\n",
    "    print(x)"
   ]
  },
  {
   "cell_type": "markdown",
   "id": "ebee6866-10bf-4bec-b3ee-fc4aecd3c7c8",
   "metadata": {},
   "source": [
    "### Sorting\n",
    "Every Python list has a method that sorts it in place. If you don’t want to mess up your list, you can use the function, which returns a new list:"
   ]
  },
  {
   "cell_type": "code",
   "execution_count": 72,
   "id": "2bdd590e-0787-4d90-bafb-73d7298005ef",
   "metadata": {},
   "outputs": [
    {
     "name": "stdout",
     "output_type": "stream",
     "text": [
      "[1, 2, 3, 4]\n",
      "[1, 2, 3, 4]\n"
     ]
    }
   ],
   "source": [
    "x = [4, 1, 2, 3]\n",
    "y = sorted(x)      # x is unchanged\n",
    "x.sort()           # x in sorted in place\n",
    "\n",
    "print(y)\n",
    "print(x)"
   ]
  },
  {
   "cell_type": "markdown",
   "id": "da41e5af-52c3-4e66-a690-29524faf2560",
   "metadata": {},
   "source": [
    "By default, (and ) sort a list from smallest to largest based on naively comparing the elements to one another.\n",
    "If you want elements sorted from largest to smallest, you can specify `reverse=True` a parameter. And instead of comparing the elements\n",
    "themselves, you can compare the results of a function that you specify with `key`:"
   ]
  },
  {
   "cell_type": "code",
   "execution_count": 73,
   "id": "bfd86769-6b11-431b-9a65-d59a28321641",
   "metadata": {},
   "outputs": [],
   "source": [
    "# sort the list by absolute value from largest to smallest\n",
    "x = sorted([-4, 1, -2, 3], key=abs, reverse=True)\n",
    "\n",
    "# sort the words and counts form highest count to lowest\n",
    "wc = sorted(word_counts.items(),\n",
    "            key = lambda word_and_count: word_and_count[1],\n",
    "            reverse=True)"
   ]
  },
  {
   "cell_type": "markdown",
   "id": "e752020e-9199-4a90-94bb-8a76c19228c4",
   "metadata": {},
   "source": [
    " ### List Comprehensions"
   ]
  },
  {
   "cell_type": "markdown",
   "id": "6bbd9548-b887-4914-8794-c9ca041cc33f",
   "metadata": {},
   "source": [
    "\n",
    "Frequently, you’ll want to transform a list into another list by choosing only certain elements, by transforming elements, or both. The Pythonic way to do this is with list comprehensions:\n"
   ]
  },
  {
   "cell_type": "code",
   "execution_count": 74,
   "id": "c7bd6338-b54c-4904-a327-f90ced44d2da",
   "metadata": {},
   "outputs": [
    {
     "name": "stdout",
     "output_type": "stream",
     "text": [
      "[0, 2, 4]\n",
      "[0, 1, 4, 9, 16]\n",
      "[0, 4, 16]\n"
     ]
    }
   ],
   "source": [
    "even_numbers = [x for x in range(5) if x % 2 == 0]\n",
    "squares = [x * x for x in range(5)]\n",
    "even_squared = [x * x for x in even_numbers]\n",
    "\n",
    "print(even_numbers)\n",
    "print(squares)\n",
    "print(even_squared)"
   ]
  },
  {
   "cell_type": "markdown",
   "id": "684390a9-aefb-48e6-bb12-16628880fa51",
   "metadata": {},
   "source": [
    "You can similarly turn lists into dictionaries or sets:"
   ]
  },
  {
   "cell_type": "code",
   "execution_count": 75,
   "id": "8255ca7d-e96d-4911-b660-bd033b588080",
   "metadata": {},
   "outputs": [],
   "source": [
    "square_dict = {x: x * x for x in range(0, 5)}\n",
    "square_set = {x * x for x in [1, -1]}"
   ]
  },
  {
   "cell_type": "markdown",
   "id": "76cd407e-091f-46c8-961b-39533fa8e3ae",
   "metadata": {},
   "source": [
    "If you don’t need the value from the list, it’s common to use an underscore as the variable:"
   ]
  },
  {
   "cell_type": "code",
   "execution_count": 76,
   "id": "5057e2f3-fc08-487b-86eb-e00af20f2868",
   "metadata": {},
   "outputs": [],
   "source": [
    "zeros = [0 for __ in even_numbers]"
   ]
  },
  {
   "cell_type": "markdown",
   "id": "cab94d61-cf03-44e5-8fa6-e01470fe110d",
   "metadata": {},
   "source": [
    "A list comprehension can include multiple `for`s:\n"
   ]
  },
  {
   "cell_type": "code",
   "execution_count": 77,
   "id": "66aae638-accf-434e-a25d-ddef2d9af5e7",
   "metadata": {},
   "outputs": [
    {
     "name": "stdout",
     "output_type": "stream",
     "text": [
      "[(0, 0), (0, 1), (0, 2), (0, 3), (0, 4), (0, 5), (0, 6), (0, 7), (0, 8), (0, 9), (1, 0), (1, 1), (1, 2), (1, 3), (1, 4), (1, 5), (1, 6), (1, 7), (1, 8), (1, 9), (2, 0), (2, 1), (2, 2), (2, 3), (2, 4), (2, 5), (2, 6), (2, 7), (2, 8), (2, 9), (3, 0), (3, 1), (3, 2), (3, 3), (3, 4), (3, 5), (3, 6), (3, 7), (3, 8), (3, 9), (4, 0), (4, 1), (4, 2), (4, 3), (4, 4), (4, 5), (4, 6), (4, 7), (4, 8), (4, 9), (5, 0), (5, 1), (5, 2), (5, 3), (5, 4), (5, 5), (5, 6), (5, 7), (5, 8), (5, 9), (6, 0), (6, 1), (6, 2), (6, 3), (6, 4), (6, 5), (6, 6), (6, 7), (6, 8), (6, 9), (7, 0), (7, 1), (7, 2), (7, 3), (7, 4), (7, 5), (7, 6), (7, 7), (7, 8), (7, 9), (8, 0), (8, 1), (8, 2), (8, 3), (8, 4), (8, 5), (8, 6), (8, 7), (8, 8), (8, 9), (9, 0), (9, 1), (9, 2), (9, 3), (9, 4), (9, 5), (9, 6), (9, 7), (9, 8), (9, 9)]\n"
     ]
    }
   ],
   "source": [
    "pairs = [(x, y) for x in range(0, 10)\n",
    "                    for y in range(0, 10)]\n",
    "print(pairs)"
   ]
  },
  {
   "cell_type": "markdown",
   "id": "bab9f00f-8978-4ddc-b7b3-0e216c90a40c",
   "metadata": {},
   "source": [
    "and later `for`s can use the results of earlier ones:\n"
   ]
  },
  {
   "cell_type": "code",
   "execution_count": 78,
   "id": "89e132af-761d-4c40-a730-c91513d8e2e1",
   "metadata": {},
   "outputs": [
    {
     "name": "stdout",
     "output_type": "stream",
     "text": [
      "[(0, 1), (0, 2), (0, 3), (0, 4), (0, 5), (0, 6), (0, 7), (0, 8), (0, 9)]\n"
     ]
    }
   ],
   "source": [
    "increasing_pairs = [(x, y) for x in range(0, 1)\n",
    "                               for y in range(x + 1, 10)]\n",
    "print(increasing_pairs)"
   ]
  },
  {
   "cell_type": "markdown",
   "id": "b9abed0a-6730-47e7-92b9-2799f609b4a6",
   "metadata": {},
   "source": [
    "### Automated Testing and assert"
   ]
  },
  {
   "cell_type": "markdown",
   "id": "c398f64e-b256-4971-873c-078d2c0e2c04",
   "metadata": {},
   "source": [
    "As data scientists, we’ll be writing a lot of code. How can we be confident our code is correct? One way is with types (discussed shortly), but another way is with automated tests.\n",
    "There are elaborate frameworks for writing and running tests, but in this book we’ll restrict ourselves to using statements, which will cause\n",
    "your code to raise an `AssertionError` if your specified condition is not truthy:"
   ]
  },
  {
   "cell_type": "code",
   "execution_count": 79,
   "id": "05722e96-fc1d-41d9-882a-5e154b0ce4d3",
   "metadata": {},
   "outputs": [],
   "source": [
    "assert 1 + 1 == 2\n",
    "assert 1 + 1 == 2, '1 + 1 should be equal 2 but didnt'"
   ]
  },
  {
   "cell_type": "markdown",
   "id": "7ceac192-e245-42ec-a9a8-8323f20eb6e6",
   "metadata": {},
   "source": [
    "As you can see in the second case, you can optionally add a message to be printed if the assertion fails."
   ]
  },
  {
   "cell_type": "markdown",
   "id": "5f922fe1-a657-4267-afb9-69fcce98b33f",
   "metadata": {},
   "source": [
    "It’s not particularly interesting to assert that 1 + 1 = 2. What’s more interesting is to assert that functions you write are doing what you expect them to:\n"
   ]
  },
  {
   "cell_type": "code",
   "execution_count": 80,
   "id": "28a7af7e-fe10-49f4-b6c1-cfff13c91bc8",
   "metadata": {},
   "outputs": [],
   "source": [
    "def smallest_item(xs):\n",
    "    return min(xs)\n",
    "\n",
    "\n",
    "assert smallest_item([10, 20, 5, 40]) == 5\n",
    "assert smallest_item([1, 0, -1, 2]) == -1"
   ]
  },
  {
   "cell_type": "markdown",
   "id": "48a96dc1-4be8-403a-be5f-ed150058115c",
   "metadata": {},
   "source": [
    "Another less common use is to assert things about inputs to functions:"
   ]
  },
  {
   "cell_type": "code",
   "execution_count": 81,
   "id": "35acb5f5-2561-4b47-8744-2dbe42f36ab1",
   "metadata": {},
   "outputs": [],
   "source": [
    "def smallest_item(xs):\n",
    "    assert xs, 'empty list has no smallest item'\n",
    "    return min(xs)"
   ]
  },
  {
   "cell_type": "markdown",
   "id": "351b6d23-e8ff-4ee0-8c77-0b8fa545a2e0",
   "metadata": {},
   "source": [
    "### Object-Oriented Programming"
   ]
  },
  {
   "cell_type": "markdown",
   "id": "005c99b0-24c2-45c0-baf0-6214b177103b",
   "metadata": {},
   "source": [
    "Like many languages, Python allows you to define classes that encapsulate data and the functions that operate on them. We’ll use them sometimes to make our code cleaner and simpler. It’s probably simplest to explain them by constructing a heavily annotated example.\n",
    "Here we’ll construct a class representing a “counting clicker,” the sort that is used at the door to track how many people have shown up for the “advanced topics in data science” meetup."
   ]
  },
  {
   "cell_type": "markdown",
   "id": "40b9d612-431f-4cf5-b092-8e35d069268f",
   "metadata": {},
   "source": [
    "It maintains a `count`, can be `click`ed to increment the count, allows you to `read_count`, and can be back to zero. (In real life one of these rolls\n",
    "over from 9999 to 0000, but we won’t bother with that.)\n",
    "\n",
    "To define a `class`, you use the keyword and a PascalCase name:"
   ]
  },
  {
   "cell_type": "code",
   "execution_count": 82,
   "id": "dec0875f-f5cf-4a57-a722-b52686bf43b5",
   "metadata": {},
   "outputs": [],
   "source": [
    "class CountingClicker:\n",
    "    \"\"\"A class can/should have a docstring, just like a function\"\"\""
   ]
  },
  {
   "cell_type": "markdown",
   "id": "d3c30176-891f-426f-a663-147f5e61f2cb",
   "metadata": {},
   "source": [
    "A class contains zero or more member functions. By convention, each takes a first parameter, , that refers to the particular class instance."
   ]
  },
  {
   "cell_type": "markdown",
   "id": "91f9bec1-105d-4635-8252-9e5794f2df8c",
   "metadata": {},
   "source": [
    "Normally, a class has a constructor, named `__init__`. It takes whatever parameters you need to construct an instance of your class and does whatever setup you need:"
   ]
  },
  {
   "cell_type": "code",
   "execution_count": 83,
   "id": "885fdf1d-cd1c-4a64-9522-4bac4b1b5e71",
   "metadata": {},
   "outputs": [],
   "source": [
    "class CountingClicker:\n",
    "    \"\"\"A class can/should have a docstring, just like a function\"\"\"\n",
    "    def __init__(self, count=0):\n",
    "        self.count = count"
   ]
  },
  {
   "cell_type": "markdown",
   "id": "5cbc50eb-8766-4fdd-9d97-9f67d394c3c0",
   "metadata": {},
   "source": [
    "Although the constructor has a funny name, we construct instances of the clicker using just the class name:"
   ]
  },
  {
   "cell_type": "code",
   "execution_count": 84,
   "id": "d4a2f65c-25cc-47c0-a0e9-f466cbb63c79",
   "metadata": {},
   "outputs": [],
   "source": [
    "clicker1 = CountingClicker()\n",
    "clicker2 = CountingClicker(100)\n",
    "clicker3 = CountingClicker(count=100)"
   ]
  },
  {
   "cell_type": "markdown",
   "id": "b764c5d7-2166-4596-a44e-245a0e363f97",
   "metadata": {},
   "source": [
    "Notice that the `__init__` method name starts and ends with double underscores. These “magic” methods are sometimes called “dunder” methods (double-UNDERscore, get it?) and represent “special” behaviors."
   ]
  },
  {
   "cell_type": "markdown",
   "id": "e5cf5476-eccf-4a88-9125-92adfb544b9e",
   "metadata": {},
   "source": [
    "Another such method is `__repr__`, which produces the string representation of a class instance:"
   ]
  },
  {
   "cell_type": "code",
   "execution_count": 85,
   "id": "65559576-224d-4715-b2ff-00fd090abe1d",
   "metadata": {},
   "outputs": [],
   "source": [
    "class CountingClicker:\n",
    "    \"\"\"A class can/should have a docstring, just like a function\"\"\"\n",
    "    def __init__(self, count=0):\n",
    "        self.count = count\n",
    "    \n",
    "    def __repr__(self):\n",
    "        return f'CoutingClicker(count={self.count})'"
   ]
  },
  {
   "cell_type": "markdown",
   "id": "af2687e9-04de-4f27-814c-aab0f1dcbb26",
   "metadata": {},
   "source": [
    "And finally we need to implement the public API of our class:"
   ]
  },
  {
   "cell_type": "code",
   "execution_count": 86,
   "id": "6df5eb46-0a7e-45fa-9ec0-4decdede2a1e",
   "metadata": {},
   "outputs": [],
   "source": [
    "class CountingClicker:\n",
    "    \"\"\"A class can/should have a docstring, just like a function\"\"\"\n",
    "    def __init__(self, count=0):\n",
    "        self.count = count\n",
    "    \n",
    "    def __repr__(self):\n",
    "        return f'CoutingClicker(count={self.count})'\n",
    "    \n",
    "    def click(self, num_times=1):\n",
    "        \"\"\"Click the clicker some number of times.\"\"\"\n",
    "        self.count += num_times\n",
    "    \n",
    "    def read(self):\n",
    "        return self.count\n",
    "    \n",
    "    def reset(self):\n",
    "        self.count = 0"
   ]
  },
  {
   "cell_type": "markdown",
   "id": "d8348c81-c8d1-4657-9d43-c1520d9910cd",
   "metadata": {},
   "source": [
    "Having defined it, let’s use to write some test cases for our clicker:"
   ]
  },
  {
   "cell_type": "code",
   "execution_count": 87,
   "id": "11b18370-b67d-460d-bc2a-fc5b67dd755b",
   "metadata": {},
   "outputs": [],
   "source": [
    "clicker = CountingClicker()\n",
    "assert clicker.read() == 0, 'clicker should start with count 0'"
   ]
  },
  {
   "cell_type": "code",
   "execution_count": 88,
   "id": "82f6192b-322e-45e1-995b-2e961eabeff3",
   "metadata": {},
   "outputs": [],
   "source": [
    "clicker.click()\n",
    "clicker.click()\n",
    "assert clicker.read() == 2, 'after two clicks, clicker should have count 2'"
   ]
  },
  {
   "cell_type": "code",
   "execution_count": 89,
   "id": "ae19e287-8b91-456f-99be-e0e372b3aa0e",
   "metadata": {},
   "outputs": [],
   "source": [
    "clicker.reset()\n",
    "assert clicker.read() == 0, 'after reset, clicker should be back to 0'"
   ]
  },
  {
   "cell_type": "markdown",
   "id": "16241fb0-9868-40f2-bbfd-92dacef7f2cd",
   "metadata": {},
   "source": [
    "Writing tests like these help us be confident that our code is working the way it’s designed to, and that it remains doing so whenever we make changes to it.\n"
   ]
  },
  {
   "cell_type": "markdown",
   "id": "a344048e-7a46-434e-ba63-ce9ecd0f4b30",
   "metadata": {},
   "source": [
    "We’ll also occasionally create subclasses that inherit some of their functionality from a parent class. For example, we could create a non-reset- able clicker by using as the base class and overriding the `reset` method to do nothing:\n"
   ]
  },
  {
   "cell_type": "code",
   "execution_count": 90,
   "id": "5954ebf5-5a26-42ca-836b-93645a6db44e",
   "metadata": {},
   "outputs": [],
   "source": [
    "# a subclass inherits all the behaviour of its parent class\n",
    "class NoResetClicker(CountingClicker):\n",
    "    # this class has all the same methods as CountingClicker\n",
    "    # except tha tit has a reset method that does nothing\n",
    "    def reset(self):\n",
    "        pass"
   ]
  },
  {
   "cell_type": "code",
   "execution_count": 91,
   "id": "932a3ccc-eff9-41e0-a202-f16db765936f",
   "metadata": {},
   "outputs": [],
   "source": [
    "clicker2 = NoResetClicker()\n",
    "assert clicker2.read() == 0"
   ]
  },
  {
   "cell_type": "code",
   "execution_count": 92,
   "id": "3d27b57c-0fc0-4636-9baf-f799190a3815",
   "metadata": {},
   "outputs": [],
   "source": [
    "clicker2.click()\n",
    "assert clicker2.read() == 1"
   ]
  },
  {
   "cell_type": "code",
   "execution_count": 93,
   "id": "63e08391-5365-4f14-bfc5-020e2a4a8f10",
   "metadata": {},
   "outputs": [],
   "source": [
    "clicker2.click()\n",
    "assert clicker2.read() == 2"
   ]
  },
  {
   "cell_type": "code",
   "execution_count": 94,
   "id": "5d301a1f-4f6d-44ca-9092-1d6db817b0f9",
   "metadata": {},
   "outputs": [],
   "source": [
    "clicker2.reset()\n",
    "assert clicker2.read() == 2"
   ]
  },
  {
   "cell_type": "markdown",
   "id": "97c12866-c277-41d8-a12a-31d7aea5273d",
   "metadata": {},
   "source": [
    "### Iterables and Generators"
   ]
  },
  {
   "cell_type": "markdown",
   "id": "ee049d4a-6f41-4c6c-92c0-bd3f6efc7921",
   "metadata": {},
   "source": [
    "One nice thing about a list is that you can retrieve specific elements by their indices. But you don’t always need this! A list of a billion numbers takes up a lot of memory. If you only want the elements one at a time, there’s no good reason to keep them all around. If you only end up needing the first several elements, generating the entire billion is hugely wasteful.\n",
    "Often all we need is to iterate over the collection using and . In this case we can create generators, which can be iterated over just like lists but generate their values lazily on demand.\n",
    "One way to create generators is with functions and the `yield` operator:"
   ]
  },
  {
   "cell_type": "code",
   "execution_count": 96,
   "id": "083962ff-95a1-4c55-965d-f15b3c54be74",
   "metadata": {},
   "outputs": [],
   "source": [
    "def generate_range(n):\n",
    "    i = 0\n",
    "    while i < n:\n",
    "        yield i\n",
    "        i += 1"
   ]
  },
  {
   "cell_type": "markdown",
   "id": "a2f4d4de-965b-4b7e-a9bd-234792248ba7",
   "metadata": {},
   "source": [
    "The following loop will consume the `yield`ed values one at a time until none are left:\n",
    "\n"
   ]
  },
  {
   "cell_type": "code",
   "execution_count": 98,
   "id": "92116222-41ab-43d8-8696-a15b42dbc8b6",
   "metadata": {},
   "outputs": [
    {
     "name": "stdout",
     "output_type": "stream",
     "text": [
      "i: 0\n",
      "i: 1\n",
      "i: 2\n",
      "i: 3\n",
      "i: 4\n",
      "i: 5\n",
      "i: 6\n",
      "i: 7\n",
      "i: 8\n",
      "i: 9\n"
     ]
    }
   ],
   "source": [
    "for i in generate_range(10):\n",
    "    print(f'i: {i}')"
   ]
  },
  {
   "cell_type": "markdown",
   "id": "77364011-40fe-4bac-ae9b-396c00c88d42",
   "metadata": {},
   "source": [
    "(In fact, `range` is itself lazy, so there’s no point in doing this.)"
   ]
  },
  {
   "cell_type": "markdown",
   "id": "3cf1bd31-2539-4a8b-8df8-e6cfcb57147a",
   "metadata": {},
   "source": [
    "With a generator, you can even create an infinite sequence:"
   ]
  },
  {
   "cell_type": "code",
   "execution_count": 99,
   "id": "3320b9b0-22f9-4661-96c4-8c51054ad57d",
   "metadata": {},
   "outputs": [],
   "source": [
    "def generate_natural_numbers():\n",
    "    \"\"\"returns 1, 2, 3, ...\"\"\"\n",
    "    n = 1\n",
    "    while True:\n",
    "        yield n\n",
    "        n += 1"
   ]
  },
  {
   "cell_type": "markdown",
   "id": "355d2072-879a-4ccd-94be-13bb5f68bd30",
   "metadata": {},
   "source": [
    "although you probably shouldn’t iterate over it without using some kind of `break` logic."
   ]
  },
  {
   "cell_type": "markdown",
   "id": "d2d78d0a-796f-49db-8ea6-c810af4c10f3",
   "metadata": {},
   "source": [
    "##### Tip\n",
    "The flip side of laziness is that you can only iterate through a generator once. If you need to iterate through something multiple times, you’ll need to either re-create the generator each time or use a list. If generating the values is expensive, that might be a good reason to use a list instead."
   ]
  },
  {
   "cell_type": "markdown",
   "id": "84ec9171-683f-48d7-a210-aa6fdf8b9763",
   "metadata": {},
   "source": [
    "A  second way to create generators is by using comprehensions wrapped in parentheses:"
   ]
  },
  {
   "cell_type": "code",
   "execution_count": 101,
   "id": "85bbb3ab-0a07-4497-b67a-0b4e7e2c470c",
   "metadata": {},
   "outputs": [
    {
     "data": {
      "text/plain": [
       "<generator object <genexpr> at 0x7feab093d8d0>"
      ]
     },
     "execution_count": 101,
     "metadata": {},
     "output_type": "execute_result"
    }
   ],
   "source": [
    "evens_below_20 = (i for i in generate_range(20) if i % 2 == 0)\n",
    "evens_below_20"
   ]
  },
  {
   "cell_type": "markdown",
   "id": "dd6d8bc8-f562-4198-940a-e3b2f2e0609e",
   "metadata": {},
   "source": [
    "Such a “generator comprehension” doesn’t do any work until you iterate over it (using or ). We can use this to build up elaborate data- processing pipelines:"
   ]
  },
  {
   "cell_type": "code",
   "execution_count": 103,
   "id": "e44d5bf7-6bc0-4628-9f6f-8755ef84aac8",
   "metadata": {},
   "outputs": [],
   "source": [
    "# none of these computation *does* anuthing until we iterate\n",
    "data = generate_natural_numbers()\n",
    "evens = (x for x in data if x % 2 == 0)\n",
    "even_squares = (x ** 2 for x in evens)\n",
    "even_squares_ending_in_six = (x for x in even_squares if x % 10 == 6)\n",
    "# and so on"
   ]
  },
  {
   "cell_type": "markdown",
   "id": "a9dd6c32-8aea-4f06-994e-d6092852c9a1",
   "metadata": {},
   "source": [
    "ot infrequently, when we’re iterating over a list or a generator we’ll want not just the values but also their indices. For this common case Python provides an function, which turns values into pairs\n",
    "`(index, value):`"
   ]
  },
  {
   "cell_type": "code",
   "execution_count": 105,
   "id": "2a315c26-632d-43bb-bcf0-97a742fe0671",
   "metadata": {},
   "outputs": [
    {
     "name": "stdout",
     "output_type": "stream",
     "text": [
      "name 0 is Alice\n",
      "name 1 is Bob\n",
      "name 2 is Charlie\n",
      "name 3 is Debbie\n",
      "name 0 is Alice\n",
      "name 1 is Bob\n",
      "name 2 is Charlie\n",
      "name 3 is Debbie\n",
      "name 0 is Alice\n",
      "name 1 is Bob\n",
      "name 2 is Charlie\n",
      "name 3 is Debbie\n"
     ]
    }
   ],
   "source": [
    "names = ['Alice', 'Bob', 'Charlie', 'Debbie']\n",
    "\n",
    "# not pythonic\n",
    "for i in range(len(names)):\n",
    "    print(f'name {i} is {names[i]}')\n",
    "    \n",
    "# also not pythonic\n",
    "i = 0\n",
    "for name in names:\n",
    "    print(f'name {i} is {names[i]}')\n",
    "    i += 1\n",
    "    \n",
    "# pythonic\n",
    "for i, name in enumerate(names):\n",
    "    print(f'name {i} is {name}')"
   ]
  },
  {
   "cell_type": "markdown",
   "id": "6c76b710-bf21-4f0c-ae92-3055dfc57a1f",
   "metadata": {},
   "source": [
    "### Randomness"
   ]
  },
  {
   "cell_type": "markdown",
   "id": "10c7b5f3-a0bd-4740-95ed-883ee9c2dd25",
   "metadata": {},
   "source": [
    "As we learn data science, we will frequently need to generate random numbers, "
   ]
  },
  {
   "cell_type": "code",
   "execution_count": 108,
   "id": "6f1d3321-f51b-4450-92e7-b7bf7d5e73df",
   "metadata": {},
   "outputs": [
    {
     "data": {
      "text/plain": [
       "[0.5714025946899135,\n",
       " 0.4288890546751146,\n",
       " 0.5780913011344704,\n",
       " 0.20609823213950174]"
      ]
     },
     "execution_count": 108,
     "metadata": {},
     "output_type": "execute_result"
    }
   ],
   "source": [
    "import random\n",
    "random.seed(10)  # this ensures we get the same results every time\n",
    "\n",
    "four_uniform_randoms = [random.random() for __ in range(0, 4)]\n",
    "\n",
    "four_uniform_randoms"
   ]
  },
  {
   "cell_type": "markdown",
   "id": "20e6f513-ed49-4b36-8430-3408978df253",
   "metadata": {},
   "source": [
    "The `random` module actually produces _pseudorandom_ (that is, determinisitc)\n",
    "numbers based on an internal state that you can set with `random.seed` if you\n",
    "want to get reproducible results:"
   ]
  },
  {
   "cell_type": "code",
   "execution_count": 109,
   "id": "9737a34d-5913-4cfe-b7fa-0a0e5dda34bd",
   "metadata": {},
   "outputs": [
    {
     "name": "stdout",
     "output_type": "stream",
     "text": [
      "0.5714025946899135\n",
      "0.5714025946899135\n"
     ]
    }
   ],
   "source": [
    "random.seed(10)\n",
    "print(random.random())\n",
    "\n",
    "random.seed(10)\n",
    "print(random.random())"
   ]
  },
  {
   "cell_type": "markdown",
   "id": "32ece196-91ea-4992-8522-7971407cfec1",
   "metadata": {},
   "source": [
    "We’ll sometimes use `random.randrange`, which takes either one or two arguments and returns an element chosen randomly from the corresponding `range`:"
   ]
  },
  {
   "cell_type": "code",
   "execution_count": 112,
   "id": "d1efebd3-3ed2-4fea-bf62-2530dfcae8fc",
   "metadata": {},
   "outputs": [
    {
     "data": {
      "text/plain": [
       "9"
      ]
     },
     "execution_count": 112,
     "metadata": {},
     "output_type": "execute_result"
    }
   ],
   "source": [
    "# choose randomly from range(10) = [0, 1, 2, ..., 9]\n",
    "random.randrange(10)"
   ]
  },
  {
   "cell_type": "code",
   "execution_count": 113,
   "id": "50193a0b-d56b-4107-83b6-1e1ac5303116",
   "metadata": {},
   "outputs": [
    {
     "data": {
      "text/plain": [
       "3"
      ]
     },
     "execution_count": 113,
     "metadata": {},
     "output_type": "execute_result"
    }
   ],
   "source": [
    "# choose randomly from range(3, 6) = [3, 4, 5]\n",
    "random.randrange(3, 6)"
   ]
  },
  {
   "cell_type": "markdown",
   "id": "dd5998c2-2b17-439d-8a06-649a74fea6b8",
   "metadata": {},
   "source": [
    "There are a few more methods that we’ll sometimes find convenient. For example,\n",
    "`random.shuffle` randomly reorders the elements of a list:"
   ]
  },
  {
   "cell_type": "code",
   "execution_count": 114,
   "id": "3398df53-8538-4ed4-b576-ba6cace87cba",
   "metadata": {},
   "outputs": [
    {
     "name": "stdout",
     "output_type": "stream",
     "text": [
      "[10, 5, 6, 1, 2, 3, 7, 9, 8, 4]\n"
     ]
    }
   ],
   "source": [
    "up_to_ten = [1, 2, 3, 4, 5, 6, 7, 8, 9, 10]\n",
    "random.shuffle(up_to_ten)\n",
    "print(up_to_ten)"
   ]
  },
  {
   "cell_type": "code",
   "execution_count": 115,
   "id": "1587301c-45ba-41e2-a1b8-69520e31413c",
   "metadata": {},
   "outputs": [],
   "source": [
    "# if you need to randomly pick one element from a list\n",
    "# you can use random.choice:\n",
    "my_best_friend = random.choice(['Alice', 'Bob', 'Charlie'])"
   ]
  },
  {
   "cell_type": "markdown",
   "id": "45d6c393-ca84-4bc7-bf55-602f347aea16",
   "metadata": {},
   "source": [
    "And if you need to randomly choose a sample of elements without replacement\n",
    "(i.e., with no duplicates), you can use `random.sample`:"
   ]
  },
  {
   "cell_type": "code",
   "execution_count": 116,
   "id": "55102aa2-90ac-4667-808e-805f5c5e51d6",
   "metadata": {},
   "outputs": [
    {
     "data": {
      "text/plain": [
       "[4, 15, 47, 23, 2, 26]"
      ]
     },
     "execution_count": 116,
     "metadata": {},
     "output_type": "execute_result"
    }
   ],
   "source": [
    "lottery_numbers = range(0, 60)\n",
    "winning_numbers = random.sample(lottery_numbers, 6)\n",
    "\n",
    "winning_numbers"
   ]
  },
  {
   "cell_type": "markdown",
   "id": "a76b3a0d-8d8f-40fb-b80a-fd35e7938d59",
   "metadata": {},
   "source": [
    "To choose a sample of elements with replacement \n",
    "(i.e., allowing duplicates), you can just make multiple calls to `random.choice`:\n"
   ]
  },
  {
   "cell_type": "code",
   "execution_count": 117,
   "id": "670d2513-c6ce-403a-9f0e-42c2203b442f",
   "metadata": {},
   "outputs": [
    {
     "name": "stdout",
     "output_type": "stream",
     "text": [
      "[2, 9, 5, 6]\n"
     ]
    }
   ],
   "source": [
    "four_with_replacement = [random.choice(range(0, 10)) for __ in range(0, 4)]\n",
    "print(four_with_replacement)"
   ]
  },
  {
   "cell_type": "markdown",
   "id": "87dd10ac-20c0-4aef-b2a9-acb88dd0561a",
   "metadata": {},
   "source": [
    "### Regular Expressions"
   ]
  },
  {
   "cell_type": "markdown",
   "id": "bbbc7149-80aa-4da5-81f5-12cec79e65dd",
   "metadata": {},
   "source": [
    "Regular expressions provide a way of searching text. They are incredibly useful, but also fairly complicated—so much so that there are entire books written about them. We will get into their details the few times we encounter them; here are a few examples of how to use them in Python:"
   ]
  },
  {
   "cell_type": "code",
   "execution_count": 118,
   "id": "e1ab2652-6197-43da-9ef7-f2f12a9e9811",
   "metadata": {},
   "outputs": [],
   "source": [
    "import re\n",
    "\n",
    "re_examples = [\n",
    "    not re.match('a', 'cat'),\n",
    "    re.search('a', 'cat'),\n",
    "    not re.search('c', 'dog'),\n",
    "    3 == len(re.split('[ab]', 'carbs')),\n",
    "    'R-D-' == re.sub('[0-9]', '-', 'R2D2')\n",
    "]\n",
    "\n",
    "assert all(re_examples), 'all the regex examples should be True'"
   ]
  },
  {
   "cell_type": "raw",
   "id": "39ee2411-27d5-4f3a-a9b7-cb13ce0abd22",
   "metadata": {},
   "source": [
    "One important thing to note is that `re.match` checks whether the beginning of a string amtches a regular expresion, while `re.search` checks whether any part of a string matches a regular expression. At some point you will mix these two up and it will cause your grief."
   ]
  },
  {
   "cell_type": "markdown",
   "id": "b1133b72-4f2b-4614-86bd-52b2951afc5b",
   "metadata": {},
   "source": [
    "### zip and Argument Unpacking"
   ]
  },
  {
   "cell_type": "markdown",
   "id": "17e7dbc4-b52f-495d-b33b-a7ad7533a9ab",
   "metadata": {},
   "source": [
    "Often we will need to zip two or more iterables together. The `zip` function transforms multiple iterables into a single iterable of tuples of corresponding function:"
   ]
  },
  {
   "cell_type": "code",
   "execution_count": 121,
   "id": "952a4af4-35a1-471f-a0b1-38e5ac8ea694",
   "metadata": {},
   "outputs": [
    {
     "data": {
      "text/plain": [
       "<zip at 0x7feab0bb1050>"
      ]
     },
     "execution_count": 121,
     "metadata": {},
     "output_type": "execute_result"
    }
   ],
   "source": [
    "list1 = ['a', 'b', 'c']\n",
    "list2 = [1, 2, 3]\n",
    "\n",
    "# zip is lazy\n",
    "zip(list1, list2)"
   ]
  },
  {
   "cell_type": "code",
   "execution_count": 122,
   "id": "c642fff2-2dfd-43ef-8cdc-0b2b1e167fbc",
   "metadata": {},
   "outputs": [
    {
     "data": {
      "text/plain": [
       "[('a', 1), ('b', 2), ('c', 3)]"
      ]
     },
     "execution_count": 122,
     "metadata": {},
     "output_type": "execute_result"
    }
   ],
   "source": [
    "[pair for pair in zip(list1, list2)]"
   ]
  },
  {
   "cell_type": "markdown",
   "id": "9e991f18-a1aa-434f-a039-4c43d22ff358",
   "metadata": {},
   "source": [
    "If the lists are different lengths, stops as soon as the first list ends."
   ]
  },
  {
   "cell_type": "markdown",
   "id": "eb956115-4426-4dbc-a33c-3addf3f6c66a",
   "metadata": {},
   "source": [
    "You can also “unzip” a list using a strange trick:"
   ]
  },
  {
   "cell_type": "code",
   "execution_count": 124,
   "id": "54bf5ece-9471-41d2-9a55-ffc506aa38b9",
   "metadata": {},
   "outputs": [
    {
     "name": "stdout",
     "output_type": "stream",
     "text": [
      "('a', 'b', 'c') (1, 2, 3)\n"
     ]
    }
   ],
   "source": [
    "pairs = [('a', 1), ('b', 2), ('c', 3)]\n",
    "letters, numbers = zip(*pairs)\n",
    "print(letters, numbers)"
   ]
  },
  {
   "cell_type": "markdown",
   "id": "d1599b7a-85c8-4d64-ac7a-1e7cac4906a8",
   "metadata": {},
   "source": [
    "The asterisk (`*`) performs argument unpacking, which uses the elements of `pairs` as individual arguments to . It ends up the same as if you’d\n",
    "called:\n"
   ]
  },
  {
   "cell_type": "code",
   "execution_count": 125,
   "id": "d32d078c-63b2-418c-b27c-15d76cce8ef3",
   "metadata": {},
   "outputs": [],
   "source": [
    "letters, numbers = zip(('a', 1), ('b', 2), ('c', 3))"
   ]
  },
  {
   "cell_type": "markdown",
   "id": "67dd115c-2542-41b7-aa0a-b1d3aff18cc5",
   "metadata": {},
   "source": [
    "You can use argument unpacking with any function:"
   ]
  },
  {
   "cell_type": "code",
   "execution_count": 126,
   "id": "cb2d3eef-ae84-4526-a54c-f09931a05f6a",
   "metadata": {},
   "outputs": [
    {
     "name": "stdout",
     "output_type": "stream",
     "text": [
      "3\n",
      "add expects two inputs\n",
      "3\n"
     ]
    }
   ],
   "source": [
    "def add(a, b):\n",
    "    return a + b\n",
    "\n",
    "print(add(1, 2))\n",
    "\n",
    "try:\n",
    "    add([1, 2])\n",
    "except TypeError:\n",
    "    print('add expects two inputs')\n",
    "\n",
    "print(add(*[1, 2]))"
   ]
  },
  {
   "cell_type": "markdown",
   "id": "52ec81d9-862d-47d3-98c2-7bd0077d5c10",
   "metadata": {},
   "source": [
    "### `args` and `kwargs`"
   ]
  },
  {
   "cell_type": "markdown",
   "id": "e6c605b1-bce1-45a3-9d4c-d405a8d5e7ed",
   "metadata": {},
   "source": [
    "Let’s say we want to create a higher-order function that takes as input some function `f` and returns a new function that for any input returns twice the\n",
    "the value of `f`"
   ]
  },
  {
   "cell_type": "code",
   "execution_count": 127,
   "id": "5285af08-8314-41be-aadf-bf85a717a793",
   "metadata": {},
   "outputs": [],
   "source": [
    "def doubler(f):\n",
    "    # here we define a new funciton that keeps a reference to f\n",
    "    def g(x):\n",
    "        return 2 * f(x)\n",
    "    # and return that new function\n",
    "    return g"
   ]
  },
  {
   "cell_type": "code",
   "execution_count": 128,
   "id": "7025d4bb-82d5-4be4-a805-a7efbfb71f9a",
   "metadata": {},
   "outputs": [],
   "source": [
    "# this works in some cases:\n",
    "def f1(x):\n",
    "    return x + 1\n",
    "\n",
    "g = doubler(f1)\n",
    "assert g(3) == 8, '(3 + 1) * 2 should equal 8'\n",
    "assert g(-1) == 0, '(-1 + 1) * 2 should equal 0'"
   ]
  },
  {
   "cell_type": "code",
   "execution_count": 129,
   "id": "8858376e-787a-4cf6-bd67-6e0091726110",
   "metadata": {},
   "outputs": [
    {
     "name": "stdout",
     "output_type": "stream",
     "text": [
      "as defined, g only takes one argument\n"
     ]
    }
   ],
   "source": [
    "# however, it doesn't work with functions that make more thana  single\n",
    "# argument\n",
    "def f2(x, y):\n",
    "    return x + y\n",
    "\n",
    "g = doubler(f2)\n",
    "try:\n",
    "    g(1, 2)\n",
    "except TypeError:\n",
    "    print('as defined, g only takes one argument')"
   ]
  },
  {
   "cell_type": "markdown",
   "id": "51faa04e-8323-41e4-89a4-aff1af1b2113",
   "metadata": {},
   "source": [
    "What we need is a way to specify a function that takes arbitrary arguments. We can do this with argument unpacking and a little bit of magic:"
   ]
  },
  {
   "cell_type": "code",
   "execution_count": 131,
   "id": "d78cbb6b-737b-414d-98d9-012622f4c2fa",
   "metadata": {},
   "outputs": [
    {
     "name": "stdout",
     "output_type": "stream",
     "text": [
      "unnamed args: (1, 2)\n",
      "keyword args: {'key': 'word', 'key2': 'word2'}\n"
     ]
    }
   ],
   "source": [
    "def magic(*args, **kwargs):\n",
    "    print('unnamed args:', args)\n",
    "    print('keyword args:', kwargs)\n",
    "    return\n",
    "\n",
    "magic(1, 2, key='word', key2='word2')"
   ]
  },
  {
   "cell_type": "markdown",
   "id": "6e84d4cf-fc02-4016-8195-5e611651faf9",
   "metadata": {},
   "source": [
    "That is, when we define a function like this, is a tuple of its unnamed arguments and is a of its named arguments amd `kwargs` is a `dict` of its named arguments. It works the other\n",
    "way too, if you want to use a  `list` (or `tuple`) and `dict` to supply arguments to a function:"
   ]
  },
  {
   "cell_type": "code",
   "execution_count": 137,
   "id": "8686a9f9-71ed-461a-b2e8-839b9ef2220f",
   "metadata": {},
   "outputs": [],
   "source": [
    "def other_way_magic(x, y, z):\n",
    "    return x + y + z\n",
    "\n",
    "x_y_list = [1, 2]\n",
    "z_dict = {'z': 3}\n",
    "assert other_way_magic(*x_y_list, **z_dict) == 6, '1 + 2 + 3 should be 6'"
   ]
  },
  {
   "cell_type": "markdown",
   "id": "85ced16e-3f1d-4f27-8657-51fa7921462b",
   "metadata": {},
   "source": [
    "You could do all sorts of strange tricks with this; we will only use it to produce higher-order functions whose inputs can accept arbitrary arguments:"
   ]
  },
  {
   "cell_type": "code",
   "execution_count": 142,
   "id": "6be18f61-9212-4788-9c47-e63f0f4fcadf",
   "metadata": {},
   "outputs": [],
   "source": [
    "def doubler_correct(f):\n",
    "    \"\"\"works no matter what kind of inputs f expects\"\"\"\n",
    "    def g(*args, **kwargs):\n",
    "        \"\"\"whatever arguments g is supplied, pass them through to f\"\"\"\n",
    "        return 2 * f(*args, **kwargs)\n",
    "    return g\n",
    "\n",
    "g = doubler_correct(f2)\n",
    "assert g(1, 2) == 6, 'doubler should work now'"
   ]
  },
  {
   "cell_type": "markdown",
   "id": "46785796-fbfe-44d5-b3c5-a0f6e59505c5",
   "metadata": {},
   "source": [
    "### Type Annotations"
   ]
  },
  {
   "cell_type": "markdown",
   "id": "a297364e-66c3-43ec-a6a7-e41a8b4a28bb",
   "metadata": {},
   "source": [
    "Python is a dynamically typed language. That means that it in general it doesn’t care about the types of objects we use, as long as we use them in valid ways:"
   ]
  },
  {
   "cell_type": "code",
   "execution_count": 144,
   "id": "ecf9c3d9-cb12-4f11-b41e-51ac5a233e37",
   "metadata": {},
   "outputs": [
    {
     "name": "stdout",
     "output_type": "stream",
     "text": [
      "cannot add an int to a string\n"
     ]
    }
   ],
   "source": [
    "def add(a, b):\n",
    "    return a + b\n",
    "\n",
    "assert add(10, 5) == 15, '+ is valid for numbers'\n",
    "assert add([1, 2], [3]) == [1, 2, 3], '+ is valid for lists'\n",
    "assert add('hi ', 'there') == 'hi there', '+ is valid for strings'\n",
    "\n",
    "try:\n",
    "    add(10, 'five')\n",
    "except TypeError:\n",
    "    print('cannot add an int to a string')"
   ]
  },
  {
   "cell_type": "markdown",
   "id": "58a8cf71-56df-435b-acf2-529be70c3c0f",
   "metadata": {},
   "source": [
    "whereas in a statically typed language our functions and objects would have specific types:\n"
   ]
  },
  {
   "cell_type": "code",
   "execution_count": 145,
   "id": "51dc43ff-d157-4e95-b83d-0520a7c85464",
   "metadata": {},
   "outputs": [
    {
     "data": {
      "text/plain": [
       "'hi there'"
      ]
     },
     "execution_count": 145,
     "metadata": {},
     "output_type": "execute_result"
    }
   ],
   "source": [
    "def add(a:int, b:int) -> int:\n",
    "    return a + b\n",
    "\n",
    "add(10, 5)\n",
    "add('hi ', 'there')"
   ]
  },
  {
   "cell_type": "markdown",
   "id": "550a48b2-f6ba-4c9a-b56a-2c1755d9a98a",
   "metadata": {},
   "source": [
    "In fact, recent versions of Python do (sort of) have this functionality. The preceding version of with the type annotations is valid Python 3.6!\n",
    "However, these type annotations don’t actually do anything. You can still use the annotated function to add strings, and the call to `add(10, 'five')` \n",
    "will still raise the exact same `TypeError`.\n",
    "\n",
    "That said, there are still (at least) four good reasons to use type annotations in your Python code:\n",
    "\n",
    "- ypes are an important form of documentation. This is doubly true in a book that is using code to teach you theoretical and mathematical concepts. Compare the following two function stubs:\n",
    "\n",
    "```python\n",
    "def dot_product(x, y):\n",
    "    ...\n",
    "    \n",
    "def dot_product(x: Vector, y:Vector) -> float:\n",
    "    ...\n",
    "```\n",
    "\n",
    "I find the second one exceedingly more informative; hopefully you do too. (At this point I have gotten so used to type hinting that I now find untyped Python difficult to read.)\n",
    "\n"
   ]
  },
  {
   "cell_type": "markdown",
   "id": "7473beaa-1967-429e-b24f-b4d6c8cf1498",
   "metadata": {},
   "source": [
    "- There are external tools (the most popular is ) that will read your code, inspect the type annotations, and let you know about type errors before you ever run your code. For example, if you ran `mypy` over a file containing `add('hi ', there')`, it would warn you:\n",
    "\n",
    "`error: Argument 1 to \"add\" has incompatible type \"str\"; expected \"int\"`\n",
    "\n",
    "\n",
    "Like `assert` testing, this is a good way to find mistakes in your code before you ever run it. The narrative in the book will not involve such a type checker; however, behind the scenes I will be running one, which will help ensure that the book itself is correct.\n"
   ]
  },
  {
   "cell_type": "markdown",
   "id": "ed59110b-c6ea-4b26-a861-ca7c521075dd",
   "metadata": {},
   "source": [
    "- Having to think about the types in your code forces you to design cleaner functions and interfaces."
   ]
  },
  {
   "cell_type": "markdown",
   "id": "d6fc4efb-7b0f-4c87-b122-181a59662cb0",
   "metadata": {},
   "source": [
    "Sometimes people insist that type hints may be valuable on\n",
    "large projects but are not worth the time for small ones.\n",
    "However, since type hints take almost no additional time\n",
    "to type and allow your editor to save you time, I maintain\n",
    "that they actually allow you to write code more quickly, even for small projects."
   ]
  },
  {
   "cell_type": "markdown",
   "id": "e9b5d919-0681-4e6c-952e-9b427fd98698",
   "metadata": {},
   "source": [
    "#### How to Write Type Annotations"
   ]
  },
  {
   "cell_type": "markdown",
   "id": "0a3d7b1e-974e-4c3d-915e-d27d72ee8e91",
   "metadata": {},
   "source": [
    "As we’ve seen, for built-in types like `int` and `bool` and `float` , you just use the type itself as the annotation. What if you had (say) a `list`?\n",
    " "
   ]
  },
  {
   "cell_type": "code",
   "execution_count": 148,
   "id": "38eadabe-09d3-464a-a6db-1248f8211009",
   "metadata": {},
   "outputs": [],
   "source": [
    "def total(xs: list) -> float:\n",
    "    return sum(total)\n"
   ]
  },
  {
   "cell_type": "markdown",
   "id": "f5520658-7fb4-4c9c-bd87-29f9e7990288",
   "metadata": {},
   "source": [
    "This isn’t wrong, but the type is not specific enough. It’s clear we really want\n",
    "`xs` to be a `list` of `floats` , not (say) a `list` of strings."
   ]
  },
  {
   "cell_type": "markdown",
   "id": "a51f9bee-87fb-434a-bd73-0e35d9b45b05",
   "metadata": {},
   "source": [
    "The module provides a number of parameterized types that we can use to do just this:\n"
   ]
  },
  {
   "cell_type": "code",
   "execution_count": 149,
   "id": "5675bcc4-03be-468f-a533-801a2c0d159d",
   "metadata": {},
   "outputs": [],
   "source": [
    "from typing import List   # note capital L\n",
    "\n",
    "def total(xs: List[float]) -> float:\n",
    "    return sum(total)"
   ]
  },
  {
   "cell_type": "markdown",
   "id": "0f97a433-c067-49db-8689-9ac6a6b40ed0",
   "metadata": {},
   "source": [
    "Up until now we’ve only specified annotations for function parameters and return types. For variables themselves it’s usually obvious what the type is:"
   ]
  },
  {
   "cell_type": "code",
   "execution_count": 151,
   "id": "9d96240c-55b7-4bbd-9ae9-d6c96c92f04c",
   "metadata": {},
   "outputs": [],
   "source": [
    "# this is how to type-annotate variables when you\n",
    "# define them. but this is unnecessary, its obvious x is an int\n",
    "x: int = 5"
   ]
  },
  {
   "cell_type": "code",
   "execution_count": 152,
   "id": "51e860a3-0dd9-42a5-8024-a31b6b2d6d2a",
   "metadata": {},
   "outputs": [],
   "source": [
    "# however, sometimes it's not obvious\n",
    "values = []           # what's my type\n",
    "best_so_far = None    # what's my type"
   ]
  },
  {
   "cell_type": "markdown",
   "id": "01fd78f7-b18b-4e31-9665-4da9e26e52a0",
   "metadata": {},
   "source": [
    "In such cases we will supply inline type hints:"
   ]
  },
  {
   "cell_type": "code",
   "execution_count": 153,
   "id": "0c201941-4a88-460b-9b3b-c2c431dac5c4",
   "metadata": {},
   "outputs": [],
   "source": [
    "from typing import Optional\n",
    "\n",
    "values: List[int] = []\n",
    "best_so_far: Optional[float] = None  # allowed to be either float or None"
   ]
  },
  {
   "cell_type": "markdown",
   "id": "50411e89-2ddf-4b5f-a036-3fdd2282ef1b",
   "metadata": {},
   "source": [
    "The `typing` module contains many other types, only a few of which we’ll ever use:"
   ]
  },
  {
   "cell_type": "code",
   "execution_count": 156,
   "id": "7e3206ff-2800-4ab9-b611-9a6b9df801c2",
   "metadata": {},
   "outputs": [],
   "source": [
    "# the type annotations in this snippet are all unnecesary\n",
    "from typing import Dict, Iterable, Tuple\n",
    "\n",
    "# keys are strings, values are int\n",
    "counts: Dict[str, int] = {'data': 1, 'science': 2}\n",
    "\n",
    "# lists and generators are both iterable\n",
    "lazy = random.choice([True, False])\n",
    "if lazy:\n",
    "    evens: Iterable[int] = (x for x in range(0, 10) if x % 2 == 0)\n",
    "else:\n",
    "    evens = [0, 2, 4, 6, 8]\n",
    "    \n",
    "# tuples specify a type for each element\n",
    "triple: Tuple[int, float, int] = (10, 2.3, 5)"
   ]
  },
  {
   "cell_type": "markdown",
   "id": "4af73a88-cddb-4622-96c8-41e12e5d40e3",
   "metadata": {},
   "source": [
    "Finally, since Python has first-class functions, we need a type to represent those as well. Here’s a pretty contrived example:"
   ]
  },
  {
   "cell_type": "code",
   "execution_count": 159,
   "id": "f9f6c13b-30b6-4719-afd2-6f7a11e55ac0",
   "metadata": {},
   "outputs": [],
   "source": [
    "from typing import Callable\n",
    "\n",
    "# the type hint says that repeater is a function that takes\n",
    "# two arguments, a string and an int, and returns a string\n",
    "def twice(repeater: Callable[[str, int], str], s:str) -> str:\n",
    "    return repeater(s, 2)\n",
    "\n",
    "\n",
    "\n",
    "#             a fun | arg1 | arg2 | return\n",
    "# repeater: Callable[[str,  int],   str]\n",
    "# ---> Callable[[list_of_types_for_args], list_of_types_for_return]\n",
    "\n",
    "\n",
    "def comma_repeater(s: str, n:int) -> str:\n",
    "    n_copies = [s for __ in range(0, n)]\n",
    "    return ', '.join(n_copies)\n",
    "\n",
    "\n",
    "assert twice(comma_repeater, 'type hints') == 'type hints, type hints'"
   ]
  },
  {
   "cell_type": "markdown",
   "id": "6faa2bff-09db-4d16-a814-ccb0a03ac522",
   "metadata": {},
   "source": [
    "As type annotations are just Python objects, we can assign them to variables to make them easier to refer to:"
   ]
  },
  {
   "cell_type": "code",
   "execution_count": 160,
   "id": "b0cf5f2a-33d3-4fab-9531-7dc68bc129c9",
   "metadata": {},
   "outputs": [],
   "source": [
    "Number = int\n",
    "Numbers = List[Number]\n",
    "\n",
    "def total(xs: Numbers) -> Number:\n",
    "    return sum(xs)"
   ]
  },
  {
   "cell_type": "code",
   "execution_count": null,
   "id": "47cc2363-3af9-49a6-9de2-485fd80a255d",
   "metadata": {},
   "outputs": [],
   "source": []
  }
 ],
 "metadata": {
  "kernelspec": {
   "display_name": "Python 3 (ipykernel)",
   "language": "python",
   "name": "python3"
  },
  "language_info": {
   "codemirror_mode": {
    "name": "ipython",
    "version": 3
   },
   "file_extension": ".py",
   "mimetype": "text/x-python",
   "name": "python",
   "nbconvert_exporter": "python",
   "pygments_lexer": "ipython3",
   "version": "3.7.9"
  }
 },
 "nbformat": 4,
 "nbformat_minor": 5
}
